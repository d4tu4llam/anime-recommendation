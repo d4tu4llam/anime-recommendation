{
  "cells": [
    {
      "cell_type": "markdown",
      "metadata": {
        "id": "TPuGECh09rvW"
      },
      "source": [
        "# System Reccomendation : Anime Reccomendation\n",
        "- **Nama:** HILMI DATU ALLAM\n",
        "- **Email:** hilmi.allam@gmail.com\n",
        "- **ID Dicoding:** datuallam\n",
        "\n",
        "- **Dataset:** https://www.kaggle.com/datasets/CooperUnion/anime-recommendations-database?select=anime.csv\n",
        "\n",
        "\n"
      ]
    },
    {
      "cell_type": "markdown",
      "metadata": {
        "id": "fvl97g4r9rvY"
      },
      "source": [
        "# Domain Proyek\n",
        "Anime merupakan salah satu konten yang paling banyak dikonsumsi. Anime baru terus bertambah setiap tahun membuat pengguna kesulitan menemukan tontonan yang sesuai dengan preferensi mereka, dan hal ini berdampak langsung pada keberhasilan bisnis platform penyedia konten. Dengan menghadirkan sistem rekomendasi yang efektif dan personal, platform dapat meningkatkan retensi pengguna dan durasi waktu menonton, yang pada akhirnya mendorong pertumbuhan pendapatan. Studi dari Netflix menunjukkan bahwa lebih dari 80% tontonan berasal dari sistem rekomendasi, menjadikannya komponen vital dalam strategi bisnis digital mereka [1]. Selain itu, sistem ini juga membuka peluang monetisasi melalui iklan tertarget dan promosi konten eksklusif berbasis minat pengguna. MyAnimeList telah mencatat lebih dari 10.000 judul anime dalam databasenya [2], maka kehadiran sistem penyaring cerdas sangat diperlukan untuk menciptakan pengalaman pengguna yang efisien dan memuaskan. Menurut Ricci et al.[3], sistem rekomendasi yang baik dapat menjadi alat bisnis strategis yang tidak hanya meningkatkan kepuasan pengguna, tetapi juga memperkuat loyalitas dan nilai ekonomi jangka panjang."
      ]
    },
    {
      "cell_type": "markdown",
      "source": [
        "# Mengapa masalah ini harus diselesaikan\n",
        " 1. Pendorong Pertumbuhan Pendapatan Bisnis\n",
        " 2. Penciptaan Pengalaman Pengguna yang Efisien dan Memuaskan"
      ],
      "metadata": {
        "id": "adV_tFMRptax"
      }
    },
    {
      "cell_type": "markdown",
      "metadata": {
        "id": "ioQt-BUF9rvZ"
      },
      "source": [
        "# Business Understanding"
      ]
    },
    {
      "cell_type": "markdown",
      "metadata": {
        "id": "oS2FrL4-9rvZ"
      },
      "source": [
        "## Problem Statements"
      ]
    },
    {
      "cell_type": "markdown",
      "metadata": {
        "id": "EC1SY9q39rvZ"
      },
      "source": [
        "Rumusan masalah dari masalah latar belakang diatas adalah\n",
        "  1. bagaimana pesebaran anime berdasarkan genre dan type distribution\n",
        "  2. bagaimana member komunitas mempengaruhi rating\n",
        "  3. bagaimana cara membuat sistem rekomendasi terbaik yang dapat diimplesikan ?"
      ]
    },
    {
      "cell_type": "markdown",
      "metadata": {
        "id": "T91mzqLj9rva"
      },
      "source": [
        "## GOALS"
      ]
    },
    {
      "cell_type": "markdown",
      "metadata": {
        "id": "L3gQOAEc9rva"
      },
      "source": [
        "Berdasarkan problem statements, berikut tujuan dibuatnya proyek ini.\n",
        "  1. Mengetahui persebaran anime berdasarkan genre dan type distribution\n",
        "  2. Mengetahui member komunitas anime\n",
        "  3. Menggunakan algoritma cosine similiarity maupun pemodelan machine learning untuk membuat sistem rekomendasi, lalu mengevaluasi menggunakan"
      ]
    },
    {
      "cell_type": "markdown",
      "metadata": {
        "id": "ZgReF9xQ9rva"
      },
      "source": [
        "## Solution Statements"
      ]
    },
    {
      "cell_type": "markdown",
      "metadata": {
        "id": "-EblHNzK9rva"
      },
      "source": [
        "\n",
        "1. Mengimplementasikan Exploratory Data Analysis (EDA) untuk analisis dan visualisasi data.\n",
        "2. Mengimplementasikan content-based filtering approach menggunakan algoritma cosine similarity.\n",
        "3. Mengimplementasikan collaborative-based filtering approach menggunakan algoritma deep learning.\n",
        "4. Evaluasi Performa Model setelah model dibangun, evaluasi performa akan dilakukan menggunakan metrik seperti Precision dan Root Mean Squared Error. Ini akan memberikan wawasan tentang efektivitas model dalam merekomendasikan anime yang relevan kepada pengguna."
      ]
    },
    {
      "cell_type": "markdown",
      "source": [
        "# Data Understanding"
      ],
      "metadata": {
        "id": "Pej67rENtp2R"
      }
    },
    {
      "cell_type": "markdown",
      "metadata": {
        "id": "HNa0uGu-9rvb"
      },
      "source": [
        "## 1. Mengimport Library\n"
      ]
    },
    {
      "cell_type": "markdown",
      "metadata": {
        "id": "iH0gzlXH9rvb"
      },
      "source": [
        "Pada bagian ini kita mengimport seluruh library yang diperlukan untuk menganalisis"
      ]
    },
    {
      "cell_type": "code",
      "execution_count": 1,
      "metadata": {
        "colab": {
          "base_uri": "https://localhost:8080/"
        },
        "id": "MLSo95YU9rvb",
        "outputId": "bd4ca9f6-51d3-4588-ae74-639d11e297d8"
      },
      "outputs": [
        {
          "output_type": "stream",
          "name": "stdout",
          "text": [
            "Requirement already satisfied: kaggle in /usr/local/lib/python3.11/dist-packages (1.7.4.5)\n",
            "Requirement already satisfied: bleach in /usr/local/lib/python3.11/dist-packages (from kaggle) (6.2.0)\n",
            "Requirement already satisfied: certifi>=14.05.14 in /usr/local/lib/python3.11/dist-packages (from kaggle) (2025.4.26)\n",
            "Requirement already satisfied: charset-normalizer in /usr/local/lib/python3.11/dist-packages (from kaggle) (3.4.2)\n",
            "Requirement already satisfied: idna in /usr/local/lib/python3.11/dist-packages (from kaggle) (3.10)\n",
            "Requirement already satisfied: protobuf in /usr/local/lib/python3.11/dist-packages (from kaggle) (5.29.4)\n",
            "Requirement already satisfied: python-dateutil>=2.5.3 in /usr/local/lib/python3.11/dist-packages (from kaggle) (2.9.0.post0)\n",
            "Requirement already satisfied: python-slugify in /usr/local/lib/python3.11/dist-packages (from kaggle) (8.0.4)\n",
            "Requirement already satisfied: requests in /usr/local/lib/python3.11/dist-packages (from kaggle) (2.32.3)\n",
            "Requirement already satisfied: setuptools>=21.0.0 in /usr/local/lib/python3.11/dist-packages (from kaggle) (75.2.0)\n",
            "Requirement already satisfied: six>=1.10 in /usr/local/lib/python3.11/dist-packages (from kaggle) (1.17.0)\n",
            "Requirement already satisfied: text-unidecode in /usr/local/lib/python3.11/dist-packages (from kaggle) (1.3)\n",
            "Requirement already satisfied: tqdm in /usr/local/lib/python3.11/dist-packages (from kaggle) (4.67.1)\n",
            "Requirement already satisfied: urllib3>=1.15.1 in /usr/local/lib/python3.11/dist-packages (from kaggle) (2.4.0)\n",
            "Requirement already satisfied: webencodings in /usr/local/lib/python3.11/dist-packages (from kaggle) (0.5.1)\n"
          ]
        }
      ],
      "source": [
        "!pip install kaggle"
      ]
    },
    {
      "cell_type": "code",
      "execution_count": 2,
      "metadata": {
        "colab": {
          "base_uri": "https://localhost:8080/"
        },
        "id": "fuzJgHYQ9rvc",
        "outputId": "deae3d2f-6b15-4f54-c9ad-38d911cdb4ea"
      },
      "outputs": [
        {
          "output_type": "stream",
          "name": "stdout",
          "text": [
            "Requirement already satisfied: keras in /usr/local/lib/python3.11/dist-packages (3.8.0)\n",
            "Requirement already satisfied: absl-py in /usr/local/lib/python3.11/dist-packages (from keras) (1.4.0)\n",
            "Requirement already satisfied: numpy in /usr/local/lib/python3.11/dist-packages (from keras) (2.0.2)\n",
            "Requirement already satisfied: rich in /usr/local/lib/python3.11/dist-packages (from keras) (14.0.0)\n",
            "Requirement already satisfied: namex in /usr/local/lib/python3.11/dist-packages (from keras) (0.0.9)\n",
            "Requirement already satisfied: h5py in /usr/local/lib/python3.11/dist-packages (from keras) (3.13.0)\n",
            "Requirement already satisfied: optree in /usr/local/lib/python3.11/dist-packages (from keras) (0.15.0)\n",
            "Requirement already satisfied: ml-dtypes in /usr/local/lib/python3.11/dist-packages (from keras) (0.5.1)\n",
            "Requirement already satisfied: packaging in /usr/local/lib/python3.11/dist-packages (from keras) (25.0)\n",
            "Requirement already satisfied: typing-extensions>=4.5.0 in /usr/local/lib/python3.11/dist-packages (from optree->keras) (4.13.2)\n",
            "Requirement already satisfied: markdown-it-py>=2.2.0 in /usr/local/lib/python3.11/dist-packages (from rich->keras) (3.0.0)\n",
            "Requirement already satisfied: pygments<3.0.0,>=2.13.0 in /usr/local/lib/python3.11/dist-packages (from rich->keras) (2.19.1)\n",
            "Requirement already satisfied: mdurl~=0.1 in /usr/local/lib/python3.11/dist-packages (from markdown-it-py>=2.2.0->rich->keras) (0.1.2)\n"
          ]
        }
      ],
      "source": [
        "!pip install keras\n"
      ]
    },
    {
      "cell_type": "code",
      "source": [
        "!pip install tensorflow"
      ],
      "metadata": {
        "colab": {
          "base_uri": "https://localhost:8080/"
        },
        "id": "Pzfh1zUIU79Q",
        "outputId": "2ad312ec-6617-4afb-9636-50520ec0eb3e"
      },
      "execution_count": 3,
      "outputs": [
        {
          "output_type": "stream",
          "name": "stdout",
          "text": [
            "Requirement already satisfied: tensorflow in /usr/local/lib/python3.11/dist-packages (2.19.0)\n",
            "Requirement already satisfied: absl-py>=1.0.0 in /usr/local/lib/python3.11/dist-packages (from tensorflow) (1.4.0)\n",
            "Requirement already satisfied: astunparse>=1.6.0 in /usr/local/lib/python3.11/dist-packages (from tensorflow) (1.6.3)\n",
            "Requirement already satisfied: flatbuffers>=24.3.25 in /usr/local/lib/python3.11/dist-packages (from tensorflow) (25.2.10)\n",
            "Requirement already satisfied: gast!=0.5.0,!=0.5.1,!=0.5.2,>=0.2.1 in /usr/local/lib/python3.11/dist-packages (from tensorflow) (0.6.0)\n",
            "Requirement already satisfied: google-pasta>=0.1.1 in /usr/local/lib/python3.11/dist-packages (from tensorflow) (0.2.0)\n",
            "Requirement already satisfied: libclang>=13.0.0 in /usr/local/lib/python3.11/dist-packages (from tensorflow) (18.1.1)\n",
            "Requirement already satisfied: opt-einsum>=2.3.2 in /usr/local/lib/python3.11/dist-packages (from tensorflow) (3.4.0)\n",
            "Requirement already satisfied: packaging in /usr/local/lib/python3.11/dist-packages (from tensorflow) (25.0)\n",
            "Requirement already satisfied: protobuf!=4.21.0,!=4.21.1,!=4.21.2,!=4.21.3,!=4.21.4,!=4.21.5,<6.0.0dev,>=3.20.3 in /usr/local/lib/python3.11/dist-packages (from tensorflow) (5.29.4)\n",
            "Requirement already satisfied: requests<3,>=2.21.0 in /usr/local/lib/python3.11/dist-packages (from tensorflow) (2.32.3)\n",
            "Requirement already satisfied: setuptools in /usr/local/lib/python3.11/dist-packages (from tensorflow) (75.2.0)\n",
            "Requirement already satisfied: six>=1.12.0 in /usr/local/lib/python3.11/dist-packages (from tensorflow) (1.17.0)\n",
            "Requirement already satisfied: termcolor>=1.1.0 in /usr/local/lib/python3.11/dist-packages (from tensorflow) (3.1.0)\n",
            "Requirement already satisfied: typing-extensions>=3.6.6 in /usr/local/lib/python3.11/dist-packages (from tensorflow) (4.13.2)\n",
            "Requirement already satisfied: wrapt>=1.11.0 in /usr/local/lib/python3.11/dist-packages (from tensorflow) (1.17.2)\n",
            "Requirement already satisfied: grpcio<2.0,>=1.24.3 in /usr/local/lib/python3.11/dist-packages (from tensorflow) (1.71.0)\n",
            "Requirement already satisfied: tensorboard~=2.19.0 in /usr/local/lib/python3.11/dist-packages (from tensorflow) (2.19.0)\n",
            "Requirement already satisfied: keras>=3.5.0 in /usr/local/lib/python3.11/dist-packages (from tensorflow) (3.8.0)\n",
            "Requirement already satisfied: numpy<2.2.0,>=1.26.0 in /usr/local/lib/python3.11/dist-packages (from tensorflow) (2.0.2)\n",
            "Requirement already satisfied: h5py>=3.11.0 in /usr/local/lib/python3.11/dist-packages (from tensorflow) (3.13.0)\n",
            "Requirement already satisfied: ml-dtypes<1.0.0,>=0.5.1 in /usr/local/lib/python3.11/dist-packages (from tensorflow) (0.5.1)\n",
            "Requirement already satisfied: tensorflow-io-gcs-filesystem>=0.23.1 in /usr/local/lib/python3.11/dist-packages (from tensorflow) (0.37.1)\n",
            "Requirement already satisfied: wheel<1.0,>=0.23.0 in /usr/local/lib/python3.11/dist-packages (from astunparse>=1.6.0->tensorflow) (0.45.1)\n",
            "Requirement already satisfied: rich in /usr/local/lib/python3.11/dist-packages (from keras>=3.5.0->tensorflow) (14.0.0)\n",
            "Requirement already satisfied: namex in /usr/local/lib/python3.11/dist-packages (from keras>=3.5.0->tensorflow) (0.0.9)\n",
            "Requirement already satisfied: optree in /usr/local/lib/python3.11/dist-packages (from keras>=3.5.0->tensorflow) (0.15.0)\n",
            "Requirement already satisfied: charset-normalizer<4,>=2 in /usr/local/lib/python3.11/dist-packages (from requests<3,>=2.21.0->tensorflow) (3.4.2)\n",
            "Requirement already satisfied: idna<4,>=2.5 in /usr/local/lib/python3.11/dist-packages (from requests<3,>=2.21.0->tensorflow) (3.10)\n",
            "Requirement already satisfied: urllib3<3,>=1.21.1 in /usr/local/lib/python3.11/dist-packages (from requests<3,>=2.21.0->tensorflow) (2.4.0)\n",
            "Requirement already satisfied: certifi>=2017.4.17 in /usr/local/lib/python3.11/dist-packages (from requests<3,>=2.21.0->tensorflow) (2025.4.26)\n",
            "Requirement already satisfied: markdown>=2.6.8 in /usr/lib/python3/dist-packages (from tensorboard~=2.19.0->tensorflow) (3.3.6)\n",
            "Requirement already satisfied: tensorboard-data-server<0.8.0,>=0.7.0 in /usr/local/lib/python3.11/dist-packages (from tensorboard~=2.19.0->tensorflow) (0.7.2)\n",
            "Requirement already satisfied: werkzeug>=1.0.1 in /usr/local/lib/python3.11/dist-packages (from tensorboard~=2.19.0->tensorflow) (3.1.3)\n",
            "Requirement already satisfied: MarkupSafe>=2.1.1 in /usr/local/lib/python3.11/dist-packages (from werkzeug>=1.0.1->tensorboard~=2.19.0->tensorflow) (3.0.2)\n",
            "Requirement already satisfied: markdown-it-py>=2.2.0 in /usr/local/lib/python3.11/dist-packages (from rich->keras>=3.5.0->tensorflow) (3.0.0)\n",
            "Requirement already satisfied: pygments<3.0.0,>=2.13.0 in /usr/local/lib/python3.11/dist-packages (from rich->keras>=3.5.0->tensorflow) (2.19.1)\n",
            "Requirement already satisfied: mdurl~=0.1 in /usr/local/lib/python3.11/dist-packages (from markdown-it-py>=2.2.0->rich->keras>=3.5.0->tensorflow) (0.1.2)\n"
          ]
        }
      ]
    },
    {
      "cell_type": "code",
      "source": [
        "import os\n",
        "import shutil\n",
        "import zipfile\n",
        "import textwrap\n",
        "import numpy as np\n",
        "import pandas as pd\n",
        "import seaborn as sns\n",
        "import matplotlib.pyplot as plt\n",
        "import tensorflow as tf\n",
        "from tensorflow import keras\n",
        "from tensorflow.keras import layers\n",
        "from sklearn.feature_extraction.text import TfidfVectorizer\n",
        "from sklearn.metrics.pairwise import cosine_similarity\n",
        "from sklearn.metrics import ConfusionMatrixDisplay, accuracy_score, classification_report\n",
        "import re\n"
      ],
      "metadata": {
        "id": "Pg4L8OXX91SN"
      },
      "execution_count": 69,
      "outputs": []
    },
    {
      "cell_type": "markdown",
      "source": [
        "## Data Loading"
      ],
      "metadata": {
        "id": "jKQ_v5-k97U5"
      }
    },
    {
      "cell_type": "code",
      "source": [
        "# Import module yang disediakan google colab untuk kebutuhan upload file credentials\n",
        "from google.colab import files\n",
        "files.upload()"
      ],
      "metadata": {
        "colab": {
          "base_uri": "https://localhost:8080/",
          "height": 90
        },
        "id": "twKDRWbD980v",
        "outputId": "ab47e10f-b58b-483e-8445-4a27c65f16fe"
      },
      "execution_count": 5,
      "outputs": [
        {
          "output_type": "display_data",
          "data": {
            "text/plain": [
              "<IPython.core.display.HTML object>"
            ],
            "text/html": [
              "\n",
              "     <input type=\"file\" id=\"files-308c2ef2-70ef-4e6a-9f97-fc55c49eb7e5\" name=\"files[]\" multiple disabled\n",
              "        style=\"border:none\" />\n",
              "     <output id=\"result-308c2ef2-70ef-4e6a-9f97-fc55c49eb7e5\">\n",
              "      Upload widget is only available when the cell has been executed in the\n",
              "      current browser session. Please rerun this cell to enable.\n",
              "      </output>\n",
              "      <script>// Copyright 2017 Google LLC\n",
              "//\n",
              "// Licensed under the Apache License, Version 2.0 (the \"License\");\n",
              "// you may not use this file except in compliance with the License.\n",
              "// You may obtain a copy of the License at\n",
              "//\n",
              "//      http://www.apache.org/licenses/LICENSE-2.0\n",
              "//\n",
              "// Unless required by applicable law or agreed to in writing, software\n",
              "// distributed under the License is distributed on an \"AS IS\" BASIS,\n",
              "// WITHOUT WARRANTIES OR CONDITIONS OF ANY KIND, either express or implied.\n",
              "// See the License for the specific language governing permissions and\n",
              "// limitations under the License.\n",
              "\n",
              "/**\n",
              " * @fileoverview Helpers for google.colab Python module.\n",
              " */\n",
              "(function(scope) {\n",
              "function span(text, styleAttributes = {}) {\n",
              "  const element = document.createElement('span');\n",
              "  element.textContent = text;\n",
              "  for (const key of Object.keys(styleAttributes)) {\n",
              "    element.style[key] = styleAttributes[key];\n",
              "  }\n",
              "  return element;\n",
              "}\n",
              "\n",
              "// Max number of bytes which will be uploaded at a time.\n",
              "const MAX_PAYLOAD_SIZE = 100 * 1024;\n",
              "\n",
              "function _uploadFiles(inputId, outputId) {\n",
              "  const steps = uploadFilesStep(inputId, outputId);\n",
              "  const outputElement = document.getElementById(outputId);\n",
              "  // Cache steps on the outputElement to make it available for the next call\n",
              "  // to uploadFilesContinue from Python.\n",
              "  outputElement.steps = steps;\n",
              "\n",
              "  return _uploadFilesContinue(outputId);\n",
              "}\n",
              "\n",
              "// This is roughly an async generator (not supported in the browser yet),\n",
              "// where there are multiple asynchronous steps and the Python side is going\n",
              "// to poll for completion of each step.\n",
              "// This uses a Promise to block the python side on completion of each step,\n",
              "// then passes the result of the previous step as the input to the next step.\n",
              "function _uploadFilesContinue(outputId) {\n",
              "  const outputElement = document.getElementById(outputId);\n",
              "  const steps = outputElement.steps;\n",
              "\n",
              "  const next = steps.next(outputElement.lastPromiseValue);\n",
              "  return Promise.resolve(next.value.promise).then((value) => {\n",
              "    // Cache the last promise value to make it available to the next\n",
              "    // step of the generator.\n",
              "    outputElement.lastPromiseValue = value;\n",
              "    return next.value.response;\n",
              "  });\n",
              "}\n",
              "\n",
              "/**\n",
              " * Generator function which is called between each async step of the upload\n",
              " * process.\n",
              " * @param {string} inputId Element ID of the input file picker element.\n",
              " * @param {string} outputId Element ID of the output display.\n",
              " * @return {!Iterable<!Object>} Iterable of next steps.\n",
              " */\n",
              "function* uploadFilesStep(inputId, outputId) {\n",
              "  const inputElement = document.getElementById(inputId);\n",
              "  inputElement.disabled = false;\n",
              "\n",
              "  const outputElement = document.getElementById(outputId);\n",
              "  outputElement.innerHTML = '';\n",
              "\n",
              "  const pickedPromise = new Promise((resolve) => {\n",
              "    inputElement.addEventListener('change', (e) => {\n",
              "      resolve(e.target.files);\n",
              "    });\n",
              "  });\n",
              "\n",
              "  const cancel = document.createElement('button');\n",
              "  inputElement.parentElement.appendChild(cancel);\n",
              "  cancel.textContent = 'Cancel upload';\n",
              "  const cancelPromise = new Promise((resolve) => {\n",
              "    cancel.onclick = () => {\n",
              "      resolve(null);\n",
              "    };\n",
              "  });\n",
              "\n",
              "  // Wait for the user to pick the files.\n",
              "  const files = yield {\n",
              "    promise: Promise.race([pickedPromise, cancelPromise]),\n",
              "    response: {\n",
              "      action: 'starting',\n",
              "    }\n",
              "  };\n",
              "\n",
              "  cancel.remove();\n",
              "\n",
              "  // Disable the input element since further picks are not allowed.\n",
              "  inputElement.disabled = true;\n",
              "\n",
              "  if (!files) {\n",
              "    return {\n",
              "      response: {\n",
              "        action: 'complete',\n",
              "      }\n",
              "    };\n",
              "  }\n",
              "\n",
              "  for (const file of files) {\n",
              "    const li = document.createElement('li');\n",
              "    li.append(span(file.name, {fontWeight: 'bold'}));\n",
              "    li.append(span(\n",
              "        `(${file.type || 'n/a'}) - ${file.size} bytes, ` +\n",
              "        `last modified: ${\n",
              "            file.lastModifiedDate ? file.lastModifiedDate.toLocaleDateString() :\n",
              "                                    'n/a'} - `));\n",
              "    const percent = span('0% done');\n",
              "    li.appendChild(percent);\n",
              "\n",
              "    outputElement.appendChild(li);\n",
              "\n",
              "    const fileDataPromise = new Promise((resolve) => {\n",
              "      const reader = new FileReader();\n",
              "      reader.onload = (e) => {\n",
              "        resolve(e.target.result);\n",
              "      };\n",
              "      reader.readAsArrayBuffer(file);\n",
              "    });\n",
              "    // Wait for the data to be ready.\n",
              "    let fileData = yield {\n",
              "      promise: fileDataPromise,\n",
              "      response: {\n",
              "        action: 'continue',\n",
              "      }\n",
              "    };\n",
              "\n",
              "    // Use a chunked sending to avoid message size limits. See b/62115660.\n",
              "    let position = 0;\n",
              "    do {\n",
              "      const length = Math.min(fileData.byteLength - position, MAX_PAYLOAD_SIZE);\n",
              "      const chunk = new Uint8Array(fileData, position, length);\n",
              "      position += length;\n",
              "\n",
              "      const base64 = btoa(String.fromCharCode.apply(null, chunk));\n",
              "      yield {\n",
              "        response: {\n",
              "          action: 'append',\n",
              "          file: file.name,\n",
              "          data: base64,\n",
              "        },\n",
              "      };\n",
              "\n",
              "      let percentDone = fileData.byteLength === 0 ?\n",
              "          100 :\n",
              "          Math.round((position / fileData.byteLength) * 100);\n",
              "      percent.textContent = `${percentDone}% done`;\n",
              "\n",
              "    } while (position < fileData.byteLength);\n",
              "  }\n",
              "\n",
              "  // All done.\n",
              "  yield {\n",
              "    response: {\n",
              "      action: 'complete',\n",
              "    }\n",
              "  };\n",
              "}\n",
              "\n",
              "scope.google = scope.google || {};\n",
              "scope.google.colab = scope.google.colab || {};\n",
              "scope.google.colab._files = {\n",
              "  _uploadFiles,\n",
              "  _uploadFilesContinue,\n",
              "};\n",
              "})(self);\n",
              "</script> "
            ]
          },
          "metadata": {}
        },
        {
          "output_type": "stream",
          "name": "stdout",
          "text": [
            "Saving kaggle.json to kaggle.json\n"
          ]
        },
        {
          "output_type": "execute_result",
          "data": {
            "text/plain": [
              "{'kaggle.json': b'{\"username\":\"bangdatu\",\"key\":\"95a4cc85b69be7841ca3ad0ae87e80d7\"}'}"
            ]
          },
          "metadata": {},
          "execution_count": 5
        }
      ]
    },
    {
      "cell_type": "code",
      "source": [
        "\n",
        "# Buat folder .kaggle jika belum ada\n",
        "os.makedirs('/root/.kaggle', exist_ok=True)\n",
        "\n",
        "# Pindahkan file ke folder .kaggle\n",
        "shutil.move('kaggle.json', '/root/.kaggle/kaggle.json')\n",
        "\n",
        "# Ubah izin file agar hanya bisa diakses oleh owner\n",
        "os.chmod('/root/.kaggle/kaggle.json', 600)\n",
        "\n",
        "\n"
      ],
      "metadata": {
        "id": "OPpZ2_U6-A7x"
      },
      "execution_count": 6,
      "outputs": []
    },
    {
      "cell_type": "code",
      "source": [
        "#Download dataset\n",
        "!kaggle datasets download -d CooperUnion/anime-recommendations-database\n"
      ],
      "metadata": {
        "colab": {
          "base_uri": "https://localhost:8080/"
        },
        "id": "NycVfh_k-HPE",
        "outputId": "b2036904-3075-4c52-edf5-88fb8b3eef87"
      },
      "execution_count": 7,
      "outputs": [
        {
          "output_type": "stream",
          "name": "stdout",
          "text": [
            "Dataset URL: https://www.kaggle.com/datasets/CooperUnion/anime-recommendations-database\n",
            "License(s): CC0-1.0\n",
            "anime-recommendations-database.zip: Skipping, found more recently modified local copy (use --force to force download)\n"
          ]
        }
      ]
    },
    {
      "cell_type": "code",
      "source": [
        "with zipfile.ZipFile(\"anime-recommendations-database.zip\", \"r\") as zip_ref:\n",
        "    zip_ref.extractall(\"dataset\")\n",
        "\n",
        "# List files in the current directory\n",
        "os.listdir(\"dataset\")"
      ],
      "metadata": {
        "colab": {
          "base_uri": "https://localhost:8080/"
        },
        "id": "XO7BUTHa-pbf",
        "outputId": "8223363b-bcf2-4c34-8560-f83f9ea0b4b9"
      },
      "execution_count": 8,
      "outputs": [
        {
          "output_type": "execute_result",
          "data": {
            "text/plain": [
              "['rating.csv', 'anime.csv']"
            ]
          },
          "metadata": {},
          "execution_count": 8
        }
      ]
    },
    {
      "cell_type": "code",
      "source": [
        "rating=pd.read_csv(\"dataset/rating.csv\")\n",
        "anime=pd.read_csv(\"dataset/anime.csv\")"
      ],
      "metadata": {
        "id": "Hxvw8rzb-9AR"
      },
      "execution_count": 9,
      "outputs": []
    },
    {
      "cell_type": "code",
      "source": [
        "rating.head(10)\n"
      ],
      "metadata": {
        "colab": {
          "base_uri": "https://localhost:8080/",
          "height": 363
        },
        "id": "1K-MPfOL_2rW",
        "outputId": "8a2f35b7-bbce-4b8b-86b1-9b63d0dc340b"
      },
      "execution_count": 10,
      "outputs": [
        {
          "output_type": "execute_result",
          "data": {
            "text/plain": [
              "   user_id  anime_id  rating\n",
              "0        1        20      -1\n",
              "1        1        24      -1\n",
              "2        1        79      -1\n",
              "3        1       226      -1\n",
              "4        1       241      -1\n",
              "5        1       355      -1\n",
              "6        1       356      -1\n",
              "7        1       442      -1\n",
              "8        1       487      -1\n",
              "9        1       846      -1"
            ],
            "text/html": [
              "\n",
              "  <div id=\"df-b90205d2-5491-4324-9b53-b75a99b67ac0\" class=\"colab-df-container\">\n",
              "    <div>\n",
              "<style scoped>\n",
              "    .dataframe tbody tr th:only-of-type {\n",
              "        vertical-align: middle;\n",
              "    }\n",
              "\n",
              "    .dataframe tbody tr th {\n",
              "        vertical-align: top;\n",
              "    }\n",
              "\n",
              "    .dataframe thead th {\n",
              "        text-align: right;\n",
              "    }\n",
              "</style>\n",
              "<table border=\"1\" class=\"dataframe\">\n",
              "  <thead>\n",
              "    <tr style=\"text-align: right;\">\n",
              "      <th></th>\n",
              "      <th>user_id</th>\n",
              "      <th>anime_id</th>\n",
              "      <th>rating</th>\n",
              "    </tr>\n",
              "  </thead>\n",
              "  <tbody>\n",
              "    <tr>\n",
              "      <th>0</th>\n",
              "      <td>1</td>\n",
              "      <td>20</td>\n",
              "      <td>-1</td>\n",
              "    </tr>\n",
              "    <tr>\n",
              "      <th>1</th>\n",
              "      <td>1</td>\n",
              "      <td>24</td>\n",
              "      <td>-1</td>\n",
              "    </tr>\n",
              "    <tr>\n",
              "      <th>2</th>\n",
              "      <td>1</td>\n",
              "      <td>79</td>\n",
              "      <td>-1</td>\n",
              "    </tr>\n",
              "    <tr>\n",
              "      <th>3</th>\n",
              "      <td>1</td>\n",
              "      <td>226</td>\n",
              "      <td>-1</td>\n",
              "    </tr>\n",
              "    <tr>\n",
              "      <th>4</th>\n",
              "      <td>1</td>\n",
              "      <td>241</td>\n",
              "      <td>-1</td>\n",
              "    </tr>\n",
              "    <tr>\n",
              "      <th>5</th>\n",
              "      <td>1</td>\n",
              "      <td>355</td>\n",
              "      <td>-1</td>\n",
              "    </tr>\n",
              "    <tr>\n",
              "      <th>6</th>\n",
              "      <td>1</td>\n",
              "      <td>356</td>\n",
              "      <td>-1</td>\n",
              "    </tr>\n",
              "    <tr>\n",
              "      <th>7</th>\n",
              "      <td>1</td>\n",
              "      <td>442</td>\n",
              "      <td>-1</td>\n",
              "    </tr>\n",
              "    <tr>\n",
              "      <th>8</th>\n",
              "      <td>1</td>\n",
              "      <td>487</td>\n",
              "      <td>-1</td>\n",
              "    </tr>\n",
              "    <tr>\n",
              "      <th>9</th>\n",
              "      <td>1</td>\n",
              "      <td>846</td>\n",
              "      <td>-1</td>\n",
              "    </tr>\n",
              "  </tbody>\n",
              "</table>\n",
              "</div>\n",
              "    <div class=\"colab-df-buttons\">\n",
              "\n",
              "  <div class=\"colab-df-container\">\n",
              "    <button class=\"colab-df-convert\" onclick=\"convertToInteractive('df-b90205d2-5491-4324-9b53-b75a99b67ac0')\"\n",
              "            title=\"Convert this dataframe to an interactive table.\"\n",
              "            style=\"display:none;\">\n",
              "\n",
              "  <svg xmlns=\"http://www.w3.org/2000/svg\" height=\"24px\" viewBox=\"0 -960 960 960\">\n",
              "    <path d=\"M120-120v-720h720v720H120Zm60-500h600v-160H180v160Zm220 220h160v-160H400v160Zm0 220h160v-160H400v160ZM180-400h160v-160H180v160Zm440 0h160v-160H620v160ZM180-180h160v-160H180v160Zm440 0h160v-160H620v160Z\"/>\n",
              "  </svg>\n",
              "    </button>\n",
              "\n",
              "  <style>\n",
              "    .colab-df-container {\n",
              "      display:flex;\n",
              "      gap: 12px;\n",
              "    }\n",
              "\n",
              "    .colab-df-convert {\n",
              "      background-color: #E8F0FE;\n",
              "      border: none;\n",
              "      border-radius: 50%;\n",
              "      cursor: pointer;\n",
              "      display: none;\n",
              "      fill: #1967D2;\n",
              "      height: 32px;\n",
              "      padding: 0 0 0 0;\n",
              "      width: 32px;\n",
              "    }\n",
              "\n",
              "    .colab-df-convert:hover {\n",
              "      background-color: #E2EBFA;\n",
              "      box-shadow: 0px 1px 2px rgba(60, 64, 67, 0.3), 0px 1px 3px 1px rgba(60, 64, 67, 0.15);\n",
              "      fill: #174EA6;\n",
              "    }\n",
              "\n",
              "    .colab-df-buttons div {\n",
              "      margin-bottom: 4px;\n",
              "    }\n",
              "\n",
              "    [theme=dark] .colab-df-convert {\n",
              "      background-color: #3B4455;\n",
              "      fill: #D2E3FC;\n",
              "    }\n",
              "\n",
              "    [theme=dark] .colab-df-convert:hover {\n",
              "      background-color: #434B5C;\n",
              "      box-shadow: 0px 1px 3px 1px rgba(0, 0, 0, 0.15);\n",
              "      filter: drop-shadow(0px 1px 2px rgba(0, 0, 0, 0.3));\n",
              "      fill: #FFFFFF;\n",
              "    }\n",
              "  </style>\n",
              "\n",
              "    <script>\n",
              "      const buttonEl =\n",
              "        document.querySelector('#df-b90205d2-5491-4324-9b53-b75a99b67ac0 button.colab-df-convert');\n",
              "      buttonEl.style.display =\n",
              "        google.colab.kernel.accessAllowed ? 'block' : 'none';\n",
              "\n",
              "      async function convertToInteractive(key) {\n",
              "        const element = document.querySelector('#df-b90205d2-5491-4324-9b53-b75a99b67ac0');\n",
              "        const dataTable =\n",
              "          await google.colab.kernel.invokeFunction('convertToInteractive',\n",
              "                                                    [key], {});\n",
              "        if (!dataTable) return;\n",
              "\n",
              "        const docLinkHtml = 'Like what you see? Visit the ' +\n",
              "          '<a target=\"_blank\" href=https://colab.research.google.com/notebooks/data_table.ipynb>data table notebook</a>'\n",
              "          + ' to learn more about interactive tables.';\n",
              "        element.innerHTML = '';\n",
              "        dataTable['output_type'] = 'display_data';\n",
              "        await google.colab.output.renderOutput(dataTable, element);\n",
              "        const docLink = document.createElement('div');\n",
              "        docLink.innerHTML = docLinkHtml;\n",
              "        element.appendChild(docLink);\n",
              "      }\n",
              "    </script>\n",
              "  </div>\n",
              "\n",
              "\n",
              "    <div id=\"df-7fbed893-9570-41af-abc6-2e8d8de3539f\">\n",
              "      <button class=\"colab-df-quickchart\" onclick=\"quickchart('df-7fbed893-9570-41af-abc6-2e8d8de3539f')\"\n",
              "                title=\"Suggest charts\"\n",
              "                style=\"display:none;\">\n",
              "\n",
              "<svg xmlns=\"http://www.w3.org/2000/svg\" height=\"24px\"viewBox=\"0 0 24 24\"\n",
              "     width=\"24px\">\n",
              "    <g>\n",
              "        <path d=\"M19 3H5c-1.1 0-2 .9-2 2v14c0 1.1.9 2 2 2h14c1.1 0 2-.9 2-2V5c0-1.1-.9-2-2-2zM9 17H7v-7h2v7zm4 0h-2V7h2v10zm4 0h-2v-4h2v4z\"/>\n",
              "    </g>\n",
              "</svg>\n",
              "      </button>\n",
              "\n",
              "<style>\n",
              "  .colab-df-quickchart {\n",
              "      --bg-color: #E8F0FE;\n",
              "      --fill-color: #1967D2;\n",
              "      --hover-bg-color: #E2EBFA;\n",
              "      --hover-fill-color: #174EA6;\n",
              "      --disabled-fill-color: #AAA;\n",
              "      --disabled-bg-color: #DDD;\n",
              "  }\n",
              "\n",
              "  [theme=dark] .colab-df-quickchart {\n",
              "      --bg-color: #3B4455;\n",
              "      --fill-color: #D2E3FC;\n",
              "      --hover-bg-color: #434B5C;\n",
              "      --hover-fill-color: #FFFFFF;\n",
              "      --disabled-bg-color: #3B4455;\n",
              "      --disabled-fill-color: #666;\n",
              "  }\n",
              "\n",
              "  .colab-df-quickchart {\n",
              "    background-color: var(--bg-color);\n",
              "    border: none;\n",
              "    border-radius: 50%;\n",
              "    cursor: pointer;\n",
              "    display: none;\n",
              "    fill: var(--fill-color);\n",
              "    height: 32px;\n",
              "    padding: 0;\n",
              "    width: 32px;\n",
              "  }\n",
              "\n",
              "  .colab-df-quickchart:hover {\n",
              "    background-color: var(--hover-bg-color);\n",
              "    box-shadow: 0 1px 2px rgba(60, 64, 67, 0.3), 0 1px 3px 1px rgba(60, 64, 67, 0.15);\n",
              "    fill: var(--button-hover-fill-color);\n",
              "  }\n",
              "\n",
              "  .colab-df-quickchart-complete:disabled,\n",
              "  .colab-df-quickchart-complete:disabled:hover {\n",
              "    background-color: var(--disabled-bg-color);\n",
              "    fill: var(--disabled-fill-color);\n",
              "    box-shadow: none;\n",
              "  }\n",
              "\n",
              "  .colab-df-spinner {\n",
              "    border: 2px solid var(--fill-color);\n",
              "    border-color: transparent;\n",
              "    border-bottom-color: var(--fill-color);\n",
              "    animation:\n",
              "      spin 1s steps(1) infinite;\n",
              "  }\n",
              "\n",
              "  @keyframes spin {\n",
              "    0% {\n",
              "      border-color: transparent;\n",
              "      border-bottom-color: var(--fill-color);\n",
              "      border-left-color: var(--fill-color);\n",
              "    }\n",
              "    20% {\n",
              "      border-color: transparent;\n",
              "      border-left-color: var(--fill-color);\n",
              "      border-top-color: var(--fill-color);\n",
              "    }\n",
              "    30% {\n",
              "      border-color: transparent;\n",
              "      border-left-color: var(--fill-color);\n",
              "      border-top-color: var(--fill-color);\n",
              "      border-right-color: var(--fill-color);\n",
              "    }\n",
              "    40% {\n",
              "      border-color: transparent;\n",
              "      border-right-color: var(--fill-color);\n",
              "      border-top-color: var(--fill-color);\n",
              "    }\n",
              "    60% {\n",
              "      border-color: transparent;\n",
              "      border-right-color: var(--fill-color);\n",
              "    }\n",
              "    80% {\n",
              "      border-color: transparent;\n",
              "      border-right-color: var(--fill-color);\n",
              "      border-bottom-color: var(--fill-color);\n",
              "    }\n",
              "    90% {\n",
              "      border-color: transparent;\n",
              "      border-bottom-color: var(--fill-color);\n",
              "    }\n",
              "  }\n",
              "</style>\n",
              "\n",
              "      <script>\n",
              "        async function quickchart(key) {\n",
              "          const quickchartButtonEl =\n",
              "            document.querySelector('#' + key + ' button');\n",
              "          quickchartButtonEl.disabled = true;  // To prevent multiple clicks.\n",
              "          quickchartButtonEl.classList.add('colab-df-spinner');\n",
              "          try {\n",
              "            const charts = await google.colab.kernel.invokeFunction(\n",
              "                'suggestCharts', [key], {});\n",
              "          } catch (error) {\n",
              "            console.error('Error during call to suggestCharts:', error);\n",
              "          }\n",
              "          quickchartButtonEl.classList.remove('colab-df-spinner');\n",
              "          quickchartButtonEl.classList.add('colab-df-quickchart-complete');\n",
              "        }\n",
              "        (() => {\n",
              "          let quickchartButtonEl =\n",
              "            document.querySelector('#df-7fbed893-9570-41af-abc6-2e8d8de3539f button');\n",
              "          quickchartButtonEl.style.display =\n",
              "            google.colab.kernel.accessAllowed ? 'block' : 'none';\n",
              "        })();\n",
              "      </script>\n",
              "    </div>\n",
              "\n",
              "    </div>\n",
              "  </div>\n"
            ],
            "application/vnd.google.colaboratory.intrinsic+json": {
              "type": "dataframe",
              "variable_name": "rating"
            }
          },
          "metadata": {},
          "execution_count": 10
        }
      ]
    },
    {
      "cell_type": "code",
      "source": [
        "anime.head()"
      ],
      "metadata": {
        "colab": {
          "base_uri": "https://localhost:8080/",
          "height": 206
        },
        "id": "S5ICAD8m_3sG",
        "outputId": "80dfddf8-00d3-43cf-8a65-f2dac6020625"
      },
      "execution_count": 11,
      "outputs": [
        {
          "output_type": "execute_result",
          "data": {
            "text/plain": [
              "   anime_id                              name  \\\n",
              "0     32281                    Kimi no Na wa.   \n",
              "1      5114  Fullmetal Alchemist: Brotherhood   \n",
              "2     28977                          Gintama°   \n",
              "3      9253                       Steins;Gate   \n",
              "4      9969                     Gintama&#039;   \n",
              "\n",
              "                                               genre   type episodes  rating  \\\n",
              "0               Drama, Romance, School, Supernatural  Movie        1    9.37   \n",
              "1  Action, Adventure, Drama, Fantasy, Magic, Mili...     TV       64    9.26   \n",
              "2  Action, Comedy, Historical, Parody, Samurai, S...     TV       51    9.25   \n",
              "3                                   Sci-Fi, Thriller     TV       24    9.17   \n",
              "4  Action, Comedy, Historical, Parody, Samurai, S...     TV       51    9.16   \n",
              "\n",
              "   members  \n",
              "0   200630  \n",
              "1   793665  \n",
              "2   114262  \n",
              "3   673572  \n",
              "4   151266  "
            ],
            "text/html": [
              "\n",
              "  <div id=\"df-7d32349e-7ee3-48a5-b968-732ac99d0294\" class=\"colab-df-container\">\n",
              "    <div>\n",
              "<style scoped>\n",
              "    .dataframe tbody tr th:only-of-type {\n",
              "        vertical-align: middle;\n",
              "    }\n",
              "\n",
              "    .dataframe tbody tr th {\n",
              "        vertical-align: top;\n",
              "    }\n",
              "\n",
              "    .dataframe thead th {\n",
              "        text-align: right;\n",
              "    }\n",
              "</style>\n",
              "<table border=\"1\" class=\"dataframe\">\n",
              "  <thead>\n",
              "    <tr style=\"text-align: right;\">\n",
              "      <th></th>\n",
              "      <th>anime_id</th>\n",
              "      <th>name</th>\n",
              "      <th>genre</th>\n",
              "      <th>type</th>\n",
              "      <th>episodes</th>\n",
              "      <th>rating</th>\n",
              "      <th>members</th>\n",
              "    </tr>\n",
              "  </thead>\n",
              "  <tbody>\n",
              "    <tr>\n",
              "      <th>0</th>\n",
              "      <td>32281</td>\n",
              "      <td>Kimi no Na wa.</td>\n",
              "      <td>Drama, Romance, School, Supernatural</td>\n",
              "      <td>Movie</td>\n",
              "      <td>1</td>\n",
              "      <td>9.37</td>\n",
              "      <td>200630</td>\n",
              "    </tr>\n",
              "    <tr>\n",
              "      <th>1</th>\n",
              "      <td>5114</td>\n",
              "      <td>Fullmetal Alchemist: Brotherhood</td>\n",
              "      <td>Action, Adventure, Drama, Fantasy, Magic, Mili...</td>\n",
              "      <td>TV</td>\n",
              "      <td>64</td>\n",
              "      <td>9.26</td>\n",
              "      <td>793665</td>\n",
              "    </tr>\n",
              "    <tr>\n",
              "      <th>2</th>\n",
              "      <td>28977</td>\n",
              "      <td>Gintama°</td>\n",
              "      <td>Action, Comedy, Historical, Parody, Samurai, S...</td>\n",
              "      <td>TV</td>\n",
              "      <td>51</td>\n",
              "      <td>9.25</td>\n",
              "      <td>114262</td>\n",
              "    </tr>\n",
              "    <tr>\n",
              "      <th>3</th>\n",
              "      <td>9253</td>\n",
              "      <td>Steins;Gate</td>\n",
              "      <td>Sci-Fi, Thriller</td>\n",
              "      <td>TV</td>\n",
              "      <td>24</td>\n",
              "      <td>9.17</td>\n",
              "      <td>673572</td>\n",
              "    </tr>\n",
              "    <tr>\n",
              "      <th>4</th>\n",
              "      <td>9969</td>\n",
              "      <td>Gintama&amp;#039;</td>\n",
              "      <td>Action, Comedy, Historical, Parody, Samurai, S...</td>\n",
              "      <td>TV</td>\n",
              "      <td>51</td>\n",
              "      <td>9.16</td>\n",
              "      <td>151266</td>\n",
              "    </tr>\n",
              "  </tbody>\n",
              "</table>\n",
              "</div>\n",
              "    <div class=\"colab-df-buttons\">\n",
              "\n",
              "  <div class=\"colab-df-container\">\n",
              "    <button class=\"colab-df-convert\" onclick=\"convertToInteractive('df-7d32349e-7ee3-48a5-b968-732ac99d0294')\"\n",
              "            title=\"Convert this dataframe to an interactive table.\"\n",
              "            style=\"display:none;\">\n",
              "\n",
              "  <svg xmlns=\"http://www.w3.org/2000/svg\" height=\"24px\" viewBox=\"0 -960 960 960\">\n",
              "    <path d=\"M120-120v-720h720v720H120Zm60-500h600v-160H180v160Zm220 220h160v-160H400v160Zm0 220h160v-160H400v160ZM180-400h160v-160H180v160Zm440 0h160v-160H620v160ZM180-180h160v-160H180v160Zm440 0h160v-160H620v160Z\"/>\n",
              "  </svg>\n",
              "    </button>\n",
              "\n",
              "  <style>\n",
              "    .colab-df-container {\n",
              "      display:flex;\n",
              "      gap: 12px;\n",
              "    }\n",
              "\n",
              "    .colab-df-convert {\n",
              "      background-color: #E8F0FE;\n",
              "      border: none;\n",
              "      border-radius: 50%;\n",
              "      cursor: pointer;\n",
              "      display: none;\n",
              "      fill: #1967D2;\n",
              "      height: 32px;\n",
              "      padding: 0 0 0 0;\n",
              "      width: 32px;\n",
              "    }\n",
              "\n",
              "    .colab-df-convert:hover {\n",
              "      background-color: #E2EBFA;\n",
              "      box-shadow: 0px 1px 2px rgba(60, 64, 67, 0.3), 0px 1px 3px 1px rgba(60, 64, 67, 0.15);\n",
              "      fill: #174EA6;\n",
              "    }\n",
              "\n",
              "    .colab-df-buttons div {\n",
              "      margin-bottom: 4px;\n",
              "    }\n",
              "\n",
              "    [theme=dark] .colab-df-convert {\n",
              "      background-color: #3B4455;\n",
              "      fill: #D2E3FC;\n",
              "    }\n",
              "\n",
              "    [theme=dark] .colab-df-convert:hover {\n",
              "      background-color: #434B5C;\n",
              "      box-shadow: 0px 1px 3px 1px rgba(0, 0, 0, 0.15);\n",
              "      filter: drop-shadow(0px 1px 2px rgba(0, 0, 0, 0.3));\n",
              "      fill: #FFFFFF;\n",
              "    }\n",
              "  </style>\n",
              "\n",
              "    <script>\n",
              "      const buttonEl =\n",
              "        document.querySelector('#df-7d32349e-7ee3-48a5-b968-732ac99d0294 button.colab-df-convert');\n",
              "      buttonEl.style.display =\n",
              "        google.colab.kernel.accessAllowed ? 'block' : 'none';\n",
              "\n",
              "      async function convertToInteractive(key) {\n",
              "        const element = document.querySelector('#df-7d32349e-7ee3-48a5-b968-732ac99d0294');\n",
              "        const dataTable =\n",
              "          await google.colab.kernel.invokeFunction('convertToInteractive',\n",
              "                                                    [key], {});\n",
              "        if (!dataTable) return;\n",
              "\n",
              "        const docLinkHtml = 'Like what you see? Visit the ' +\n",
              "          '<a target=\"_blank\" href=https://colab.research.google.com/notebooks/data_table.ipynb>data table notebook</a>'\n",
              "          + ' to learn more about interactive tables.';\n",
              "        element.innerHTML = '';\n",
              "        dataTable['output_type'] = 'display_data';\n",
              "        await google.colab.output.renderOutput(dataTable, element);\n",
              "        const docLink = document.createElement('div');\n",
              "        docLink.innerHTML = docLinkHtml;\n",
              "        element.appendChild(docLink);\n",
              "      }\n",
              "    </script>\n",
              "  </div>\n",
              "\n",
              "\n",
              "    <div id=\"df-7cef10aa-1b5d-4b68-828a-5f727fba221d\">\n",
              "      <button class=\"colab-df-quickchart\" onclick=\"quickchart('df-7cef10aa-1b5d-4b68-828a-5f727fba221d')\"\n",
              "                title=\"Suggest charts\"\n",
              "                style=\"display:none;\">\n",
              "\n",
              "<svg xmlns=\"http://www.w3.org/2000/svg\" height=\"24px\"viewBox=\"0 0 24 24\"\n",
              "     width=\"24px\">\n",
              "    <g>\n",
              "        <path d=\"M19 3H5c-1.1 0-2 .9-2 2v14c0 1.1.9 2 2 2h14c1.1 0 2-.9 2-2V5c0-1.1-.9-2-2-2zM9 17H7v-7h2v7zm4 0h-2V7h2v10zm4 0h-2v-4h2v4z\"/>\n",
              "    </g>\n",
              "</svg>\n",
              "      </button>\n",
              "\n",
              "<style>\n",
              "  .colab-df-quickchart {\n",
              "      --bg-color: #E8F0FE;\n",
              "      --fill-color: #1967D2;\n",
              "      --hover-bg-color: #E2EBFA;\n",
              "      --hover-fill-color: #174EA6;\n",
              "      --disabled-fill-color: #AAA;\n",
              "      --disabled-bg-color: #DDD;\n",
              "  }\n",
              "\n",
              "  [theme=dark] .colab-df-quickchart {\n",
              "      --bg-color: #3B4455;\n",
              "      --fill-color: #D2E3FC;\n",
              "      --hover-bg-color: #434B5C;\n",
              "      --hover-fill-color: #FFFFFF;\n",
              "      --disabled-bg-color: #3B4455;\n",
              "      --disabled-fill-color: #666;\n",
              "  }\n",
              "\n",
              "  .colab-df-quickchart {\n",
              "    background-color: var(--bg-color);\n",
              "    border: none;\n",
              "    border-radius: 50%;\n",
              "    cursor: pointer;\n",
              "    display: none;\n",
              "    fill: var(--fill-color);\n",
              "    height: 32px;\n",
              "    padding: 0;\n",
              "    width: 32px;\n",
              "  }\n",
              "\n",
              "  .colab-df-quickchart:hover {\n",
              "    background-color: var(--hover-bg-color);\n",
              "    box-shadow: 0 1px 2px rgba(60, 64, 67, 0.3), 0 1px 3px 1px rgba(60, 64, 67, 0.15);\n",
              "    fill: var(--button-hover-fill-color);\n",
              "  }\n",
              "\n",
              "  .colab-df-quickchart-complete:disabled,\n",
              "  .colab-df-quickchart-complete:disabled:hover {\n",
              "    background-color: var(--disabled-bg-color);\n",
              "    fill: var(--disabled-fill-color);\n",
              "    box-shadow: none;\n",
              "  }\n",
              "\n",
              "  .colab-df-spinner {\n",
              "    border: 2px solid var(--fill-color);\n",
              "    border-color: transparent;\n",
              "    border-bottom-color: var(--fill-color);\n",
              "    animation:\n",
              "      spin 1s steps(1) infinite;\n",
              "  }\n",
              "\n",
              "  @keyframes spin {\n",
              "    0% {\n",
              "      border-color: transparent;\n",
              "      border-bottom-color: var(--fill-color);\n",
              "      border-left-color: var(--fill-color);\n",
              "    }\n",
              "    20% {\n",
              "      border-color: transparent;\n",
              "      border-left-color: var(--fill-color);\n",
              "      border-top-color: var(--fill-color);\n",
              "    }\n",
              "    30% {\n",
              "      border-color: transparent;\n",
              "      border-left-color: var(--fill-color);\n",
              "      border-top-color: var(--fill-color);\n",
              "      border-right-color: var(--fill-color);\n",
              "    }\n",
              "    40% {\n",
              "      border-color: transparent;\n",
              "      border-right-color: var(--fill-color);\n",
              "      border-top-color: var(--fill-color);\n",
              "    }\n",
              "    60% {\n",
              "      border-color: transparent;\n",
              "      border-right-color: var(--fill-color);\n",
              "    }\n",
              "    80% {\n",
              "      border-color: transparent;\n",
              "      border-right-color: var(--fill-color);\n",
              "      border-bottom-color: var(--fill-color);\n",
              "    }\n",
              "    90% {\n",
              "      border-color: transparent;\n",
              "      border-bottom-color: var(--fill-color);\n",
              "    }\n",
              "  }\n",
              "</style>\n",
              "\n",
              "      <script>\n",
              "        async function quickchart(key) {\n",
              "          const quickchartButtonEl =\n",
              "            document.querySelector('#' + key + ' button');\n",
              "          quickchartButtonEl.disabled = true;  // To prevent multiple clicks.\n",
              "          quickchartButtonEl.classList.add('colab-df-spinner');\n",
              "          try {\n",
              "            const charts = await google.colab.kernel.invokeFunction(\n",
              "                'suggestCharts', [key], {});\n",
              "          } catch (error) {\n",
              "            console.error('Error during call to suggestCharts:', error);\n",
              "          }\n",
              "          quickchartButtonEl.classList.remove('colab-df-spinner');\n",
              "          quickchartButtonEl.classList.add('colab-df-quickchart-complete');\n",
              "        }\n",
              "        (() => {\n",
              "          let quickchartButtonEl =\n",
              "            document.querySelector('#df-7cef10aa-1b5d-4b68-828a-5f727fba221d button');\n",
              "          quickchartButtonEl.style.display =\n",
              "            google.colab.kernel.accessAllowed ? 'block' : 'none';\n",
              "        })();\n",
              "      </script>\n",
              "    </div>\n",
              "\n",
              "    </div>\n",
              "  </div>\n"
            ],
            "application/vnd.google.colaboratory.intrinsic+json": {
              "type": "dataframe",
              "variable_name": "anime",
              "summary": "{\n  \"name\": \"anime\",\n  \"rows\": 12294,\n  \"fields\": [\n    {\n      \"column\": \"anime_id\",\n      \"properties\": {\n        \"dtype\": \"number\",\n        \"std\": 11455,\n        \"min\": 1,\n        \"max\": 34527,\n        \"num_unique_values\": 12294,\n        \"samples\": [\n          17209,\n          173,\n          3616\n        ],\n        \"semantic_type\": \"\",\n        \"description\": \"\"\n      }\n    },\n    {\n      \"column\": \"name\",\n      \"properties\": {\n        \"dtype\": \"string\",\n        \"num_unique_values\": 12292,\n        \"samples\": [\n          \"Nils no Fushigi na Tabi (Movie)\",\n          \"Tactics\",\n          \"Kamen no Maid Guy\"\n        ],\n        \"semantic_type\": \"\",\n        \"description\": \"\"\n      }\n    },\n    {\n      \"column\": \"genre\",\n      \"properties\": {\n        \"dtype\": \"category\",\n        \"num_unique_values\": 3264,\n        \"samples\": [\n          \"Horror, Supernatural\",\n          \"Action, Adventure, Comedy, Demons, Fantasy, Magic, Romance, Shounen, Supernatural\",\n          \"Action, Comedy, Harem, Parody, Romance\"\n        ],\n        \"semantic_type\": \"\",\n        \"description\": \"\"\n      }\n    },\n    {\n      \"column\": \"type\",\n      \"properties\": {\n        \"dtype\": \"category\",\n        \"num_unique_values\": 6,\n        \"samples\": [\n          \"Movie\",\n          \"TV\",\n          \"ONA\"\n        ],\n        \"semantic_type\": \"\",\n        \"description\": \"\"\n      }\n    },\n    {\n      \"column\": \"episodes\",\n      \"properties\": {\n        \"dtype\": \"category\",\n        \"num_unique_values\": 187,\n        \"samples\": [\n          \"141\",\n          \"54\",\n          \"52\"\n        ],\n        \"semantic_type\": \"\",\n        \"description\": \"\"\n      }\n    },\n    {\n      \"column\": \"rating\",\n      \"properties\": {\n        \"dtype\": \"number\",\n        \"std\": 1.0267463068980571,\n        \"min\": 1.67,\n        \"max\": 10.0,\n        \"num_unique_values\": 598,\n        \"samples\": [\n          7.87,\n          6.11,\n          4.1\n        ],\n        \"semantic_type\": \"\",\n        \"description\": \"\"\n      }\n    },\n    {\n      \"column\": \"members\",\n      \"properties\": {\n        \"dtype\": \"number\",\n        \"std\": 54820,\n        \"min\": 5,\n        \"max\": 1013917,\n        \"num_unique_values\": 6706,\n        \"samples\": [\n          170754,\n          1515,\n          66376\n        ],\n        \"semantic_type\": \"\",\n        \"description\": \"\"\n      }\n    }\n  ]\n}"
            }
          },
          "metadata": {},
          "execution_count": 11
        }
      ]
    },
    {
      "cell_type": "markdown",
      "source": [
        "Csv yang akan kita pakai adalah anime.csv dan rating.csv. 2 csv ini memberikan informasi berupa detail dari anime dan review masing-masing user."
      ],
      "metadata": {
        "id": "nCMf410MAh0A"
      }
    },
    {
      "cell_type": "markdown",
      "source": [
        "### Deskripsi Variabel"
      ],
      "metadata": {
        "id": "ph4g5vinAbU8"
      }
    },
    {
      "cell_type": "markdown",
      "source": [
        "arti variabel rating.csv\n",
        "\n",
        "Variabel | Keterangan\n",
        "----------|----------\n",
        "user_id | nomor unik masing-masing user\n",
        "anime_id | nomor unik masing-masing anime di MyAnimeList\n",
        "rating | (-1 menandakan tidak rating walaupun menonton) rating user dari 10\n",
        "\n"
      ],
      "metadata": {
        "id": "X4V5_3iFAagX"
      }
    },
    {
      "cell_type": "markdown",
      "source": [
        "arti variabel anime.csv\n",
        "\n",
        "Variabel | Keterangan\n",
        "----------|----------\n",
        "anime_id | nomor unik masing-masing anime di MyAnimeList\n",
        "name | nama lengkap anime\n",
        "genre | daftar genre yang dipisahkan oleh koma\n",
        "type | movie, TV, OVA, etc\n",
        "episodes | berapa jumlah episode\n",
        "rating | rata-rata rating dari 10\n",
        "members | jumlah member komunitas anime baris ini\n",
        "\n"
      ],
      "metadata": {
        "id": "67t3W96UCfMJ"
      }
    },
    {
      "cell_type": "markdown",
      "source": [
        "#### Menampilkan tipe variable rating"
      ],
      "metadata": {
        "id": "hy2DwZ0HIfgZ"
      }
    },
    {
      "cell_type": "code",
      "source": [
        "rating.info()"
      ],
      "metadata": {
        "colab": {
          "base_uri": "https://localhost:8080/"
        },
        "id": "cX_9JFjYEbXn",
        "outputId": "3a180503-2acd-4294-837a-f4da70fb159f"
      },
      "execution_count": 12,
      "outputs": [
        {
          "output_type": "stream",
          "name": "stdout",
          "text": [
            "<class 'pandas.core.frame.DataFrame'>\n",
            "RangeIndex: 7813737 entries, 0 to 7813736\n",
            "Data columns (total 3 columns):\n",
            " #   Column    Dtype\n",
            "---  ------    -----\n",
            " 0   user_id   int64\n",
            " 1   anime_id  int64\n",
            " 2   rating    int64\n",
            "dtypes: int64(3)\n",
            "memory usage: 178.8 MB\n"
          ]
        }
      ]
    },
    {
      "cell_type": "code",
      "source": [
        "print(f\"Jumlah baris: {rating.shape[0]}\\nJumlah kolom: {rating.shape[1]}\")"
      ],
      "metadata": {
        "colab": {
          "base_uri": "https://localhost:8080/"
        },
        "id": "fwnO5WsPGcng",
        "outputId": "c5c7f030-52c9-4f03-e9b1-34c3dea82abb"
      },
      "execution_count": 13,
      "outputs": [
        {
          "output_type": "stream",
          "name": "stdout",
          "text": [
            "Jumlah baris: 7813737\n",
            "Jumlah kolom: 3\n"
          ]
        }
      ]
    },
    {
      "cell_type": "markdown",
      "source": [
        "Semua variabel bertipe int64 dan baris pada data berjumlah 7813737 denngan 3 kolom"
      ],
      "metadata": {
        "id": "TjUOGsc34Xys"
      }
    },
    {
      "cell_type": "markdown",
      "source": [
        "Menampilkan tipe variable anime"
      ],
      "metadata": {
        "id": "z8HvqhGQ4QU7"
      }
    },
    {
      "cell_type": "code",
      "source": [
        "anime.info()"
      ],
      "metadata": {
        "colab": {
          "base_uri": "https://localhost:8080/"
        },
        "id": "cEL9vjqYEnmG",
        "outputId": "dbb3ec82-6990-4fcc-9592-28a1d37f4f47"
      },
      "execution_count": 14,
      "outputs": [
        {
          "output_type": "stream",
          "name": "stdout",
          "text": [
            "<class 'pandas.core.frame.DataFrame'>\n",
            "RangeIndex: 12294 entries, 0 to 12293\n",
            "Data columns (total 7 columns):\n",
            " #   Column    Non-Null Count  Dtype  \n",
            "---  ------    --------------  -----  \n",
            " 0   anime_id  12294 non-null  int64  \n",
            " 1   name      12294 non-null  object \n",
            " 2   genre     12232 non-null  object \n",
            " 3   type      12269 non-null  object \n",
            " 4   episodes  12294 non-null  object \n",
            " 5   rating    12064 non-null  float64\n",
            " 6   members   12294 non-null  int64  \n",
            "dtypes: float64(1), int64(2), object(4)\n",
            "memory usage: 672.5+ KB\n"
          ]
        }
      ]
    },
    {
      "cell_type": "code",
      "source": [
        "print(f\"Jumlah baris: {anime.shape[0]}\\nJumlah kolom: {anime.shape[1]}\")"
      ],
      "metadata": {
        "colab": {
          "base_uri": "https://localhost:8080/"
        },
        "id": "eAM8w3yOEnVf",
        "outputId": "d70eace3-eb7b-48be-9462-e88b3f549ffa"
      },
      "execution_count": 15,
      "outputs": [
        {
          "output_type": "stream",
          "name": "stdout",
          "text": [
            "Jumlah baris: 12294\n",
            "Jumlah kolom: 7\n"
          ]
        }
      ]
    },
    {
      "cell_type": "markdown",
      "source": [
        "terdapat 4 tipe data objek yaitu name, genre, type dan episodes. 2 tipe data int64 yaitu anime_id dan members dan 1 tipe data float64 yaitu rating. Baris pada data sejumlah 12294 dengan 7 kolom"
      ],
      "metadata": {
        "id": "E_DcFkzaGknk"
      }
    },
    {
      "cell_type": "markdown",
      "source": [
        "#### Mengecek Duplikat"
      ],
      "metadata": {
        "id": "rUvfQLsEJa5W"
      }
    },
    {
      "cell_type": "code",
      "source": [
        "rating.duplicated().sum()"
      ],
      "metadata": {
        "colab": {
          "base_uri": "https://localhost:8080/"
        },
        "id": "FjazWUk8JkiS",
        "outputId": "32196185-ae9b-4997-9f8f-9058b90a1982"
      },
      "execution_count": 16,
      "outputs": [
        {
          "output_type": "execute_result",
          "data": {
            "text/plain": [
              "np.int64(1)"
            ]
          },
          "metadata": {},
          "execution_count": 16
        }
      ]
    },
    {
      "cell_type": "code",
      "source": [
        "anime.duplicated().sum()"
      ],
      "metadata": {
        "colab": {
          "base_uri": "https://localhost:8080/"
        },
        "id": "3ayboc76JQA6",
        "outputId": "a205fa51-adcc-41fc-c7f7-c54cfaffad2f"
      },
      "execution_count": 17,
      "outputs": [
        {
          "output_type": "execute_result",
          "data": {
            "text/plain": [
              "np.int64(0)"
            ]
          },
          "metadata": {},
          "execution_count": 17
        }
      ]
    },
    {
      "cell_type": "markdown",
      "source": [
        "Terdapat 1 data duplikat pada data rating"
      ],
      "metadata": {
        "id": "Fh6nk2-xKA3p"
      }
    },
    {
      "cell_type": "markdown",
      "source": [
        "#### Mengecek missing value"
      ],
      "metadata": {
        "id": "PHXD8uJoJ4WG"
      }
    },
    {
      "cell_type": "code",
      "source": [
        "pd.DataFrame({'Nilai yang Kosong':rating.isnull().sum()})\n",
        "\n"
      ],
      "metadata": {
        "colab": {
          "base_uri": "https://localhost:8080/",
          "height": 143
        },
        "id": "mSNx6CWtJ6XB",
        "outputId": "51b7e0c2-5dbe-4002-85d9-56041262aa1c"
      },
      "execution_count": 18,
      "outputs": [
        {
          "output_type": "execute_result",
          "data": {
            "text/plain": [
              "          Nilai yang Kosong\n",
              "user_id                   0\n",
              "anime_id                  0\n",
              "rating                    0"
            ],
            "text/html": [
              "\n",
              "  <div id=\"df-a19e9f69-7488-4ed4-bf3d-b946f1b9fa62\" class=\"colab-df-container\">\n",
              "    <div>\n",
              "<style scoped>\n",
              "    .dataframe tbody tr th:only-of-type {\n",
              "        vertical-align: middle;\n",
              "    }\n",
              "\n",
              "    .dataframe tbody tr th {\n",
              "        vertical-align: top;\n",
              "    }\n",
              "\n",
              "    .dataframe thead th {\n",
              "        text-align: right;\n",
              "    }\n",
              "</style>\n",
              "<table border=\"1\" class=\"dataframe\">\n",
              "  <thead>\n",
              "    <tr style=\"text-align: right;\">\n",
              "      <th></th>\n",
              "      <th>Nilai yang Kosong</th>\n",
              "    </tr>\n",
              "  </thead>\n",
              "  <tbody>\n",
              "    <tr>\n",
              "      <th>user_id</th>\n",
              "      <td>0</td>\n",
              "    </tr>\n",
              "    <tr>\n",
              "      <th>anime_id</th>\n",
              "      <td>0</td>\n",
              "    </tr>\n",
              "    <tr>\n",
              "      <th>rating</th>\n",
              "      <td>0</td>\n",
              "    </tr>\n",
              "  </tbody>\n",
              "</table>\n",
              "</div>\n",
              "    <div class=\"colab-df-buttons\">\n",
              "\n",
              "  <div class=\"colab-df-container\">\n",
              "    <button class=\"colab-df-convert\" onclick=\"convertToInteractive('df-a19e9f69-7488-4ed4-bf3d-b946f1b9fa62')\"\n",
              "            title=\"Convert this dataframe to an interactive table.\"\n",
              "            style=\"display:none;\">\n",
              "\n",
              "  <svg xmlns=\"http://www.w3.org/2000/svg\" height=\"24px\" viewBox=\"0 -960 960 960\">\n",
              "    <path d=\"M120-120v-720h720v720H120Zm60-500h600v-160H180v160Zm220 220h160v-160H400v160Zm0 220h160v-160H400v160ZM180-400h160v-160H180v160Zm440 0h160v-160H620v160ZM180-180h160v-160H180v160Zm440 0h160v-160H620v160Z\"/>\n",
              "  </svg>\n",
              "    </button>\n",
              "\n",
              "  <style>\n",
              "    .colab-df-container {\n",
              "      display:flex;\n",
              "      gap: 12px;\n",
              "    }\n",
              "\n",
              "    .colab-df-convert {\n",
              "      background-color: #E8F0FE;\n",
              "      border: none;\n",
              "      border-radius: 50%;\n",
              "      cursor: pointer;\n",
              "      display: none;\n",
              "      fill: #1967D2;\n",
              "      height: 32px;\n",
              "      padding: 0 0 0 0;\n",
              "      width: 32px;\n",
              "    }\n",
              "\n",
              "    .colab-df-convert:hover {\n",
              "      background-color: #E2EBFA;\n",
              "      box-shadow: 0px 1px 2px rgba(60, 64, 67, 0.3), 0px 1px 3px 1px rgba(60, 64, 67, 0.15);\n",
              "      fill: #174EA6;\n",
              "    }\n",
              "\n",
              "    .colab-df-buttons div {\n",
              "      margin-bottom: 4px;\n",
              "    }\n",
              "\n",
              "    [theme=dark] .colab-df-convert {\n",
              "      background-color: #3B4455;\n",
              "      fill: #D2E3FC;\n",
              "    }\n",
              "\n",
              "    [theme=dark] .colab-df-convert:hover {\n",
              "      background-color: #434B5C;\n",
              "      box-shadow: 0px 1px 3px 1px rgba(0, 0, 0, 0.15);\n",
              "      filter: drop-shadow(0px 1px 2px rgba(0, 0, 0, 0.3));\n",
              "      fill: #FFFFFF;\n",
              "    }\n",
              "  </style>\n",
              "\n",
              "    <script>\n",
              "      const buttonEl =\n",
              "        document.querySelector('#df-a19e9f69-7488-4ed4-bf3d-b946f1b9fa62 button.colab-df-convert');\n",
              "      buttonEl.style.display =\n",
              "        google.colab.kernel.accessAllowed ? 'block' : 'none';\n",
              "\n",
              "      async function convertToInteractive(key) {\n",
              "        const element = document.querySelector('#df-a19e9f69-7488-4ed4-bf3d-b946f1b9fa62');\n",
              "        const dataTable =\n",
              "          await google.colab.kernel.invokeFunction('convertToInteractive',\n",
              "                                                    [key], {});\n",
              "        if (!dataTable) return;\n",
              "\n",
              "        const docLinkHtml = 'Like what you see? Visit the ' +\n",
              "          '<a target=\"_blank\" href=https://colab.research.google.com/notebooks/data_table.ipynb>data table notebook</a>'\n",
              "          + ' to learn more about interactive tables.';\n",
              "        element.innerHTML = '';\n",
              "        dataTable['output_type'] = 'display_data';\n",
              "        await google.colab.output.renderOutput(dataTable, element);\n",
              "        const docLink = document.createElement('div');\n",
              "        docLink.innerHTML = docLinkHtml;\n",
              "        element.appendChild(docLink);\n",
              "      }\n",
              "    </script>\n",
              "  </div>\n",
              "\n",
              "\n",
              "    <div id=\"df-a42f7763-4baf-488f-b672-d68a20a8f47d\">\n",
              "      <button class=\"colab-df-quickchart\" onclick=\"quickchart('df-a42f7763-4baf-488f-b672-d68a20a8f47d')\"\n",
              "                title=\"Suggest charts\"\n",
              "                style=\"display:none;\">\n",
              "\n",
              "<svg xmlns=\"http://www.w3.org/2000/svg\" height=\"24px\"viewBox=\"0 0 24 24\"\n",
              "     width=\"24px\">\n",
              "    <g>\n",
              "        <path d=\"M19 3H5c-1.1 0-2 .9-2 2v14c0 1.1.9 2 2 2h14c1.1 0 2-.9 2-2V5c0-1.1-.9-2-2-2zM9 17H7v-7h2v7zm4 0h-2V7h2v10zm4 0h-2v-4h2v4z\"/>\n",
              "    </g>\n",
              "</svg>\n",
              "      </button>\n",
              "\n",
              "<style>\n",
              "  .colab-df-quickchart {\n",
              "      --bg-color: #E8F0FE;\n",
              "      --fill-color: #1967D2;\n",
              "      --hover-bg-color: #E2EBFA;\n",
              "      --hover-fill-color: #174EA6;\n",
              "      --disabled-fill-color: #AAA;\n",
              "      --disabled-bg-color: #DDD;\n",
              "  }\n",
              "\n",
              "  [theme=dark] .colab-df-quickchart {\n",
              "      --bg-color: #3B4455;\n",
              "      --fill-color: #D2E3FC;\n",
              "      --hover-bg-color: #434B5C;\n",
              "      --hover-fill-color: #FFFFFF;\n",
              "      --disabled-bg-color: #3B4455;\n",
              "      --disabled-fill-color: #666;\n",
              "  }\n",
              "\n",
              "  .colab-df-quickchart {\n",
              "    background-color: var(--bg-color);\n",
              "    border: none;\n",
              "    border-radius: 50%;\n",
              "    cursor: pointer;\n",
              "    display: none;\n",
              "    fill: var(--fill-color);\n",
              "    height: 32px;\n",
              "    padding: 0;\n",
              "    width: 32px;\n",
              "  }\n",
              "\n",
              "  .colab-df-quickchart:hover {\n",
              "    background-color: var(--hover-bg-color);\n",
              "    box-shadow: 0 1px 2px rgba(60, 64, 67, 0.3), 0 1px 3px 1px rgba(60, 64, 67, 0.15);\n",
              "    fill: var(--button-hover-fill-color);\n",
              "  }\n",
              "\n",
              "  .colab-df-quickchart-complete:disabled,\n",
              "  .colab-df-quickchart-complete:disabled:hover {\n",
              "    background-color: var(--disabled-bg-color);\n",
              "    fill: var(--disabled-fill-color);\n",
              "    box-shadow: none;\n",
              "  }\n",
              "\n",
              "  .colab-df-spinner {\n",
              "    border: 2px solid var(--fill-color);\n",
              "    border-color: transparent;\n",
              "    border-bottom-color: var(--fill-color);\n",
              "    animation:\n",
              "      spin 1s steps(1) infinite;\n",
              "  }\n",
              "\n",
              "  @keyframes spin {\n",
              "    0% {\n",
              "      border-color: transparent;\n",
              "      border-bottom-color: var(--fill-color);\n",
              "      border-left-color: var(--fill-color);\n",
              "    }\n",
              "    20% {\n",
              "      border-color: transparent;\n",
              "      border-left-color: var(--fill-color);\n",
              "      border-top-color: var(--fill-color);\n",
              "    }\n",
              "    30% {\n",
              "      border-color: transparent;\n",
              "      border-left-color: var(--fill-color);\n",
              "      border-top-color: var(--fill-color);\n",
              "      border-right-color: var(--fill-color);\n",
              "    }\n",
              "    40% {\n",
              "      border-color: transparent;\n",
              "      border-right-color: var(--fill-color);\n",
              "      border-top-color: var(--fill-color);\n",
              "    }\n",
              "    60% {\n",
              "      border-color: transparent;\n",
              "      border-right-color: var(--fill-color);\n",
              "    }\n",
              "    80% {\n",
              "      border-color: transparent;\n",
              "      border-right-color: var(--fill-color);\n",
              "      border-bottom-color: var(--fill-color);\n",
              "    }\n",
              "    90% {\n",
              "      border-color: transparent;\n",
              "      border-bottom-color: var(--fill-color);\n",
              "    }\n",
              "  }\n",
              "</style>\n",
              "\n",
              "      <script>\n",
              "        async function quickchart(key) {\n",
              "          const quickchartButtonEl =\n",
              "            document.querySelector('#' + key + ' button');\n",
              "          quickchartButtonEl.disabled = true;  // To prevent multiple clicks.\n",
              "          quickchartButtonEl.classList.add('colab-df-spinner');\n",
              "          try {\n",
              "            const charts = await google.colab.kernel.invokeFunction(\n",
              "                'suggestCharts', [key], {});\n",
              "          } catch (error) {\n",
              "            console.error('Error during call to suggestCharts:', error);\n",
              "          }\n",
              "          quickchartButtonEl.classList.remove('colab-df-spinner');\n",
              "          quickchartButtonEl.classList.add('colab-df-quickchart-complete');\n",
              "        }\n",
              "        (() => {\n",
              "          let quickchartButtonEl =\n",
              "            document.querySelector('#df-a42f7763-4baf-488f-b672-d68a20a8f47d button');\n",
              "          quickchartButtonEl.style.display =\n",
              "            google.colab.kernel.accessAllowed ? 'block' : 'none';\n",
              "        })();\n",
              "      </script>\n",
              "    </div>\n",
              "\n",
              "    </div>\n",
              "  </div>\n"
            ],
            "application/vnd.google.colaboratory.intrinsic+json": {
              "type": "dataframe",
              "summary": "{\n  \"name\": \"pd\",\n  \"rows\": 3,\n  \"fields\": [\n    {\n      \"column\": \"Nilai yang Kosong\",\n      \"properties\": {\n        \"dtype\": \"number\",\n        \"std\": 0,\n        \"min\": 0,\n        \"max\": 0,\n        \"num_unique_values\": 1,\n        \"samples\": [\n          0\n        ],\n        \"semantic_type\": \"\",\n        \"description\": \"\"\n      }\n    }\n  ]\n}"
            }
          },
          "metadata": {},
          "execution_count": 18
        }
      ]
    },
    {
      "cell_type": "markdown",
      "source": [
        "Memeriksa kolom rating yang -1 yaitu user tidak memberikan rating. implicit null ?"
      ],
      "metadata": {
        "id": "JSkNcIPpkBmv"
      }
    },
    {
      "cell_type": "code",
      "source": [
        "print({'Nilai yang Kosong': (rating['rating'] == -1).sum()})"
      ],
      "metadata": {
        "colab": {
          "base_uri": "https://localhost:8080/"
        },
        "id": "GxqbhTlMivqf",
        "outputId": "d6595de0-7b9c-4f3a-8a08-40f732c03141"
      },
      "execution_count": 19,
      "outputs": [
        {
          "output_type": "stream",
          "name": "stdout",
          "text": [
            "{'Nilai yang Kosong': np.int64(1476496)}\n"
          ]
        }
      ]
    },
    {
      "cell_type": "code",
      "source": [
        "pd.DataFrame({'Nilai yang Kosong':anime.isnull().sum()})"
      ],
      "metadata": {
        "colab": {
          "base_uri": "https://localhost:8080/",
          "height": 269
        },
        "id": "cTLWPPxNJ8QN",
        "outputId": "7ed12cb5-03bd-4670-83de-f33b7e1c62bb"
      },
      "execution_count": 20,
      "outputs": [
        {
          "output_type": "execute_result",
          "data": {
            "text/plain": [
              "          Nilai yang Kosong\n",
              "anime_id                  0\n",
              "name                      0\n",
              "genre                    62\n",
              "type                     25\n",
              "episodes                  0\n",
              "rating                  230\n",
              "members                   0"
            ],
            "text/html": [
              "\n",
              "  <div id=\"df-d3ed9639-f772-45c8-b0b4-0a3f0638fd26\" class=\"colab-df-container\">\n",
              "    <div>\n",
              "<style scoped>\n",
              "    .dataframe tbody tr th:only-of-type {\n",
              "        vertical-align: middle;\n",
              "    }\n",
              "\n",
              "    .dataframe tbody tr th {\n",
              "        vertical-align: top;\n",
              "    }\n",
              "\n",
              "    .dataframe thead th {\n",
              "        text-align: right;\n",
              "    }\n",
              "</style>\n",
              "<table border=\"1\" class=\"dataframe\">\n",
              "  <thead>\n",
              "    <tr style=\"text-align: right;\">\n",
              "      <th></th>\n",
              "      <th>Nilai yang Kosong</th>\n",
              "    </tr>\n",
              "  </thead>\n",
              "  <tbody>\n",
              "    <tr>\n",
              "      <th>anime_id</th>\n",
              "      <td>0</td>\n",
              "    </tr>\n",
              "    <tr>\n",
              "      <th>name</th>\n",
              "      <td>0</td>\n",
              "    </tr>\n",
              "    <tr>\n",
              "      <th>genre</th>\n",
              "      <td>62</td>\n",
              "    </tr>\n",
              "    <tr>\n",
              "      <th>type</th>\n",
              "      <td>25</td>\n",
              "    </tr>\n",
              "    <tr>\n",
              "      <th>episodes</th>\n",
              "      <td>0</td>\n",
              "    </tr>\n",
              "    <tr>\n",
              "      <th>rating</th>\n",
              "      <td>230</td>\n",
              "    </tr>\n",
              "    <tr>\n",
              "      <th>members</th>\n",
              "      <td>0</td>\n",
              "    </tr>\n",
              "  </tbody>\n",
              "</table>\n",
              "</div>\n",
              "    <div class=\"colab-df-buttons\">\n",
              "\n",
              "  <div class=\"colab-df-container\">\n",
              "    <button class=\"colab-df-convert\" onclick=\"convertToInteractive('df-d3ed9639-f772-45c8-b0b4-0a3f0638fd26')\"\n",
              "            title=\"Convert this dataframe to an interactive table.\"\n",
              "            style=\"display:none;\">\n",
              "\n",
              "  <svg xmlns=\"http://www.w3.org/2000/svg\" height=\"24px\" viewBox=\"0 -960 960 960\">\n",
              "    <path d=\"M120-120v-720h720v720H120Zm60-500h600v-160H180v160Zm220 220h160v-160H400v160Zm0 220h160v-160H400v160ZM180-400h160v-160H180v160Zm440 0h160v-160H620v160ZM180-180h160v-160H180v160Zm440 0h160v-160H620v160Z\"/>\n",
              "  </svg>\n",
              "    </button>\n",
              "\n",
              "  <style>\n",
              "    .colab-df-container {\n",
              "      display:flex;\n",
              "      gap: 12px;\n",
              "    }\n",
              "\n",
              "    .colab-df-convert {\n",
              "      background-color: #E8F0FE;\n",
              "      border: none;\n",
              "      border-radius: 50%;\n",
              "      cursor: pointer;\n",
              "      display: none;\n",
              "      fill: #1967D2;\n",
              "      height: 32px;\n",
              "      padding: 0 0 0 0;\n",
              "      width: 32px;\n",
              "    }\n",
              "\n",
              "    .colab-df-convert:hover {\n",
              "      background-color: #E2EBFA;\n",
              "      box-shadow: 0px 1px 2px rgba(60, 64, 67, 0.3), 0px 1px 3px 1px rgba(60, 64, 67, 0.15);\n",
              "      fill: #174EA6;\n",
              "    }\n",
              "\n",
              "    .colab-df-buttons div {\n",
              "      margin-bottom: 4px;\n",
              "    }\n",
              "\n",
              "    [theme=dark] .colab-df-convert {\n",
              "      background-color: #3B4455;\n",
              "      fill: #D2E3FC;\n",
              "    }\n",
              "\n",
              "    [theme=dark] .colab-df-convert:hover {\n",
              "      background-color: #434B5C;\n",
              "      box-shadow: 0px 1px 3px 1px rgba(0, 0, 0, 0.15);\n",
              "      filter: drop-shadow(0px 1px 2px rgba(0, 0, 0, 0.3));\n",
              "      fill: #FFFFFF;\n",
              "    }\n",
              "  </style>\n",
              "\n",
              "    <script>\n",
              "      const buttonEl =\n",
              "        document.querySelector('#df-d3ed9639-f772-45c8-b0b4-0a3f0638fd26 button.colab-df-convert');\n",
              "      buttonEl.style.display =\n",
              "        google.colab.kernel.accessAllowed ? 'block' : 'none';\n",
              "\n",
              "      async function convertToInteractive(key) {\n",
              "        const element = document.querySelector('#df-d3ed9639-f772-45c8-b0b4-0a3f0638fd26');\n",
              "        const dataTable =\n",
              "          await google.colab.kernel.invokeFunction('convertToInteractive',\n",
              "                                                    [key], {});\n",
              "        if (!dataTable) return;\n",
              "\n",
              "        const docLinkHtml = 'Like what you see? Visit the ' +\n",
              "          '<a target=\"_blank\" href=https://colab.research.google.com/notebooks/data_table.ipynb>data table notebook</a>'\n",
              "          + ' to learn more about interactive tables.';\n",
              "        element.innerHTML = '';\n",
              "        dataTable['output_type'] = 'display_data';\n",
              "        await google.colab.output.renderOutput(dataTable, element);\n",
              "        const docLink = document.createElement('div');\n",
              "        docLink.innerHTML = docLinkHtml;\n",
              "        element.appendChild(docLink);\n",
              "      }\n",
              "    </script>\n",
              "  </div>\n",
              "\n",
              "\n",
              "    <div id=\"df-583a0ab9-4ebb-4e8a-95f5-8dffc3e1eba6\">\n",
              "      <button class=\"colab-df-quickchart\" onclick=\"quickchart('df-583a0ab9-4ebb-4e8a-95f5-8dffc3e1eba6')\"\n",
              "                title=\"Suggest charts\"\n",
              "                style=\"display:none;\">\n",
              "\n",
              "<svg xmlns=\"http://www.w3.org/2000/svg\" height=\"24px\"viewBox=\"0 0 24 24\"\n",
              "     width=\"24px\">\n",
              "    <g>\n",
              "        <path d=\"M19 3H5c-1.1 0-2 .9-2 2v14c0 1.1.9 2 2 2h14c1.1 0 2-.9 2-2V5c0-1.1-.9-2-2-2zM9 17H7v-7h2v7zm4 0h-2V7h2v10zm4 0h-2v-4h2v4z\"/>\n",
              "    </g>\n",
              "</svg>\n",
              "      </button>\n",
              "\n",
              "<style>\n",
              "  .colab-df-quickchart {\n",
              "      --bg-color: #E8F0FE;\n",
              "      --fill-color: #1967D2;\n",
              "      --hover-bg-color: #E2EBFA;\n",
              "      --hover-fill-color: #174EA6;\n",
              "      --disabled-fill-color: #AAA;\n",
              "      --disabled-bg-color: #DDD;\n",
              "  }\n",
              "\n",
              "  [theme=dark] .colab-df-quickchart {\n",
              "      --bg-color: #3B4455;\n",
              "      --fill-color: #D2E3FC;\n",
              "      --hover-bg-color: #434B5C;\n",
              "      --hover-fill-color: #FFFFFF;\n",
              "      --disabled-bg-color: #3B4455;\n",
              "      --disabled-fill-color: #666;\n",
              "  }\n",
              "\n",
              "  .colab-df-quickchart {\n",
              "    background-color: var(--bg-color);\n",
              "    border: none;\n",
              "    border-radius: 50%;\n",
              "    cursor: pointer;\n",
              "    display: none;\n",
              "    fill: var(--fill-color);\n",
              "    height: 32px;\n",
              "    padding: 0;\n",
              "    width: 32px;\n",
              "  }\n",
              "\n",
              "  .colab-df-quickchart:hover {\n",
              "    background-color: var(--hover-bg-color);\n",
              "    box-shadow: 0 1px 2px rgba(60, 64, 67, 0.3), 0 1px 3px 1px rgba(60, 64, 67, 0.15);\n",
              "    fill: var(--button-hover-fill-color);\n",
              "  }\n",
              "\n",
              "  .colab-df-quickchart-complete:disabled,\n",
              "  .colab-df-quickchart-complete:disabled:hover {\n",
              "    background-color: var(--disabled-bg-color);\n",
              "    fill: var(--disabled-fill-color);\n",
              "    box-shadow: none;\n",
              "  }\n",
              "\n",
              "  .colab-df-spinner {\n",
              "    border: 2px solid var(--fill-color);\n",
              "    border-color: transparent;\n",
              "    border-bottom-color: var(--fill-color);\n",
              "    animation:\n",
              "      spin 1s steps(1) infinite;\n",
              "  }\n",
              "\n",
              "  @keyframes spin {\n",
              "    0% {\n",
              "      border-color: transparent;\n",
              "      border-bottom-color: var(--fill-color);\n",
              "      border-left-color: var(--fill-color);\n",
              "    }\n",
              "    20% {\n",
              "      border-color: transparent;\n",
              "      border-left-color: var(--fill-color);\n",
              "      border-top-color: var(--fill-color);\n",
              "    }\n",
              "    30% {\n",
              "      border-color: transparent;\n",
              "      border-left-color: var(--fill-color);\n",
              "      border-top-color: var(--fill-color);\n",
              "      border-right-color: var(--fill-color);\n",
              "    }\n",
              "    40% {\n",
              "      border-color: transparent;\n",
              "      border-right-color: var(--fill-color);\n",
              "      border-top-color: var(--fill-color);\n",
              "    }\n",
              "    60% {\n",
              "      border-color: transparent;\n",
              "      border-right-color: var(--fill-color);\n",
              "    }\n",
              "    80% {\n",
              "      border-color: transparent;\n",
              "      border-right-color: var(--fill-color);\n",
              "      border-bottom-color: var(--fill-color);\n",
              "    }\n",
              "    90% {\n",
              "      border-color: transparent;\n",
              "      border-bottom-color: var(--fill-color);\n",
              "    }\n",
              "  }\n",
              "</style>\n",
              "\n",
              "      <script>\n",
              "        async function quickchart(key) {\n",
              "          const quickchartButtonEl =\n",
              "            document.querySelector('#' + key + ' button');\n",
              "          quickchartButtonEl.disabled = true;  // To prevent multiple clicks.\n",
              "          quickchartButtonEl.classList.add('colab-df-spinner');\n",
              "          try {\n",
              "            const charts = await google.colab.kernel.invokeFunction(\n",
              "                'suggestCharts', [key], {});\n",
              "          } catch (error) {\n",
              "            console.error('Error during call to suggestCharts:', error);\n",
              "          }\n",
              "          quickchartButtonEl.classList.remove('colab-df-spinner');\n",
              "          quickchartButtonEl.classList.add('colab-df-quickchart-complete');\n",
              "        }\n",
              "        (() => {\n",
              "          let quickchartButtonEl =\n",
              "            document.querySelector('#df-583a0ab9-4ebb-4e8a-95f5-8dffc3e1eba6 button');\n",
              "          quickchartButtonEl.style.display =\n",
              "            google.colab.kernel.accessAllowed ? 'block' : 'none';\n",
              "        })();\n",
              "      </script>\n",
              "    </div>\n",
              "\n",
              "    </div>\n",
              "  </div>\n"
            ],
            "application/vnd.google.colaboratory.intrinsic+json": {
              "type": "dataframe",
              "summary": "{\n  \"name\": \"pd\",\n  \"rows\": 7,\n  \"fields\": [\n    {\n      \"column\": \"Nilai yang Kosong\",\n      \"properties\": {\n        \"dtype\": \"number\",\n        \"std\": 84,\n        \"min\": 0,\n        \"max\": 230,\n        \"num_unique_values\": 4,\n        \"samples\": [\n          62,\n          230,\n          0\n        ],\n        \"semantic_type\": \"\",\n        \"description\": \"\"\n      }\n    }\n  ]\n}"
            }
          },
          "metadata": {},
          "execution_count": 20
        }
      ]
    },
    {
      "cell_type": "markdown",
      "source": [
        "Terdapat beberapa missing value yaitu\n",
        " - genre : 62\n",
        " - type : 25\n",
        " - rating : 230"
      ],
      "metadata": {
        "id": "I6w2PiAHKFfi"
      }
    },
    {
      "cell_type": "markdown",
      "source": [
        "Memeriksa unique value dari genre"
      ],
      "metadata": {
        "id": "_GH7nshhWwtH"
      }
    },
    {
      "cell_type": "code",
      "source": [
        "unique_genres = set()\n",
        "\n",
        "# Loop semua baris dan pecah genre berdasarkan koma\n",
        "for genres in anime['genre'].dropna():\n",
        "    for genre in genres.split(','):\n",
        "        unique_genres.add(genre.strip())\n",
        "\n",
        "# Tampilkan semua genre unik\n",
        "print(sorted(unique_genres))\n",
        "\n",
        "# Tampilkan jumlah genre unik\n",
        "print(f\"Total unique genres: {len(unique_genres)}\")\n"
      ],
      "metadata": {
        "colab": {
          "base_uri": "https://localhost:8080/"
        },
        "id": "p35A2Ep4W23e",
        "outputId": "972ef9d4-379c-4cc6-fce1-f8c0a34fcad5"
      },
      "execution_count": 103,
      "outputs": [
        {
          "output_type": "stream",
          "name": "stdout",
          "text": [
            "['Action', 'Adventure', 'Cars', 'Comedy', 'Dementia', 'Demons', 'Drama', 'Ecchi', 'Fantasy', 'Game', 'Harem', 'Hentai', 'Historical', 'Horror', 'Josei', 'Kids', 'Magic', 'Martial Arts', 'Mecha', 'Military', 'Music', 'Mystery', 'Parody', 'Police', 'Psychological', 'Romance', 'Samurai', 'School', 'Sci-Fi', 'Seinen', 'Shoujo', 'Shoujo Ai', 'Shounen', 'Shounen Ai', 'Slice of Life', 'Space', 'Sports', 'Super Power', 'Supernatural', 'Thriller', 'Vampire', 'Yaoi', 'Yuri']\n",
            "Total unique genres: 43\n"
          ]
        }
      ]
    },
    {
      "cell_type": "markdown",
      "source": [
        "Terdapat"
      ],
      "metadata": {
        "id": "5RHp1_T3W3vQ"
      }
    },
    {
      "cell_type": "markdown",
      "source": [
        "#### Statistik Deskripsi"
      ],
      "metadata": {
        "id": "SA57XryIJC2-"
      }
    },
    {
      "cell_type": "markdown",
      "source": [
        "Fungsi `describe()` memberikan informasi statistik pada masing-masing kolom, antara lain:\n",
        "\n",
        "- Count : Jumlah sampel pada data.\n",
        "- Mean : Nilai rata-rata.\n",
        "- Std : Standar deviasi.\n",
        "- Min : nilai minimum setiap kolom.\n",
        "- 25% : Kuartil pertama adalah nilai yang menandai batas interval dalam empat bagian sebaran yang sama.\n",
        "- 50% : Kuartil kedua, atau biasa juga disebut median (nilai tengah).\n",
        "- 75% : Kuartil ketiga.\n",
        "- Max : Nilai maksimum."
      ],
      "metadata": {
        "id": "QkfI1ZNviMNY"
      }
    },
    {
      "cell_type": "markdown",
      "source": [
        "#### Deskripsi statistik dari rating"
      ],
      "metadata": {
        "id": "FkUP7EQyiPIc"
      }
    },
    {
      "cell_type": "code",
      "source": [
        "pd.set_option('display.float_format', '{:.2f}'.format)\n",
        "\n",
        "# Tampilkan ringkasan statistik dengan format biasa\n",
        "print(rating.describe())"
      ],
      "metadata": {
        "colab": {
          "base_uri": "https://localhost:8080/"
        },
        "id": "GPPD6iAhI2ar",
        "outputId": "810faf09-ec12-4d89-8a0c-25d6a51f13c5"
      },
      "execution_count": 21,
      "outputs": [
        {
          "output_type": "stream",
          "name": "stdout",
          "text": [
            "         user_id   anime_id     rating\n",
            "count 7813737.00 7813737.00 7813737.00\n",
            "mean    36727.96    8909.07       6.14\n",
            "std     20997.95    8883.95       3.73\n",
            "min         1.00       1.00      -1.00\n",
            "25%     18974.00    1240.00       6.00\n",
            "50%     36791.00    6213.00       7.00\n",
            "75%     54757.00   14093.00       9.00\n",
            "max     73516.00   34519.00      10.00\n"
          ]
        }
      ]
    },
    {
      "cell_type": "markdown",
      "source": [
        "Dari informasi diatas dapat disimpulkan bahwa data ini memiliki rentang rating dari -1 hingga 10 dengan rata-rata 6.14 . -1 menandakan user belum memberikan rating"
      ],
      "metadata": {
        "id": "6kfEgDxdKivK"
      }
    },
    {
      "cell_type": "markdown",
      "source": [
        "#### Deskripsi statistik dari anime"
      ],
      "metadata": {
        "id": "Oz8LDZTFiTd3"
      }
    },
    {
      "cell_type": "code",
      "source": [
        "pd.set_option('display.float_format', '{:.2f}'.format)\n",
        "# Tampilkan ringkasan statistik dengan format biasa\n",
        "print(anime.describe())"
      ],
      "metadata": {
        "colab": {
          "base_uri": "https://localhost:8080/"
        },
        "id": "hi4qtGqtiTmv",
        "outputId": "cedd700d-5bbb-4513-d5b0-a58d29d8d869"
      },
      "execution_count": 22,
      "outputs": [
        {
          "output_type": "stream",
          "name": "stdout",
          "text": [
            "       anime_id   rating    members\n",
            "count  12294.00 12064.00   12294.00\n",
            "mean   14058.22     6.47   18071.34\n",
            "std    11455.29     1.03   54820.68\n",
            "min        1.00     1.67       5.00\n",
            "25%     3484.25     5.88     225.00\n",
            "50%    10260.50     6.57    1550.00\n",
            "75%    24794.50     7.18    9437.00\n",
            "max    34527.00    10.00 1013917.00\n"
          ]
        }
      ]
    },
    {
      "cell_type": "markdown",
      "source": [
        "Dapat dilihat dari informasi diatas bahwa member komunitas terbanyak ada di angka 1.013.917 yaitu 1 juta lebih member dengan yang paling sedikit 5 member. rata-rata rating berada di 6.47 dengan rating paling kecil ada di 1.67 dan rating paling tinggi ada di 10"
      ],
      "metadata": {
        "id": "zQsnldy0qXlY"
      }
    },
    {
      "cell_type": "markdown",
      "source": [
        "# Exploratory Data  Analysis (EDA)"
      ],
      "metadata": {
        "id": "JuPIbTwCQPM5"
      }
    },
    {
      "cell_type": "markdown",
      "source": [
        "## 1. Anime Dataset EDA"
      ],
      "metadata": {
        "id": "RkVlYlqkcxtC"
      }
    },
    {
      "cell_type": "markdown",
      "source": [
        "Distribusi rating anime keseluruhan"
      ],
      "metadata": {
        "id": "J2yIbHuK66Le"
      }
    },
    {
      "cell_type": "code",
      "source": [
        "sns.histplot(anime['rating'], bins=20)\n",
        "plt.title('Distribution of Anime Ratings')\n",
        "plt.show()"
      ],
      "metadata": {
        "colab": {
          "base_uri": "https://localhost:8080/",
          "height": 472
        },
        "id": "Q5eWwll8uDws",
        "outputId": "4ca1a580-a072-46f1-9c02-57d37f4621ad"
      },
      "execution_count": 23,
      "outputs": [
        {
          "output_type": "display_data",
          "data": {
            "text/plain": [
              "<Figure size 640x480 with 1 Axes>"
            ],
            "image/png": "[encoded data removed]"
          },
          "metadata": {}
        }
      ]
    },
    {
      "cell_type": "markdown",
      "source": [
        "Distribusi left-skewed dengan kebanyakan di rentang 6-7"
      ],
      "metadata": {
        "id": "tLZsw9KC7ttY"
      }
    },
    {
      "cell_type": "markdown",
      "source": [
        "Distribusi member anime"
      ],
      "metadata": {
        "id": "feMpvS92gBpO"
      }
    },
    {
      "cell_type": "code",
      "source": [
        "# Salin dan urutkan data\n",
        "top_anime = anime.copy()\n",
        "top_anime = top_anime.dropna(subset=['name', 'members'])\n",
        "top_anime_temp1 = top_anime.sort_values([\"members\"], ascending=False).head(10)\n",
        "\n",
        "# Buat plot\n",
        "plt.subplots(figsize=(20, 8))\n",
        "p = sns.barplot(x=top_anime_temp1[\"name\"], y=top_anime_temp1[\"members\"],\n",
        "                order=top_anime_temp1[\"name\"], saturation=1,\n",
        "                edgecolor=\"#1c1c1c\", linewidth=2, color=\"#FF9F40\")\n",
        "p.axes.set_title(\"\\nTop Anime Community\\n\", fontsize=25)\n",
        "plt.ylabel(\"Total Member\", fontsize=20)\n",
        "plt.xlabel(\"\\nAnime Name\", fontsize=20)\n",
        "plt.xticks(rotation=90)\n",
        "for container in p.containers:\n",
        "    p.bar_label(container, label_type=\"center\", padding=6, size=15, color=\"black\", rotation=90,\n",
        "                bbox={\"boxstyle\": \"round\", \"pad\": 0.6, \"facecolor\": \"orange\", \"edgecolor\": \"black\", \"alpha\": 1})\n",
        "sns.despine(left=True, bottom=True)\n",
        "plt.show()\n",
        "\n",
        "# Cetak data untuk chart\n",
        "print(\"Labels:\", top_anime_temp1[\"name\"].tolist())\n",
        "print(\"Data:\", top_anime_temp1[\"members\"].tolist())"
      ],
      "metadata": {
        "colab": {
          "base_uri": "https://localhost:8080/",
          "height": 818
        },
        "id": "EQ4wXu5MgDZa",
        "outputId": "fd1b94fd-a6f5-4cb4-afcb-8c37c09ee59a"
      },
      "execution_count": 149,
      "outputs": [
        {
          "output_type": "display_data",
          "data": {
            "text/plain": [
              "<Figure size 2000x800 with 1 Axes>"
            ],
            "image/png": "[encoded data removed]"
          },
          "metadata": {}
        },
        {
          "output_type": "stream",
          "name": "stdout",
          "text": [
            "Labels: ['Death Note', 'Shingeki no Kyojin', 'Sword Art Online', 'Fullmetal Alchemist: Brotherhood', 'Angel Beats!', 'Code Geass: Hangyaku no Lelouch', 'Naruto', 'Steins;Gate', 'Mirai Nikki (TV)', 'Toradora!']\n",
            "Data: [1013917, 896229, 893100, 793665, 717796, 715151, 683297, 673572, 657190, 633817]\n"
          ]
        }
      ]
    },
    {
      "cell_type": "markdown",
      "source": [
        "Anime dengan member komunitas terbanyak jatuh kepada 'Death Note' dengan jumlah member 1.013.917"
      ],
      "metadata": {
        "id": "O11vVefPguBf"
      }
    },
    {
      "cell_type": "markdown",
      "source": [
        "Distribusi anime berdasarkan genre"
      ],
      "metadata": {
        "id": "vKahEzAxrtKN"
      }
    },
    {
      "cell_type": "code",
      "source": [
        "# Pisahkan genre-genre yang digabung menjadi list\n",
        "anime_genres = anime[['name', 'genre']].copy()\n",
        "anime_genres['genre'] = anime_genres['genre'].str.split(', ')\n",
        "\n",
        "# Ubah format ke bentuk \"long\" (satu baris = satu genre)\n",
        "anime_exploded = anime_genres.explode('genre')\n",
        "\n",
        "# Hitung distribusi genre\n",
        "genre_counts = anime_exploded['genre'].value_counts()\n",
        "\n",
        "# Visualisasi\n",
        "plt.figure(figsize=(14,6))\n",
        "\n",
        "plt.subplot(1,2,1)\n",
        "sns.barplot(x=genre_counts.index[:5], y=genre_counts.values[:5], palette='Set2')\n",
        "plt.xticks(rotation=45)\n",
        "plt.title('Top 5 Most Common Genres')\n",
        "\n",
        "plt.subplot(1,2,2)\n",
        "plt.pie(genre_counts[:5], labels=genre_counts.index[:5], autopct='%1.1f%%', startangle=90, shadow=True,\n",
        "        colors=['#ff9999','#66b3ff','#99ff99','#ffcc99','#c2c2f0'])\n",
        "plt.title('Top 5 Genre Distribution')\n",
        "\n",
        "plt.suptitle('Anime Genre Distribution')\n",
        "plt.tight_layout()\n",
        "plt.show()"
      ],
      "metadata": {
        "colab": {
          "base_uri": "https://localhost:8080/",
          "height": 650
        },
        "id": "BYMmKSmbZM3j",
        "outputId": "d06bd3f8-dd27-4a22-e53b-a3fed1f2c28d"
      },
      "execution_count": 24,
      "outputs": [
        {
          "output_type": "stream",
          "name": "stderr",
          "text": [
            "<ipython-input-24-fdec46122d0c>:15: FutureWarning: \n",
            "\n",
            "Passing `palette` without assigning `hue` is deprecated and will be removed in v0.14.0. Assign the `x` variable to `hue` and set `legend=False` for the same effect.\n",
            "\n",
            "  sns.barplot(x=genre_counts.index[:5], y=genre_counts.values[:5], palette='Set2')\n"
          ]
        },
        {
          "output_type": "display_data",
          "data": {
            "text/plain": [
              "<Figure size 1400x600 with 2 Axes>"
            ],
            "image/png": "[encoded data removed]"
          },
          "metadata": {}
        }
      ]
    },
    {
      "cell_type": "markdown",
      "source": [
        "Genre comedy memiliki anime terbanyak dengan jumlah 32.7%"
      ],
      "metadata": {
        "id": "OIRz4Nr97xBp"
      }
    },
    {
      "cell_type": "markdown",
      "source": [
        "Distribusi anime berdasarkan type"
      ],
      "metadata": {
        "id": "m1k_1Tq7rvb6"
      }
    },
    {
      "cell_type": "code",
      "source": [
        "# DISPLAY DISTRIBUTION ANIME BY TYPE\n",
        "\n",
        "anime_type = anime.groupby(by='type')['name'].count()\n",
        "plt.figure(figsize=(12,6))\n",
        "\n",
        "# VISUALIZE\n",
        "plt.subplot(1,2,1)\n",
        "sns.barplot(x = anime_type.index, y = anime_type.values, palette='Set3')\n",
        "\n",
        "plt.subplot(1,2,2)\n",
        "type_counts = anime['type'].value_counts()\n",
        "plt.pie(type_counts, labels = type_counts.index, autopct='%1.1f%%', startangle=90, shadow=True, colors=['#ff9999','#66b3ff','#99ff99','#ffcc99'])\n",
        "\n",
        "plt.suptitle('Anime Type Distribution')\n",
        "plt.show()"
      ],
      "metadata": {
        "colab": {
          "base_uri": "https://localhost:8080/",
          "height": 709
        },
        "id": "ymEEFCKoX8lu",
        "outputId": "e518a0b1-9fcc-4885-f70e-fb65ef42ba92"
      },
      "execution_count": 25,
      "outputs": [
        {
          "output_type": "stream",
          "name": "stderr",
          "text": [
            "<ipython-input-25-8d07cdbdf8fc>:8: FutureWarning: \n",
            "\n",
            "Passing `palette` without assigning `hue` is deprecated and will be removed in v0.14.0. Assign the `x` variable to `hue` and set `legend=False` for the same effect.\n",
            "\n",
            "  sns.barplot(x = anime_type.index, y = anime_type.values, palette='Set3')\n"
          ]
        },
        {
          "output_type": "display_data",
          "data": {
            "text/plain": [
              "<Figure size 1200x600 with 2 Axes>"
            ],
            "image/png": "[encoded data removed]"
          },
          "metadata": {}
        }
      ]
    },
    {
      "cell_type": "markdown",
      "source": [
        "Tipe anime TV memiliki distribusi terbanyak dengan jumlah 31.1%"
      ],
      "metadata": {
        "id": "n9M8lLUD70-n"
      }
    },
    {
      "cell_type": "markdown",
      "source": [
        "Top anime berdasarkan rating"
      ],
      "metadata": {
        "id": "f8Z1IaB2Yw_g"
      }
    },
    {
      "cell_type": "code",
      "source": [
        "# Ambil 5 anime dengan rating tertinggi\n",
        "top5_rating = anime.sort_values(by='rating', ascending=False).head(10)\n",
        "\n",
        "plt.figure(figsize=(10,6))\n",
        "sns.barplot(x='rating', y='name', data=top5_rating, palette='viridis')\n",
        "plt.title('Top 10 Anime by Rating')\n",
        "plt.xlabel('Rating')\n",
        "plt.ylabel('Anime Name')\n",
        "plt.show()"
      ],
      "metadata": {
        "colab": {
          "base_uri": "https://localhost:8080/",
          "height": 671
        },
        "id": "mNgEKIryULdb",
        "outputId": "7c5228c4-2622-4895-eae8-8f58d1a8d66f"
      },
      "execution_count": 26,
      "outputs": [
        {
          "output_type": "stream",
          "name": "stderr",
          "text": [
            "<ipython-input-26-ae64d732a6a3>:5: FutureWarning: \n",
            "\n",
            "Passing `palette` without assigning `hue` is deprecated and will be removed in v0.14.0. Assign the `y` variable to `hue` and set `legend=False` for the same effect.\n",
            "\n",
            "  sns.barplot(x='rating', y='name', data=top5_rating, palette='viridis')\n"
          ]
        },
        {
          "output_type": "display_data",
          "data": {
            "text/plain": [
              "<Figure size 1000x600 with 1 Axes>"
            ],
            "image/png": "[encoded data removed]"
          },
          "metadata": {}
        }
      ]
    },
    {
      "cell_type": "markdown",
      "source": [
        "Anime terbaik berdasarkan rating adalah Taka no Tsume8: Yoshida-kun no X-Files dengan rating 10 diikuti dengan spoon-hime no swing kitchen pada urutan kedua\n",
        "\n",
        "\n",
        "\n"
      ],
      "metadata": {
        "id": "cjXhIF4q76Hl"
      }
    },
    {
      "cell_type": "markdown",
      "source": [
        "2. Rating dataset EDA"
      ],
      "metadata": {
        "id": "1QYPasLMZACR"
      }
    },
    {
      "cell_type": "code",
      "source": [
        "sns.histplot(rating['rating'], bins=10)\n",
        "plt.title('Distribution of User Ratings')\n",
        "plt.show()"
      ],
      "metadata": {
        "colab": {
          "base_uri": "https://localhost:8080/",
          "height": 472
        },
        "id": "IrVJZsUjuLGB",
        "outputId": "4b10e636-0990-4484-abf6-474db4b12b3b"
      },
      "execution_count": 27,
      "outputs": [
        {
          "output_type": "display_data",
          "data": {
            "text/plain": [
              "<Figure size 640x480 with 1 Axes>"
            ],
            "image/png": "[encoded data removed]"
          },
          "metadata": {}
        }
      ]
    },
    {
      "cell_type": "markdown",
      "source": [
        "Distribusi left-skewed dengan kebanyakan di rentang 7-8 dan terdapat outliers yaitu -1 yang nantinya akan di hilangkan"
      ],
      "metadata": {
        "id": "cuhnsJk17nzz"
      }
    },
    {
      "cell_type": "markdown",
      "source": [
        "#Data Preparation"
      ],
      "metadata": {
        "id": "1Ur8qQ7NwUMR"
      }
    },
    {
      "cell_type": "markdown",
      "source": [
        "Data preprocessing akan dilakukan pada model masing-masing"
      ],
      "metadata": {
        "id": "Ey0swWuWPXSV"
      }
    },
    {
      "cell_type": "markdown",
      "source": [
        "## Data Cleaning"
      ],
      "metadata": {
        "id": "PCsAOQN0Y_WQ"
      }
    },
    {
      "cell_type": "markdown",
      "source": [
        "Melakukan penghapusan pada baris yang genre null dan mengisi type yang kosong dengan yang paling umum."
      ],
      "metadata": {
        "id": "g51ookW8wwmp"
      }
    },
    {
      "cell_type": "code",
      "source": [
        "#Menghapus baris yang genrenya kosong\n",
        "anime = anime[anime['genre'].notnull()]\n",
        "#isi type kosong dengan yang paling umum\n",
        "anime['type'].fillna(anime['type'].mode()[0], inplace=True)\n",
        "\n",
        "#Drop baris dengan rating null\n",
        "anime = anime.dropna(subset=[\"rating\"])"
      ],
      "metadata": {
        "colab": {
          "base_uri": "https://localhost:8080/"
        },
        "id": "7wVmnOiiwlrk",
        "outputId": "98eecc9d-0caa-4af4-8902-59b88abbcf82"
      },
      "execution_count": 29,
      "outputs": [
        {
          "output_type": "stream",
          "name": "stderr",
          "text": [
            "<ipython-input-29-09e6c82b00a3>:4: FutureWarning: A value is trying to be set on a copy of a DataFrame or Series through chained assignment using an inplace method.\n",
            "The behavior will change in pandas 3.0. This inplace method will never work because the intermediate object on which we are setting values always behaves as a copy.\n",
            "\n",
            "For example, when doing 'df[col].method(value, inplace=True)', try using 'df.method({col: value}, inplace=True)' or df[col] = df[col].method(value) instead, to perform the operation inplace on the original object.\n",
            "\n",
            "\n",
            "  anime['type'].fillna(anime['type'].mode()[0], inplace=True)\n",
            "<ipython-input-29-09e6c82b00a3>:4: SettingWithCopyWarning: \n",
            "A value is trying to be set on a copy of a slice from a DataFrame\n",
            "\n",
            "See the caveats in the documentation: https://pandas.pydata.org/pandas-docs/stable/user_guide/indexing.html#returning-a-view-versus-a-copy\n",
            "  anime['type'].fillna(anime['type'].mode()[0], inplace=True)\n"
          ]
        }
      ]
    },
    {
      "cell_type": "markdown",
      "source": [
        "drop duplikat"
      ],
      "metadata": {
        "id": "OOrd8yQA9iHE"
      }
    },
    {
      "cell_type": "code",
      "source": [
        "anime=anime.drop_duplicates()"
      ],
      "metadata": {
        "id": "XQm8-jTY9jdW"
      },
      "execution_count": 30,
      "outputs": []
    },
    {
      "cell_type": "markdown",
      "source": [
        "drop null pada rating"
      ],
      "metadata": {
        "id": "FPShhS0NQUFH"
      }
    },
    {
      "cell_type": "code",
      "source": [
        "#ganti -1 jadi NaN sebelumnya\n",
        "rating.replace(-1, np.nan, inplace=True)\n",
        "rating.dropna(inplace=True)"
      ],
      "metadata": {
        "id": "_M2u7CcJQW-5"
      },
      "execution_count": 31,
      "outputs": []
    },
    {
      "cell_type": "code",
      "source": [
        "print(anime.isnull().sum())\n",
        "print(rating.isnull().sum())\n",
        "\n"
      ],
      "metadata": {
        "colab": {
          "base_uri": "https://localhost:8080/"
        },
        "id": "cSN1YiBUv3Pb",
        "outputId": "32559cf5-de63-4306-d741-790c7905c2d7"
      },
      "execution_count": 32,
      "outputs": [
        {
          "output_type": "stream",
          "name": "stdout",
          "text": [
            "anime_id    0\n",
            "name        0\n",
            "genre       0\n",
            "type        0\n",
            "episodes    0\n",
            "rating      0\n",
            "members     0\n",
            "dtype: int64\n",
            "user_id     0\n",
            "anime_id    0\n",
            "rating      0\n",
            "dtype: int64\n"
          ]
        }
      ]
    },
    {
      "cell_type": "markdown",
      "source": [
        "Pada nama anime terdapat banyak simbol"
      ],
      "metadata": {
        "id": "97xhauS5HsUh"
      }
    },
    {
      "cell_type": "code",
      "source": [
        "def text_cleaning(text):\n",
        "    text = re.sub(r'&quot;', '', text)\n",
        "    text = re.sub(r'.hack//', '', text)\n",
        "    text = re.sub(r'&#039;', '', text)\n",
        "    text = re.sub(r'A&#039;s', '', text)\n",
        "    text = re.sub(r'I&#039;', 'I\\'', text)\n",
        "    text = re.sub(r'&amp;', 'and', text)\n",
        "\n",
        "    return text\n",
        "\n",
        "anime['name'] =anime['name'].apply(text_cleaning)"
      ],
      "metadata": {
        "id": "v9zsRIoNHpcw"
      },
      "execution_count": 33,
      "outputs": []
    },
    {
      "cell_type": "markdown",
      "source": [
        "#Modelling"
      ],
      "metadata": {
        "id": "7zx2znSty9Dq"
      }
    },
    {
      "cell_type": "markdown",
      "source": [
        "## Content Based Filtering"
      ],
      "metadata": {
        "id": "dUcTqGS0zIn4"
      }
    },
    {
      "cell_type": "markdown",
      "source": [
        "### TF-IDF Vectorizer"
      ],
      "metadata": {
        "id": "m5hfVt1rL2jw"
      }
    },
    {
      "cell_type": "markdown",
      "source": [
        "### Data preparation"
      ],
      "metadata": {
        "id": "VkxqWDdWPxeg"
      }
    },
    {
      "cell_type": "code",
      "source": [
        "# Salin fulldata untuk menghindari perubahan pada DataFrame asli\n",
        "df_content = anime.copy()\n",
        "\n",
        "# Pisahkan genre berdasarkan koma (dengan spasi opsional) dan gabungkan dengan spasi\n",
        "df_content[\"genre\"] = df_content[\"genre\"].str.split(',').apply(lambda genres: ' '.join([g.strip().replace(' ', '_') for g in genres]))\n",
        "  # Ubah \"Drama, Romance\" jadi \"Drama Romance\"\n"
      ],
      "metadata": {
        "id": "rZpwaFmxPyzz"
      },
      "execution_count": 120,
      "outputs": []
    },
    {
      "cell_type": "markdown",
      "source": [
        "### TF-IDF Vectorizer"
      ],
      "metadata": {
        "id": "rPiqH_aRPzf9"
      }
    },
    {
      "cell_type": "code",
      "source": [
        "# Inisialisasi TfidfVectorizer untuk ekstraksi fitur genre\n",
        "tfidf = TfidfVectorizer()\n",
        "\n",
        "\n",
        "# Ubah genre menjadi matriks TF-IDF\n",
        "tfidf_matrix = tfidf.fit_transform(df_content[\"genre\"])  # Buat vektor numerik untuk genre\n",
        "tfidf_matrix.shape"
      ],
      "metadata": {
        "colab": {
          "base_uri": "https://localhost:8080/"
        },
        "id": "27kWtViaBs3Y",
        "outputId": "c209cf55-6200-4fbb-9baa-6020fa6a736e"
      },
      "execution_count": 121,
      "outputs": [
        {
          "output_type": "execute_result",
          "data": {
            "text/plain": [
              "(12017, 44)"
            ]
          },
          "metadata": {},
          "execution_count": 121
        }
      ]
    },
    {
      "cell_type": "markdown",
      "source": [
        "Jumlah genre sudah benar 44, (43 + 1 yaitu nama)"
      ],
      "metadata": {
        "id": "Dj_YMmwyYi9U"
      }
    },
    {
      "cell_type": "code",
      "source": [
        "tfidf_matrix.todense()"
      ],
      "metadata": {
        "colab": {
          "base_uri": "https://localhost:8080/"
        },
        "id": "5p5hS_uMI27L",
        "outputId": "7d68dad6-5b8d-42d7-8750-b4eafcd38d6a"
      },
      "execution_count": 125,
      "outputs": [
        {
          "output_type": "execute_result",
          "data": {
            "text/plain": [
              "matrix([[0.        , 0.        , 0.        , ..., 0.        , 0.        ,\n",
              "         0.        ],\n",
              "        [0.29453722, 0.3158063 , 0.        , ..., 0.        , 0.        ,\n",
              "         0.        ],\n",
              "        [0.25133996, 0.        , 0.        , ..., 0.        , 0.        ,\n",
              "         0.        ],\n",
              "        ...,\n",
              "        [0.        , 0.        , 0.        , ..., 0.        , 0.        ,\n",
              "         0.        ],\n",
              "        [0.        , 0.        , 0.        , ..., 0.        , 0.        ,\n",
              "         0.        ],\n",
              "        [0.        , 0.        , 0.        , ..., 0.        , 0.        ,\n",
              "         0.        ]])"
            ]
          },
          "metadata": {},
          "execution_count": 125
        }
      ]
    },
    {
      "cell_type": "markdown",
      "source": [
        "tabel berisi nama anime beserta genre berdasarkan TF-IDF yang telah diinisiasi."
      ],
      "metadata": {
        "id": "kDA7a2gRMPtQ"
      }
    },
    {
      "cell_type": "code",
      "source": [
        "pd.DataFrame(\n",
        "    tfidf_matrix.todense(),\n",
        "    columns = tfidf.get_feature_names_out(),\n",
        "    index = df_content.name\n",
        ")"
      ],
      "metadata": {
        "colab": {
          "base_uri": "https://localhost:8080/",
          "height": 753
        },
        "id": "wZQp5wciI52u",
        "outputId": "158d3ca0-85ff-42ad-f660-12276c8971d8"
      },
      "execution_count": 126,
      "outputs": [
        {
          "output_type": "execute_result",
          "data": {
            "text/plain": [
              "                                                    action  adventure  cars  \\\n",
              "name                                                                          \n",
              "Kimi no Na wa.                                        0.00       0.00  0.00   \n",
              "Fullmetal Alchemist: Brotherhood                      0.29       0.32  0.00   \n",
              "Gintama°                                              0.25       0.00  0.00   \n",
              "Steins;Gate                                           0.00       0.00  0.00   \n",
              "Gintama                                               0.25       0.00  0.00   \n",
              "...                                                    ...        ...   ...   \n",
              "Toushindai My Lover: Minami tai Mecha-Minami          0.00       0.00  0.00   \n",
              "Under World                                           0.00       0.00  0.00   \n",
              "Violence Gekiga David no Hoshi                        0.00       0.00  0.00   \n",
              "Violence Gekiga Shin David no Hoshi: Inma Densetsu    0.00       0.00  0.00   \n",
              "Yasuji no Pornorama: Yacchimae!!                      0.00       0.00  0.00   \n",
              "\n",
              "                                                    comedy  dementia  demons  \\\n",
              "name                                                                           \n",
              "Kimi no Na wa.                                        0.00      0.00    0.00   \n",
              "Fullmetal Alchemist: Brotherhood                      0.00      0.00    0.00   \n",
              "Gintama°                                              0.20      0.00    0.00   \n",
              "Steins;Gate                                           0.00      0.00    0.00   \n",
              "Gintama                                               0.20      0.00    0.00   \n",
              "...                                                    ...       ...     ...   \n",
              "Toushindai My Lover: Minami tai Mecha-Minami          0.00      0.00    0.00   \n",
              "Under World                                           0.00      0.00    0.00   \n",
              "Violence Gekiga David no Hoshi                        0.00      0.00    0.00   \n",
              "Violence Gekiga Shin David no Hoshi: Inma Densetsu    0.00      0.00    0.00   \n",
              "Yasuji no Pornorama: Yacchimae!!                      0.00      0.00    0.00   \n",
              "\n",
              "                                                    drama  ecchi  fantasy  \\\n",
              "name                                                                        \n",
              "Kimi no Na wa.                                       0.44   0.00     0.00   \n",
              "Fullmetal Alchemist: Brotherhood                     0.33   0.00     0.32   \n",
              "Gintama°                                             0.00   0.00     0.00   \n",
              "Steins;Gate                                          0.00   0.00     0.00   \n",
              "Gintama                                              0.00   0.00     0.00   \n",
              "...                                                   ...    ...      ...   \n",
              "Toushindai My Lover: Minami tai Mecha-Minami         0.00   0.00     0.00   \n",
              "Under World                                          0.00   0.00     0.00   \n",
              "Violence Gekiga David no Hoshi                       0.00   0.00     0.00   \n",
              "Violence Gekiga Shin David no Hoshi: Inma Densetsu   0.00   0.00     0.00   \n",
              "Yasuji no Pornorama: Yacchimae!!                     0.00   0.00     0.00   \n",
              "\n",
              "                                                     fi  ...  shounen_ai  \\\n",
              "name                                                     ...               \n",
              "Kimi no Na wa.                                     0.00  ...        0.00   \n",
              "Fullmetal Alchemist: Brotherhood                   0.00  ...        0.00   \n",
              "Gintama°                                           0.28  ...        0.00   \n",
              "Steins;Gate                                        0.39  ...        0.00   \n",
              "Gintama                                            0.28  ...        0.00   \n",
              "...                                                 ...  ...         ...   \n",
              "Toushindai My Lover: Minami tai Mecha-Minami       0.00  ...        0.00   \n",
              "Under World                                        0.00  ...        0.00   \n",
              "Violence Gekiga David no Hoshi                     0.00  ...        0.00   \n",
              "Violence Gekiga Shin David no Hoshi: Inma Densetsu 0.00  ...        0.00   \n",
              "Yasuji no Pornorama: Yacchimae!!                   0.00  ...        0.00   \n",
              "\n",
              "                                                    slice_of_life  space  \\\n",
              "name                                                                       \n",
              "Kimi no Na wa.                                               0.00   0.00   \n",
              "Fullmetal Alchemist: Brotherhood                             0.00   0.00   \n",
              "Gintama°                                                     0.00   0.00   \n",
              "Steins;Gate                                                  0.00   0.00   \n",
              "Gintama                                                      0.00   0.00   \n",
              "...                                                           ...    ...   \n",
              "Toushindai My Lover: Minami tai Mecha-Minami                 0.00   0.00   \n",
              "Under World                                                  0.00   0.00   \n",
              "Violence Gekiga David no Hoshi                               0.00   0.00   \n",
              "Violence Gekiga Shin David no Hoshi: Inma Densetsu           0.00   0.00   \n",
              "Yasuji no Pornorama: Yacchimae!!                             0.00   0.00   \n",
              "\n",
              "                                                    sports  super_power  \\\n",
              "name                                                                      \n",
              "Kimi no Na wa.                                        0.00         0.00   \n",
              "Fullmetal Alchemist: Brotherhood                      0.00         0.00   \n",
              "Gintama°                                              0.00         0.00   \n",
              "Steins;Gate                                           0.00         0.00   \n",
              "Gintama                                               0.00         0.00   \n",
              "...                                                    ...          ...   \n",
              "Toushindai My Lover: Minami tai Mecha-Minami          0.00         0.00   \n",
              "Under World                                           0.00         0.00   \n",
              "Violence Gekiga David no Hoshi                        0.00         0.00   \n",
              "Violence Gekiga Shin David no Hoshi: Inma Densetsu    0.00         0.00   \n",
              "Yasuji no Pornorama: Yacchimae!!                      0.00         0.00   \n",
              "\n",
              "                                                    supernatural  thriller  \\\n",
              "name                                                                         \n",
              "Kimi no Na wa.                                              0.55      0.00   \n",
              "Fullmetal Alchemist: Brotherhood                            0.00      0.00   \n",
              "Gintama°                                                    0.00      0.00   \n",
              "Steins;Gate                                                 0.00      0.83   \n",
              "Gintama                                                     0.00      0.00   \n",
              "...                                                          ...       ...   \n",
              "Toushindai My Lover: Minami tai Mecha-Minami                0.00      0.00   \n",
              "Under World                                                 0.00      0.00   \n",
              "Violence Gekiga David no Hoshi                              0.00      0.00   \n",
              "Violence Gekiga Shin David no Hoshi: Inma Densetsu          0.00      0.00   \n",
              "Yasuji no Pornorama: Yacchimae!!                            0.00      0.00   \n",
              "\n",
              "                                                    vampire  yaoi  yuri  \n",
              "name                                                                     \n",
              "Kimi no Na wa.                                         0.00  0.00  0.00  \n",
              "Fullmetal Alchemist: Brotherhood                       0.00  0.00  0.00  \n",
              "Gintama°                                               0.00  0.00  0.00  \n",
              "Steins;Gate                                            0.00  0.00  0.00  \n",
              "Gintama                                                0.00  0.00  0.00  \n",
              "...                                                     ...   ...   ...  \n",
              "Toushindai My Lover: Minami tai Mecha-Minami           0.00  0.00  0.00  \n",
              "Under World                                            0.00  0.00  0.00  \n",
              "Violence Gekiga David no Hoshi                         0.00  0.00  0.00  \n",
              "Violence Gekiga Shin David no Hoshi: Inma Densetsu     0.00  0.00  0.00  \n",
              "Yasuji no Pornorama: Yacchimae!!                       0.00  0.00  0.00  \n",
              "\n",
              "[12017 rows x 44 columns]"
            ],
            "text/html": [
              "\n",
              "  <div id=\"df-1936516d-9ace-4350-9261-69e4f8e4f61a\" class=\"colab-df-container\">\n",
              "    <div>\n",
              "<style scoped>\n",
              "    .dataframe tbody tr th:only-of-type {\n",
              "        vertical-align: middle;\n",
              "    }\n",
              "\n",
              "    .dataframe tbody tr th {\n",
              "        vertical-align: top;\n",
              "    }\n",
              "\n",
              "    .dataframe thead th {\n",
              "        text-align: right;\n",
              "    }\n",
              "</style>\n",
              "<table border=\"1\" class=\"dataframe\">\n",
              "  <thead>\n",
              "    <tr style=\"text-align: right;\">\n",
              "      <th></th>\n",
              "      <th>action</th>\n",
              "      <th>adventure</th>\n",
              "      <th>cars</th>\n",
              "      <th>comedy</th>\n",
              "      <th>dementia</th>\n",
              "      <th>demons</th>\n",
              "      <th>drama</th>\n",
              "      <th>ecchi</th>\n",
              "      <th>fantasy</th>\n",
              "      <th>fi</th>\n",
              "      <th>...</th>\n",
              "      <th>shounen_ai</th>\n",
              "      <th>slice_of_life</th>\n",
              "      <th>space</th>\n",
              "      <th>sports</th>\n",
              "      <th>super_power</th>\n",
              "      <th>supernatural</th>\n",
              "      <th>thriller</th>\n",
              "      <th>vampire</th>\n",
              "      <th>yaoi</th>\n",
              "      <th>yuri</th>\n",
              "    </tr>\n",
              "    <tr>\n",
              "      <th>name</th>\n",
              "      <th></th>\n",
              "      <th></th>\n",
              "      <th></th>\n",
              "      <th></th>\n",
              "      <th></th>\n",
              "      <th></th>\n",
              "      <th></th>\n",
              "      <th></th>\n",
              "      <th></th>\n",
              "      <th></th>\n",
              "      <th></th>\n",
              "      <th></th>\n",
              "      <th></th>\n",
              "      <th></th>\n",
              "      <th></th>\n",
              "      <th></th>\n",
              "      <th></th>\n",
              "      <th></th>\n",
              "      <th></th>\n",
              "      <th></th>\n",
              "      <th></th>\n",
              "    </tr>\n",
              "  </thead>\n",
              "  <tbody>\n",
              "    <tr>\n",
              "      <th>Kimi no Na wa.</th>\n",
              "      <td>0.00</td>\n",
              "      <td>0.00</td>\n",
              "      <td>0.00</td>\n",
              "      <td>0.00</td>\n",
              "      <td>0.00</td>\n",
              "      <td>0.00</td>\n",
              "      <td>0.44</td>\n",
              "      <td>0.00</td>\n",
              "      <td>0.00</td>\n",
              "      <td>0.00</td>\n",
              "      <td>...</td>\n",
              "      <td>0.00</td>\n",
              "      <td>0.00</td>\n",
              "      <td>0.00</td>\n",
              "      <td>0.00</td>\n",
              "      <td>0.00</td>\n",
              "      <td>0.55</td>\n",
              "      <td>0.00</td>\n",
              "      <td>0.00</td>\n",
              "      <td>0.00</td>\n",
              "      <td>0.00</td>\n",
              "    </tr>\n",
              "    <tr>\n",
              "      <th>Fullmetal Alchemist: Brotherhood</th>\n",
              "      <td>0.29</td>\n",
              "      <td>0.32</td>\n",
              "      <td>0.00</td>\n",
              "      <td>0.00</td>\n",
              "      <td>0.00</td>\n",
              "      <td>0.00</td>\n",
              "      <td>0.33</td>\n",
              "      <td>0.00</td>\n",
              "      <td>0.32</td>\n",
              "      <td>0.00</td>\n",
              "      <td>...</td>\n",
              "      <td>0.00</td>\n",
              "      <td>0.00</td>\n",
              "      <td>0.00</td>\n",
              "      <td>0.00</td>\n",
              "      <td>0.00</td>\n",
              "      <td>0.00</td>\n",
              "      <td>0.00</td>\n",
              "      <td>0.00</td>\n",
              "      <td>0.00</td>\n",
              "      <td>0.00</td>\n",
              "    </tr>\n",
              "    <tr>\n",
              "      <th>Gintama°</th>\n",
              "      <td>0.25</td>\n",
              "      <td>0.00</td>\n",
              "      <td>0.00</td>\n",
              "      <td>0.20</td>\n",
              "      <td>0.00</td>\n",
              "      <td>0.00</td>\n",
              "      <td>0.00</td>\n",
              "      <td>0.00</td>\n",
              "      <td>0.00</td>\n",
              "      <td>0.28</td>\n",
              "      <td>...</td>\n",
              "      <td>0.00</td>\n",
              "      <td>0.00</td>\n",
              "      <td>0.00</td>\n",
              "      <td>0.00</td>\n",
              "      <td>0.00</td>\n",
              "      <td>0.00</td>\n",
              "      <td>0.00</td>\n",
              "      <td>0.00</td>\n",
              "      <td>0.00</td>\n",
              "      <td>0.00</td>\n",
              "    </tr>\n",
              "    <tr>\n",
              "      <th>Steins;Gate</th>\n",
              "      <td>0.00</td>\n",
              "      <td>0.00</td>\n",
              "      <td>0.00</td>\n",
              "      <td>0.00</td>\n",
              "      <td>0.00</td>\n",
              "      <td>0.00</td>\n",
              "      <td>0.00</td>\n",
              "      <td>0.00</td>\n",
              "      <td>0.00</td>\n",
              "      <td>0.39</td>\n",
              "      <td>...</td>\n",
              "      <td>0.00</td>\n",
              "      <td>0.00</td>\n",
              "      <td>0.00</td>\n",
              "      <td>0.00</td>\n",
              "      <td>0.00</td>\n",
              "      <td>0.00</td>\n",
              "      <td>0.83</td>\n",
              "      <td>0.00</td>\n",
              "      <td>0.00</td>\n",
              "      <td>0.00</td>\n",
              "    </tr>\n",
              "    <tr>\n",
              "      <th>Gintama</th>\n",
              "      <td>0.25</td>\n",
              "      <td>0.00</td>\n",
              "      <td>0.00</td>\n",
              "      <td>0.20</td>\n",
              "      <td>0.00</td>\n",
              "      <td>0.00</td>\n",
              "      <td>0.00</td>\n",
              "      <td>0.00</td>\n",
              "      <td>0.00</td>\n",
              "      <td>0.28</td>\n",
              "      <td>...</td>\n",
              "      <td>0.00</td>\n",
              "      <td>0.00</td>\n",
              "      <td>0.00</td>\n",
              "      <td>0.00</td>\n",
              "      <td>0.00</td>\n",
              "      <td>0.00</td>\n",
              "      <td>0.00</td>\n",
              "      <td>0.00</td>\n",
              "      <td>0.00</td>\n",
              "      <td>0.00</td>\n",
              "    </tr>\n",
              "    <tr>\n",
              "      <th>...</th>\n",
              "      <td>...</td>\n",
              "      <td>...</td>\n",
              "      <td>...</td>\n",
              "      <td>...</td>\n",
              "      <td>...</td>\n",
              "      <td>...</td>\n",
              "      <td>...</td>\n",
              "      <td>...</td>\n",
              "      <td>...</td>\n",
              "      <td>...</td>\n",
              "      <td>...</td>\n",
              "      <td>...</td>\n",
              "      <td>...</td>\n",
              "      <td>...</td>\n",
              "      <td>...</td>\n",
              "      <td>...</td>\n",
              "      <td>...</td>\n",
              "      <td>...</td>\n",
              "      <td>...</td>\n",
              "      <td>...</td>\n",
              "      <td>...</td>\n",
              "    </tr>\n",
              "    <tr>\n",
              "      <th>Toushindai My Lover: Minami tai Mecha-Minami</th>\n",
              "      <td>0.00</td>\n",
              "      <td>0.00</td>\n",
              "      <td>0.00</td>\n",
              "      <td>0.00</td>\n",
              "      <td>0.00</td>\n",
              "      <td>0.00</td>\n",
              "      <td>0.00</td>\n",
              "      <td>0.00</td>\n",
              "      <td>0.00</td>\n",
              "      <td>0.00</td>\n",
              "      <td>...</td>\n",
              "      <td>0.00</td>\n",
              "      <td>0.00</td>\n",
              "      <td>0.00</td>\n",
              "      <td>0.00</td>\n",
              "      <td>0.00</td>\n",
              "      <td>0.00</td>\n",
              "      <td>0.00</td>\n",
              "      <td>0.00</td>\n",
              "      <td>0.00</td>\n",
              "      <td>0.00</td>\n",
              "    </tr>\n",
              "    <tr>\n",
              "      <th>Under World</th>\n",
              "      <td>0.00</td>\n",
              "      <td>0.00</td>\n",
              "      <td>0.00</td>\n",
              "      <td>0.00</td>\n",
              "      <td>0.00</td>\n",
              "      <td>0.00</td>\n",
              "      <td>0.00</td>\n",
              "      <td>0.00</td>\n",
              "      <td>0.00</td>\n",
              "      <td>0.00</td>\n",
              "      <td>...</td>\n",
              "      <td>0.00</td>\n",
              "      <td>0.00</td>\n",
              "      <td>0.00</td>\n",
              "      <td>0.00</td>\n",
              "      <td>0.00</td>\n",
              "      <td>0.00</td>\n",
              "      <td>0.00</td>\n",
              "      <td>0.00</td>\n",
              "      <td>0.00</td>\n",
              "      <td>0.00</td>\n",
              "    </tr>\n",
              "    <tr>\n",
              "      <th>Violence Gekiga David no Hoshi</th>\n",
              "      <td>0.00</td>\n",
              "      <td>0.00</td>\n",
              "      <td>0.00</td>\n",
              "      <td>0.00</td>\n",
              "      <td>0.00</td>\n",
              "      <td>0.00</td>\n",
              "      <td>0.00</td>\n",
              "      <td>0.00</td>\n",
              "      <td>0.00</td>\n",
              "      <td>0.00</td>\n",
              "      <td>...</td>\n",
              "      <td>0.00</td>\n",
              "      <td>0.00</td>\n",
              "      <td>0.00</td>\n",
              "      <td>0.00</td>\n",
              "      <td>0.00</td>\n",
              "      <td>0.00</td>\n",
              "      <td>0.00</td>\n",
              "      <td>0.00</td>\n",
              "      <td>0.00</td>\n",
              "      <td>0.00</td>\n",
              "    </tr>\n",
              "    <tr>\n",
              "      <th>Violence Gekiga Shin David no Hoshi: Inma Densetsu</th>\n",
              "      <td>0.00</td>\n",
              "      <td>0.00</td>\n",
              "      <td>0.00</td>\n",
              "      <td>0.00</td>\n",
              "      <td>0.00</td>\n",
              "      <td>0.00</td>\n",
              "      <td>0.00</td>\n",
              "      <td>0.00</td>\n",
              "      <td>0.00</td>\n",
              "      <td>0.00</td>\n",
              "      <td>...</td>\n",
              "      <td>0.00</td>\n",
              "      <td>0.00</td>\n",
              "      <td>0.00</td>\n",
              "      <td>0.00</td>\n",
              "      <td>0.00</td>\n",
              "      <td>0.00</td>\n",
              "      <td>0.00</td>\n",
              "      <td>0.00</td>\n",
              "      <td>0.00</td>\n",
              "      <td>0.00</td>\n",
              "    </tr>\n",
              "    <tr>\n",
              "      <th>Yasuji no Pornorama: Yacchimae!!</th>\n",
              "      <td>0.00</td>\n",
              "      <td>0.00</td>\n",
              "      <td>0.00</td>\n",
              "      <td>0.00</td>\n",
              "      <td>0.00</td>\n",
              "      <td>0.00</td>\n",
              "      <td>0.00</td>\n",
              "      <td>0.00</td>\n",
              "      <td>0.00</td>\n",
              "      <td>0.00</td>\n",
              "      <td>...</td>\n",
              "      <td>0.00</td>\n",
              "      <td>0.00</td>\n",
              "      <td>0.00</td>\n",
              "      <td>0.00</td>\n",
              "      <td>0.00</td>\n",
              "      <td>0.00</td>\n",
              "      <td>0.00</td>\n",
              "      <td>0.00</td>\n",
              "      <td>0.00</td>\n",
              "      <td>0.00</td>\n",
              "    </tr>\n",
              "  </tbody>\n",
              "</table>\n",
              "<p>12017 rows × 44 columns</p>\n",
              "</div>\n",
              "    <div class=\"colab-df-buttons\">\n",
              "\n",
              "  <div class=\"colab-df-container\">\n",
              "    <button class=\"colab-df-convert\" onclick=\"convertToInteractive('df-1936516d-9ace-4350-9261-69e4f8e4f61a')\"\n",
              "            title=\"Convert this dataframe to an interactive table.\"\n",
              "            style=\"display:none;\">\n",
              "\n",
              "  <svg xmlns=\"http://www.w3.org/2000/svg\" height=\"24px\" viewBox=\"0 -960 960 960\">\n",
              "    <path d=\"M120-120v-720h720v720H120Zm60-500h600v-160H180v160Zm220 220h160v-160H400v160Zm0 220h160v-160H400v160ZM180-400h160v-160H180v160Zm440 0h160v-160H620v160ZM180-180h160v-160H180v160Zm440 0h160v-160H620v160Z\"/>\n",
              "  </svg>\n",
              "    </button>\n",
              "\n",
              "  <style>\n",
              "    .colab-df-container {\n",
              "      display:flex;\n",
              "      gap: 12px;\n",
              "    }\n",
              "\n",
              "    .colab-df-convert {\n",
              "      background-color: #E8F0FE;\n",
              "      border: none;\n",
              "      border-radius: 50%;\n",
              "      cursor: pointer;\n",
              "      display: none;\n",
              "      fill: #1967D2;\n",
              "      height: 32px;\n",
              "      padding: 0 0 0 0;\n",
              "      width: 32px;\n",
              "    }\n",
              "\n",
              "    .colab-df-convert:hover {\n",
              "      background-color: #E2EBFA;\n",
              "      box-shadow: 0px 1px 2px rgba(60, 64, 67, 0.3), 0px 1px 3px 1px rgba(60, 64, 67, 0.15);\n",
              "      fill: #174EA6;\n",
              "    }\n",
              "\n",
              "    .colab-df-buttons div {\n",
              "      margin-bottom: 4px;\n",
              "    }\n",
              "\n",
              "    [theme=dark] .colab-df-convert {\n",
              "      background-color: #3B4455;\n",
              "      fill: #D2E3FC;\n",
              "    }\n",
              "\n",
              "    [theme=dark] .colab-df-convert:hover {\n",
              "      background-color: #434B5C;\n",
              "      box-shadow: 0px 1px 3px 1px rgba(0, 0, 0, 0.15);\n",
              "      filter: drop-shadow(0px 1px 2px rgba(0, 0, 0, 0.3));\n",
              "      fill: #FFFFFF;\n",
              "    }\n",
              "  </style>\n",
              "\n",
              "    <script>\n",
              "      const buttonEl =\n",
              "        document.querySelector('#df-1936516d-9ace-4350-9261-69e4f8e4f61a button.colab-df-convert');\n",
              "      buttonEl.style.display =\n",
              "        google.colab.kernel.accessAllowed ? 'block' : 'none';\n",
              "\n",
              "      async function convertToInteractive(key) {\n",
              "        const element = document.querySelector('#df-1936516d-9ace-4350-9261-69e4f8e4f61a');\n",
              "        const dataTable =\n",
              "          await google.colab.kernel.invokeFunction('convertToInteractive',\n",
              "                                                    [key], {});\n",
              "        if (!dataTable) return;\n",
              "\n",
              "        const docLinkHtml = 'Like what you see? Visit the ' +\n",
              "          '<a target=\"_blank\" href=https://colab.research.google.com/notebooks/data_table.ipynb>data table notebook</a>'\n",
              "          + ' to learn more about interactive tables.';\n",
              "        element.innerHTML = '';\n",
              "        dataTable['output_type'] = 'display_data';\n",
              "        await google.colab.output.renderOutput(dataTable, element);\n",
              "        const docLink = document.createElement('div');\n",
              "        docLink.innerHTML = docLinkHtml;\n",
              "        element.appendChild(docLink);\n",
              "      }\n",
              "    </script>\n",
              "  </div>\n",
              "\n",
              "\n",
              "    <div id=\"df-a5f5d9ea-518b-4943-a83b-8f6b4b24e5d2\">\n",
              "      <button class=\"colab-df-quickchart\" onclick=\"quickchart('df-a5f5d9ea-518b-4943-a83b-8f6b4b24e5d2')\"\n",
              "                title=\"Suggest charts\"\n",
              "                style=\"display:none;\">\n",
              "\n",
              "<svg xmlns=\"http://www.w3.org/2000/svg\" height=\"24px\"viewBox=\"0 0 24 24\"\n",
              "     width=\"24px\">\n",
              "    <g>\n",
              "        <path d=\"M19 3H5c-1.1 0-2 .9-2 2v14c0 1.1.9 2 2 2h14c1.1 0 2-.9 2-2V5c0-1.1-.9-2-2-2zM9 17H7v-7h2v7zm4 0h-2V7h2v10zm4 0h-2v-4h2v4z\"/>\n",
              "    </g>\n",
              "</svg>\n",
              "      </button>\n",
              "\n",
              "<style>\n",
              "  .colab-df-quickchart {\n",
              "      --bg-color: #E8F0FE;\n",
              "      --fill-color: #1967D2;\n",
              "      --hover-bg-color: #E2EBFA;\n",
              "      --hover-fill-color: #174EA6;\n",
              "      --disabled-fill-color: #AAA;\n",
              "      --disabled-bg-color: #DDD;\n",
              "  }\n",
              "\n",
              "  [theme=dark] .colab-df-quickchart {\n",
              "      --bg-color: #3B4455;\n",
              "      --fill-color: #D2E3FC;\n",
              "      --hover-bg-color: #434B5C;\n",
              "      --hover-fill-color: #FFFFFF;\n",
              "      --disabled-bg-color: #3B4455;\n",
              "      --disabled-fill-color: #666;\n",
              "  }\n",
              "\n",
              "  .colab-df-quickchart {\n",
              "    background-color: var(--bg-color);\n",
              "    border: none;\n",
              "    border-radius: 50%;\n",
              "    cursor: pointer;\n",
              "    display: none;\n",
              "    fill: var(--fill-color);\n",
              "    height: 32px;\n",
              "    padding: 0;\n",
              "    width: 32px;\n",
              "  }\n",
              "\n",
              "  .colab-df-quickchart:hover {\n",
              "    background-color: var(--hover-bg-color);\n",
              "    box-shadow: 0 1px 2px rgba(60, 64, 67, 0.3), 0 1px 3px 1px rgba(60, 64, 67, 0.15);\n",
              "    fill: var(--button-hover-fill-color);\n",
              "  }\n",
              "\n",
              "  .colab-df-quickchart-complete:disabled,\n",
              "  .colab-df-quickchart-complete:disabled:hover {\n",
              "    background-color: var(--disabled-bg-color);\n",
              "    fill: var(--disabled-fill-color);\n",
              "    box-shadow: none;\n",
              "  }\n",
              "\n",
              "  .colab-df-spinner {\n",
              "    border: 2px solid var(--fill-color);\n",
              "    border-color: transparent;\n",
              "    border-bottom-color: var(--fill-color);\n",
              "    animation:\n",
              "      spin 1s steps(1) infinite;\n",
              "  }\n",
              "\n",
              "  @keyframes spin {\n",
              "    0% {\n",
              "      border-color: transparent;\n",
              "      border-bottom-color: var(--fill-color);\n",
              "      border-left-color: var(--fill-color);\n",
              "    }\n",
              "    20% {\n",
              "      border-color: transparent;\n",
              "      border-left-color: var(--fill-color);\n",
              "      border-top-color: var(--fill-color);\n",
              "    }\n",
              "    30% {\n",
              "      border-color: transparent;\n",
              "      border-left-color: var(--fill-color);\n",
              "      border-top-color: var(--fill-color);\n",
              "      border-right-color: var(--fill-color);\n",
              "    }\n",
              "    40% {\n",
              "      border-color: transparent;\n",
              "      border-right-color: var(--fill-color);\n",
              "      border-top-color: var(--fill-color);\n",
              "    }\n",
              "    60% {\n",
              "      border-color: transparent;\n",
              "      border-right-color: var(--fill-color);\n",
              "    }\n",
              "    80% {\n",
              "      border-color: transparent;\n",
              "      border-right-color: var(--fill-color);\n",
              "      border-bottom-color: var(--fill-color);\n",
              "    }\n",
              "    90% {\n",
              "      border-color: transparent;\n",
              "      border-bottom-color: var(--fill-color);\n",
              "    }\n",
              "  }\n",
              "</style>\n",
              "\n",
              "      <script>\n",
              "        async function quickchart(key) {\n",
              "          const quickchartButtonEl =\n",
              "            document.querySelector('#' + key + ' button');\n",
              "          quickchartButtonEl.disabled = true;  // To prevent multiple clicks.\n",
              "          quickchartButtonEl.classList.add('colab-df-spinner');\n",
              "          try {\n",
              "            const charts = await google.colab.kernel.invokeFunction(\n",
              "                'suggestCharts', [key], {});\n",
              "          } catch (error) {\n",
              "            console.error('Error during call to suggestCharts:', error);\n",
              "          }\n",
              "          quickchartButtonEl.classList.remove('colab-df-spinner');\n",
              "          quickchartButtonEl.classList.add('colab-df-quickchart-complete');\n",
              "        }\n",
              "        (() => {\n",
              "          let quickchartButtonEl =\n",
              "            document.querySelector('#df-a5f5d9ea-518b-4943-a83b-8f6b4b24e5d2 button');\n",
              "          quickchartButtonEl.style.display =\n",
              "            google.colab.kernel.accessAllowed ? 'block' : 'none';\n",
              "        })();\n",
              "      </script>\n",
              "    </div>\n",
              "\n",
              "    </div>\n",
              "  </div>\n"
            ],
            "application/vnd.google.colaboratory.intrinsic+json": {
              "type": "dataframe"
            }
          },
          "metadata": {},
          "execution_count": 126
        }
      ]
    },
    {
      "cell_type": "code",
      "source": [
        "# Assuming you have your tfidf_matrix, tfidf, and df_content defined\n",
        "# For demonstration purposes, let's create a dummy DataFrame:\n",
        "data = {'col1': [1, 2, 3], 'col2': [4, 5, 6]}\n",
        "df_tfidf_table = pd.DataFrame(data, index=['rowA', 'rowB', 'rowC'])\n",
        "\n",
        "# Create a figure and an axes object\n",
        "fig, ax = plt.subplots(figsize=(10, 5)) # Adjust figsize as needed\n",
        "\n",
        "# Hide the axes (optional, but makes it look cleaner as just a table)\n",
        "ax.axis('off')\n",
        "ax.axis('tight')\n",
        "\n",
        "# Create the table\n",
        "table = ax.table(cellText=df_tfidf_table.values,\n",
        "                 colLabels=df_tfidf_table.columns,\n",
        "                 rowLabels=df_tfidf_table.index,\n",
        "                 cellLoc='center',\n",
        "                 loc='center')\n",
        "\n",
        "# Adjust layout to prevent labels from overlapping\n",
        "fig.tight_layout()\n",
        "\n",
        "# Save the figure as an image\n",
        "plt.savefig('tfidf_dataframe_table.png', dpi=300, bbox_inches='tight')\n",
        "print(\"DataFrame saved as tfidf_dataframe_table.png\")\n",
        "\n",
        "# Close the plot to free up memory\n",
        "plt.close(fig)"
      ],
      "metadata": {
        "colab": {
          "base_uri": "https://localhost:8080/"
        },
        "id": "oaBu_1qVUALh",
        "outputId": "5b60ad9c-ecd5-4d5d-e934-7fca339d3a60"
      },
      "execution_count": 127,
      "outputs": [
        {
          "output_type": "stream",
          "name": "stdout",
          "text": [
            "DataFrame saved as tfidf_dataframe_table.png\n"
          ]
        }
      ]
    },
    {
      "cell_type": "markdown",
      "source": [
        "### Cosine Similarity"
      ],
      "metadata": {
        "id": "jvcF1QoxMEEs"
      }
    },
    {
      "cell_type": "markdown",
      "source": [
        "Pada proyek ini content based filtering akan digunakan cosine similarity untuk mencari kemiripan anime"
      ],
      "metadata": {
        "id": "4Cst5Nh8MiWm"
      }
    },
    {
      "cell_type": "code",
      "source": [
        "cosine_sim = cosine_similarity(tfidf_matrix)\n",
        "cosine_sim"
      ],
      "metadata": {
        "colab": {
          "base_uri": "https://localhost:8080/"
        },
        "id": "-vdrykv6C37k",
        "outputId": "22aa1f13-cc3e-4199-f706-febe02528ffb"
      },
      "execution_count": 128,
      "outputs": [
        {
          "output_type": "execute_result",
          "data": {
            "text/plain": [
              "array([[1.        , 0.14692967, 0.        , ..., 0.        , 0.        ,\n",
              "        0.        ],\n",
              "       [0.14692967, 1.        , 0.18089942, ..., 0.        , 0.        ,\n",
              "        0.        ],\n",
              "       [0.        , 0.18089942, 1.        , ..., 0.        , 0.        ,\n",
              "        0.        ],\n",
              "       ...,\n",
              "       [0.        , 0.        , 0.        , ..., 1.        , 1.        ,\n",
              "        1.        ],\n",
              "       [0.        , 0.        , 0.        , ..., 1.        , 1.        ,\n",
              "        1.        ],\n",
              "       [0.        , 0.        , 0.        , ..., 1.        , 1.        ,\n",
              "        1.        ]])"
            ]
          },
          "metadata": {},
          "execution_count": 128
        }
      ]
    },
    {
      "cell_type": "markdown",
      "source": [
        "tabel berisi cosine similarity anime"
      ],
      "metadata": {
        "id": "GLLapeDLMJRI"
      }
    },
    {
      "cell_type": "code",
      "source": [
        "# Membuat dataframe dari variabel cosine_sim dengan baris dan kolom berupa nama anime\n",
        "cosine_sim_df = pd.DataFrame(cosine_sim, index=df_content['name'], columns=df_content['name'])\n",
        "print('Shape:', cosine_sim_df.shape)\n",
        "\n",
        "# Melihat similarity matrix pada setiap anime\n",
        "cosine_sim_df.sample(5, axis=1).sample(10, axis=0)"
      ],
      "metadata": {
        "colab": {
          "base_uri": "https://localhost:8080/",
          "height": 446
        },
        "id": "5hkjhHkWKg9D",
        "outputId": "69c72861-b5fb-43e4-cc2d-b95d44681192"
      },
      "execution_count": 129,
      "outputs": [
        {
          "output_type": "stream",
          "name": "stdout",
          "text": [
            "Shape: (12017, 12017)\n"
          ]
        },
        {
          "output_type": "execute_result",
          "data": {
            "text/plain": [
              "name                              Ai  Seikimatsu★Darling  \\\n",
              "name                                                       \n",
              "Kinnikuman (1984)               0.00                0.08   \n",
              "AKB48 Stage Fighter             0.00                0.00   \n",
              "MEMORiES MELODiES               0.00                0.00   \n",
              "Genkichi Jiisan to Kogitsune    0.00                0.25   \n",
              "Anime Tenchou                   0.00                0.00   \n",
              "Pankunchi                       0.00                0.00   \n",
              "Kyutai Panic Adventure Returns! 0.00                0.00   \n",
              "Meitantei Holmes                0.00                0.09   \n",
              "Blood Lad                       0.00                0.05   \n",
              "Dokkoida                        0.00                0.06   \n",
              "\n",
              "name                             Sexy Commando Gaiden: Sugoiyo!! Masaru-san  \\\n",
              "name                                                                          \n",
              "Kinnikuman (1984)                                                      0.31   \n",
              "AKB48 Stage Fighter                                                    0.00   \n",
              "MEMORiES MELODiES                                                      0.00   \n",
              "Genkichi Jiisan to Kogitsune                                           0.00   \n",
              "Anime Tenchou                                                          0.00   \n",
              "Pankunchi                                                              0.00   \n",
              "Kyutai Panic Adventure Returns!                                        0.22   \n",
              "Meitantei Holmes                                                       0.11   \n",
              "Blood Lad                                                              0.06   \n",
              "Dokkoida                                                               0.24   \n",
              "\n",
              "name                             Sidonia no Kishi: Daikyuu Wakusei Seneki  \\\n",
              "name                                                                        \n",
              "Kinnikuman (1984)                                                    0.12   \n",
              "AKB48 Stage Fighter                                                  0.29   \n",
              "MEMORiES MELODiES                                                    0.00   \n",
              "Genkichi Jiisan to Kogitsune                                         0.00   \n",
              "Anime Tenchou                                                        0.14   \n",
              "Pankunchi                                                            0.00   \n",
              "Kyutai Panic Adventure Returns!                                      0.13   \n",
              "Meitantei Holmes                                                     0.00   \n",
              "Blood Lad                                                            0.28   \n",
              "Dokkoida                                                             0.33   \n",
              "\n",
              "name                             Soul Eater NOT!  \n",
              "name                                              \n",
              "Kinnikuman (1984)                           0.46  \n",
              "AKB48 Stage Fighter                         0.36  \n",
              "MEMORiES MELODiES                           0.00  \n",
              "Genkichi Jiisan to Kogitsune                0.00  \n",
              "Anime Tenchou                               0.18  \n",
              "Pankunchi                                   0.00  \n",
              "Kyutai Panic Adventure Returns!             0.38  \n",
              "Meitantei Holmes                            0.11  \n",
              "Blood Lad                                   0.33  \n",
              "Dokkoida                                    0.35  "
            ],
            "text/html": [
              "\n",
              "  <div id=\"df-832abc9b-ec65-4e24-9da6-f437787c8323\" class=\"colab-df-container\">\n",
              "    <div>\n",
              "<style scoped>\n",
              "    .dataframe tbody tr th:only-of-type {\n",
              "        vertical-align: middle;\n",
              "    }\n",
              "\n",
              "    .dataframe tbody tr th {\n",
              "        vertical-align: top;\n",
              "    }\n",
              "\n",
              "    .dataframe thead th {\n",
              "        text-align: right;\n",
              "    }\n",
              "</style>\n",
              "<table border=\"1\" class=\"dataframe\">\n",
              "  <thead>\n",
              "    <tr style=\"text-align: right;\">\n",
              "      <th>name</th>\n",
              "      <th>Ai</th>\n",
              "      <th>Seikimatsu★Darling</th>\n",
              "      <th>Sexy Commando Gaiden: Sugoiyo!! Masaru-san</th>\n",
              "      <th>Sidonia no Kishi: Daikyuu Wakusei Seneki</th>\n",
              "      <th>Soul Eater NOT!</th>\n",
              "    </tr>\n",
              "    <tr>\n",
              "      <th>name</th>\n",
              "      <th></th>\n",
              "      <th></th>\n",
              "      <th></th>\n",
              "      <th></th>\n",
              "      <th></th>\n",
              "    </tr>\n",
              "  </thead>\n",
              "  <tbody>\n",
              "    <tr>\n",
              "      <th>Kinnikuman (1984)</th>\n",
              "      <td>0.00</td>\n",
              "      <td>0.08</td>\n",
              "      <td>0.31</td>\n",
              "      <td>0.12</td>\n",
              "      <td>0.46</td>\n",
              "    </tr>\n",
              "    <tr>\n",
              "      <th>AKB48 Stage Fighter</th>\n",
              "      <td>0.00</td>\n",
              "      <td>0.00</td>\n",
              "      <td>0.00</td>\n",
              "      <td>0.29</td>\n",
              "      <td>0.36</td>\n",
              "    </tr>\n",
              "    <tr>\n",
              "      <th>MEMORiES MELODiES</th>\n",
              "      <td>0.00</td>\n",
              "      <td>0.00</td>\n",
              "      <td>0.00</td>\n",
              "      <td>0.00</td>\n",
              "      <td>0.00</td>\n",
              "    </tr>\n",
              "    <tr>\n",
              "      <th>Genkichi Jiisan to Kogitsune</th>\n",
              "      <td>0.00</td>\n",
              "      <td>0.25</td>\n",
              "      <td>0.00</td>\n",
              "      <td>0.00</td>\n",
              "      <td>0.00</td>\n",
              "    </tr>\n",
              "    <tr>\n",
              "      <th>Anime Tenchou</th>\n",
              "      <td>0.00</td>\n",
              "      <td>0.00</td>\n",
              "      <td>0.00</td>\n",
              "      <td>0.14</td>\n",
              "      <td>0.18</td>\n",
              "    </tr>\n",
              "    <tr>\n",
              "      <th>Pankunchi</th>\n",
              "      <td>0.00</td>\n",
              "      <td>0.00</td>\n",
              "      <td>0.00</td>\n",
              "      <td>0.00</td>\n",
              "      <td>0.00</td>\n",
              "    </tr>\n",
              "    <tr>\n",
              "      <th>Kyutai Panic Adventure Returns!</th>\n",
              "      <td>0.00</td>\n",
              "      <td>0.00</td>\n",
              "      <td>0.22</td>\n",
              "      <td>0.13</td>\n",
              "      <td>0.38</td>\n",
              "    </tr>\n",
              "    <tr>\n",
              "      <th>Meitantei Holmes</th>\n",
              "      <td>0.00</td>\n",
              "      <td>0.09</td>\n",
              "      <td>0.11</td>\n",
              "      <td>0.00</td>\n",
              "      <td>0.11</td>\n",
              "    </tr>\n",
              "    <tr>\n",
              "      <th>Blood Lad</th>\n",
              "      <td>0.00</td>\n",
              "      <td>0.05</td>\n",
              "      <td>0.06</td>\n",
              "      <td>0.28</td>\n",
              "      <td>0.33</td>\n",
              "    </tr>\n",
              "    <tr>\n",
              "      <th>Dokkoida</th>\n",
              "      <td>0.00</td>\n",
              "      <td>0.06</td>\n",
              "      <td>0.24</td>\n",
              "      <td>0.33</td>\n",
              "      <td>0.35</td>\n",
              "    </tr>\n",
              "  </tbody>\n",
              "</table>\n",
              "</div>\n",
              "    <div class=\"colab-df-buttons\">\n",
              "\n",
              "  <div class=\"colab-df-container\">\n",
              "    <button class=\"colab-df-convert\" onclick=\"convertToInteractive('df-832abc9b-ec65-4e24-9da6-f437787c8323')\"\n",
              "            title=\"Convert this dataframe to an interactive table.\"\n",
              "            style=\"display:none;\">\n",
              "\n",
              "  <svg xmlns=\"http://www.w3.org/2000/svg\" height=\"24px\" viewBox=\"0 -960 960 960\">\n",
              "    <path d=\"M120-120v-720h720v720H120Zm60-500h600v-160H180v160Zm220 220h160v-160H400v160Zm0 220h160v-160H400v160ZM180-400h160v-160H180v160Zm440 0h160v-160H620v160ZM180-180h160v-160H180v160Zm440 0h160v-160H620v160Z\"/>\n",
              "  </svg>\n",
              "    </button>\n",
              "\n",
              "  <style>\n",
              "    .colab-df-container {\n",
              "      display:flex;\n",
              "      gap: 12px;\n",
              "    }\n",
              "\n",
              "    .colab-df-convert {\n",
              "      background-color: #E8F0FE;\n",
              "      border: none;\n",
              "      border-radius: 50%;\n",
              "      cursor: pointer;\n",
              "      display: none;\n",
              "      fill: #1967D2;\n",
              "      height: 32px;\n",
              "      padding: 0 0 0 0;\n",
              "      width: 32px;\n",
              "    }\n",
              "\n",
              "    .colab-df-convert:hover {\n",
              "      background-color: #E2EBFA;\n",
              "      box-shadow: 0px 1px 2px rgba(60, 64, 67, 0.3), 0px 1px 3px 1px rgba(60, 64, 67, 0.15);\n",
              "      fill: #174EA6;\n",
              "    }\n",
              "\n",
              "    .colab-df-buttons div {\n",
              "      margin-bottom: 4px;\n",
              "    }\n",
              "\n",
              "    [theme=dark] .colab-df-convert {\n",
              "      background-color: #3B4455;\n",
              "      fill: #D2E3FC;\n",
              "    }\n",
              "\n",
              "    [theme=dark] .colab-df-convert:hover {\n",
              "      background-color: #434B5C;\n",
              "      box-shadow: 0px 1px 3px 1px rgba(0, 0, 0, 0.15);\n",
              "      filter: drop-shadow(0px 1px 2px rgba(0, 0, 0, 0.3));\n",
              "      fill: #FFFFFF;\n",
              "    }\n",
              "  </style>\n",
              "\n",
              "    <script>\n",
              "      const buttonEl =\n",
              "        document.querySelector('#df-832abc9b-ec65-4e24-9da6-f437787c8323 button.colab-df-convert');\n",
              "      buttonEl.style.display =\n",
              "        google.colab.kernel.accessAllowed ? 'block' : 'none';\n",
              "\n",
              "      async function convertToInteractive(key) {\n",
              "        const element = document.querySelector('#df-832abc9b-ec65-4e24-9da6-f437787c8323');\n",
              "        const dataTable =\n",
              "          await google.colab.kernel.invokeFunction('convertToInteractive',\n",
              "                                                    [key], {});\n",
              "        if (!dataTable) return;\n",
              "\n",
              "        const docLinkHtml = 'Like what you see? Visit the ' +\n",
              "          '<a target=\"_blank\" href=https://colab.research.google.com/notebooks/data_table.ipynb>data table notebook</a>'\n",
              "          + ' to learn more about interactive tables.';\n",
              "        element.innerHTML = '';\n",
              "        dataTable['output_type'] = 'display_data';\n",
              "        await google.colab.output.renderOutput(dataTable, element);\n",
              "        const docLink = document.createElement('div');\n",
              "        docLink.innerHTML = docLinkHtml;\n",
              "        element.appendChild(docLink);\n",
              "      }\n",
              "    </script>\n",
              "  </div>\n",
              "\n",
              "\n",
              "    <div id=\"df-b42ca2b2-c785-4c6b-a637-6b8648aabdab\">\n",
              "      <button class=\"colab-df-quickchart\" onclick=\"quickchart('df-b42ca2b2-c785-4c6b-a637-6b8648aabdab')\"\n",
              "                title=\"Suggest charts\"\n",
              "                style=\"display:none;\">\n",
              "\n",
              "<svg xmlns=\"http://www.w3.org/2000/svg\" height=\"24px\"viewBox=\"0 0 24 24\"\n",
              "     width=\"24px\">\n",
              "    <g>\n",
              "        <path d=\"M19 3H5c-1.1 0-2 .9-2 2v14c0 1.1.9 2 2 2h14c1.1 0 2-.9 2-2V5c0-1.1-.9-2-2-2zM9 17H7v-7h2v7zm4 0h-2V7h2v10zm4 0h-2v-4h2v4z\"/>\n",
              "    </g>\n",
              "</svg>\n",
              "      </button>\n",
              "\n",
              "<style>\n",
              "  .colab-df-quickchart {\n",
              "      --bg-color: #E8F0FE;\n",
              "      --fill-color: #1967D2;\n",
              "      --hover-bg-color: #E2EBFA;\n",
              "      --hover-fill-color: #174EA6;\n",
              "      --disabled-fill-color: #AAA;\n",
              "      --disabled-bg-color: #DDD;\n",
              "  }\n",
              "\n",
              "  [theme=dark] .colab-df-quickchart {\n",
              "      --bg-color: #3B4455;\n",
              "      --fill-color: #D2E3FC;\n",
              "      --hover-bg-color: #434B5C;\n",
              "      --hover-fill-color: #FFFFFF;\n",
              "      --disabled-bg-color: #3B4455;\n",
              "      --disabled-fill-color: #666;\n",
              "  }\n",
              "\n",
              "  .colab-df-quickchart {\n",
              "    background-color: var(--bg-color);\n",
              "    border: none;\n",
              "    border-radius: 50%;\n",
              "    cursor: pointer;\n",
              "    display: none;\n",
              "    fill: var(--fill-color);\n",
              "    height: 32px;\n",
              "    padding: 0;\n",
              "    width: 32px;\n",
              "  }\n",
              "\n",
              "  .colab-df-quickchart:hover {\n",
              "    background-color: var(--hover-bg-color);\n",
              "    box-shadow: 0 1px 2px rgba(60, 64, 67, 0.3), 0 1px 3px 1px rgba(60, 64, 67, 0.15);\n",
              "    fill: var(--button-hover-fill-color);\n",
              "  }\n",
              "\n",
              "  .colab-df-quickchart-complete:disabled,\n",
              "  .colab-df-quickchart-complete:disabled:hover {\n",
              "    background-color: var(--disabled-bg-color);\n",
              "    fill: var(--disabled-fill-color);\n",
              "    box-shadow: none;\n",
              "  }\n",
              "\n",
              "  .colab-df-spinner {\n",
              "    border: 2px solid var(--fill-color);\n",
              "    border-color: transparent;\n",
              "    border-bottom-color: var(--fill-color);\n",
              "    animation:\n",
              "      spin 1s steps(1) infinite;\n",
              "  }\n",
              "\n",
              "  @keyframes spin {\n",
              "    0% {\n",
              "      border-color: transparent;\n",
              "      border-bottom-color: var(--fill-color);\n",
              "      border-left-color: var(--fill-color);\n",
              "    }\n",
              "    20% {\n",
              "      border-color: transparent;\n",
              "      border-left-color: var(--fill-color);\n",
              "      border-top-color: var(--fill-color);\n",
              "    }\n",
              "    30% {\n",
              "      border-color: transparent;\n",
              "      border-left-color: var(--fill-color);\n",
              "      border-top-color: var(--fill-color);\n",
              "      border-right-color: var(--fill-color);\n",
              "    }\n",
              "    40% {\n",
              "      border-color: transparent;\n",
              "      border-right-color: var(--fill-color);\n",
              "      border-top-color: var(--fill-color);\n",
              "    }\n",
              "    60% {\n",
              "      border-color: transparent;\n",
              "      border-right-color: var(--fill-color);\n",
              "    }\n",
              "    80% {\n",
              "      border-color: transparent;\n",
              "      border-right-color: var(--fill-color);\n",
              "      border-bottom-color: var(--fill-color);\n",
              "    }\n",
              "    90% {\n",
              "      border-color: transparent;\n",
              "      border-bottom-color: var(--fill-color);\n",
              "    }\n",
              "  }\n",
              "</style>\n",
              "\n",
              "      <script>\n",
              "        async function quickchart(key) {\n",
              "          const quickchartButtonEl =\n",
              "            document.querySelector('#' + key + ' button');\n",
              "          quickchartButtonEl.disabled = true;  // To prevent multiple clicks.\n",
              "          quickchartButtonEl.classList.add('colab-df-spinner');\n",
              "          try {\n",
              "            const charts = await google.colab.kernel.invokeFunction(\n",
              "                'suggestCharts', [key], {});\n",
              "          } catch (error) {\n",
              "            console.error('Error during call to suggestCharts:', error);\n",
              "          }\n",
              "          quickchartButtonEl.classList.remove('colab-df-spinner');\n",
              "          quickchartButtonEl.classList.add('colab-df-quickchart-complete');\n",
              "        }\n",
              "        (() => {\n",
              "          let quickchartButtonEl =\n",
              "            document.querySelector('#df-b42ca2b2-c785-4c6b-a637-6b8648aabdab button');\n",
              "          quickchartButtonEl.style.display =\n",
              "            google.colab.kernel.accessAllowed ? 'block' : 'none';\n",
              "        })();\n",
              "      </script>\n",
              "    </div>\n",
              "\n",
              "    </div>\n",
              "  </div>\n"
            ],
            "application/vnd.google.colaboratory.intrinsic+json": {
              "type": "dataframe",
              "summary": "{\n  \"name\": \"cosine_sim_df\",\n  \"rows\": 10,\n  \"fields\": [\n    {\n      \"column\": \"name\",\n      \"properties\": {\n        \"dtype\": \"string\",\n        \"num_unique_values\": 10,\n        \"samples\": [\n          \"Blood Lad\",\n          \"AKB48 Stage Fighter\",\n          \"Pankunchi\"\n        ],\n        \"semantic_type\": \"\",\n        \"description\": \"\"\n      }\n    },\n    {\n      \"column\": \"Ai\",\n      \"properties\": {\n        \"dtype\": \"number\",\n        \"std\": 0.0,\n        \"min\": 0.0,\n        \"max\": 0.0,\n        \"num_unique_values\": 1,\n        \"samples\": [\n          0.0\n        ],\n        \"semantic_type\": \"\",\n        \"description\": \"\"\n      }\n    },\n    {\n      \"column\": \"Seikimatsu\\u2605Darling\",\n      \"properties\": {\n        \"dtype\": \"number\",\n        \"std\": 0.0772134357130376,\n        \"min\": 0.0,\n        \"max\": 0.24534326853290558,\n        \"num_unique_values\": 6,\n        \"samples\": [\n          0.0831282433262858\n        ],\n        \"semantic_type\": \"\",\n        \"description\": \"\"\n      }\n    },\n    {\n      \"column\": \"Sexy Commando Gaiden: Sugoiyo!! Masaru-san\",\n      \"properties\": {\n        \"dtype\": \"number\",\n        \"std\": 0.11986829204964279,\n        \"min\": 0.0,\n        \"max\": 0.3094965823540286,\n        \"num_unique_values\": 6,\n        \"samples\": [\n          0.3094965823540286\n        ],\n        \"semantic_type\": \"\",\n        \"description\": \"\"\n      }\n    },\n    {\n      \"column\": \"Sidonia no Kishi: Daikyuu Wakusei Seneki\",\n      \"properties\": {\n        \"dtype\": \"number\",\n        \"std\": 0.13181627690578013,\n        \"min\": 0.0,\n        \"max\": 0.3280994489206782,\n        \"num_unique_values\": 7,\n        \"samples\": [\n          0.12104328625561614\n        ],\n        \"semantic_type\": \"\",\n        \"description\": \"\"\n      }\n    },\n    {\n      \"column\": \"Soul Eater NOT!\",\n      \"properties\": {\n        \"dtype\": \"number\",\n        \"std\": 0.18063286167380965,\n        \"min\": 0.0,\n        \"max\": 0.46035513896039115,\n        \"num_unique_values\": 8,\n        \"samples\": [\n          0.3619499418082175\n        ],\n        \"semantic_type\": \"\",\n        \"description\": \"\"\n      }\n    }\n  ]\n}"
            }
          },
          "metadata": {},
          "execution_count": 129
        }
      ]
    },
    {
      "cell_type": "markdown",
      "source": [
        "### Test Sistem Rekomendasi"
      ],
      "metadata": {
        "id": "8Y0tKGk9M3yX"
      }
    },
    {
      "cell_type": "code",
      "source": [
        "def recommendations_content(name, similarity_data=cosine_sim_df, items=df_content[['name','genre', 'rating']], k=10):\n",
        "\n",
        "    # Mengambil data dengan menggunakan argpartition untuk melakukan partisi secara tidak langsung sepanjang sumbu yang diberikan\n",
        "    # Dataframe diubah menjadi numpy\n",
        "    # Range(start, stop, step)\n",
        "    index = similarity_data.loc[:,name].to_numpy().argpartition(range(-1, -k, -1))\n",
        "\n",
        "    # Mengambil data dengan similarity terbesar dari index yang ada\n",
        "    closest = similarity_data.columns[index[-1:-(k+2):-1]]\n",
        "\n",
        "    # Drop name agar nama anime yang dicari tidak muncul dalam daftar rekomendasi\n",
        "    closest = closest.drop(name, errors='ignore')\n",
        "\n",
        "    return pd.DataFrame(closest).merge(items).head(k)"
      ],
      "metadata": {
        "id": "nsakAI1lKt9P"
      },
      "execution_count": 143,
      "outputs": []
    },
    {
      "cell_type": "code",
      "source": [
        "df_content[df_content['name']==\"Naruto\"]"
      ],
      "metadata": {
        "colab": {
          "base_uri": "https://localhost:8080/",
          "height": 81
        },
        "id": "qfudHi5iLEZG",
        "outputId": "ca52c017-13ee-4399-b91d-899f261131da"
      },
      "execution_count": 139,
      "outputs": [
        {
          "output_type": "execute_result",
          "data": {
            "text/plain": [
              "     anime_id    name                                           genre type  \\\n",
              "841        20  Naruto  Action Comedy Martial_Arts Shounen Super_Power   TV   \n",
              "\n",
              "    episodes  rating  members  \n",
              "841      220    7.81   683297  "
            ],
            "text/html": [
              "\n",
              "  <div id=\"df-ad64fd7b-c427-4ee5-8eb7-0c9375a582f5\" class=\"colab-df-container\">\n",
              "    <div>\n",
              "<style scoped>\n",
              "    .dataframe tbody tr th:only-of-type {\n",
              "        vertical-align: middle;\n",
              "    }\n",
              "\n",
              "    .dataframe tbody tr th {\n",
              "        vertical-align: top;\n",
              "    }\n",
              "\n",
              "    .dataframe thead th {\n",
              "        text-align: right;\n",
              "    }\n",
              "</style>\n",
              "<table border=\"1\" class=\"dataframe\">\n",
              "  <thead>\n",
              "    <tr style=\"text-align: right;\">\n",
              "      <th></th>\n",
              "      <th>anime_id</th>\n",
              "      <th>name</th>\n",
              "      <th>genre</th>\n",
              "      <th>type</th>\n",
              "      <th>episodes</th>\n",
              "      <th>rating</th>\n",
              "      <th>members</th>\n",
              "    </tr>\n",
              "  </thead>\n",
              "  <tbody>\n",
              "    <tr>\n",
              "      <th>841</th>\n",
              "      <td>20</td>\n",
              "      <td>Naruto</td>\n",
              "      <td>Action Comedy Martial_Arts Shounen Super_Power</td>\n",
              "      <td>TV</td>\n",
              "      <td>220</td>\n",
              "      <td>7.81</td>\n",
              "      <td>683297</td>\n",
              "    </tr>\n",
              "  </tbody>\n",
              "</table>\n",
              "</div>\n",
              "    <div class=\"colab-df-buttons\">\n",
              "\n",
              "  <div class=\"colab-df-container\">\n",
              "    <button class=\"colab-df-convert\" onclick=\"convertToInteractive('df-ad64fd7b-c427-4ee5-8eb7-0c9375a582f5')\"\n",
              "            title=\"Convert this dataframe to an interactive table.\"\n",
              "            style=\"display:none;\">\n",
              "\n",
              "  <svg xmlns=\"http://www.w3.org/2000/svg\" height=\"24px\" viewBox=\"0 -960 960 960\">\n",
              "    <path d=\"M120-120v-720h720v720H120Zm60-500h600v-160H180v160Zm220 220h160v-160H400v160Zm0 220h160v-160H400v160ZM180-400h160v-160H180v160Zm440 0h160v-160H620v160ZM180-180h160v-160H180v160Zm440 0h160v-160H620v160Z\"/>\n",
              "  </svg>\n",
              "    </button>\n",
              "\n",
              "  <style>\n",
              "    .colab-df-container {\n",
              "      display:flex;\n",
              "      gap: 12px;\n",
              "    }\n",
              "\n",
              "    .colab-df-convert {\n",
              "      background-color: #E8F0FE;\n",
              "      border: none;\n",
              "      border-radius: 50%;\n",
              "      cursor: pointer;\n",
              "      display: none;\n",
              "      fill: #1967D2;\n",
              "      height: 32px;\n",
              "      padding: 0 0 0 0;\n",
              "      width: 32px;\n",
              "    }\n",
              "\n",
              "    .colab-df-convert:hover {\n",
              "      background-color: #E2EBFA;\n",
              "      box-shadow: 0px 1px 2px rgba(60, 64, 67, 0.3), 0px 1px 3px 1px rgba(60, 64, 67, 0.15);\n",
              "      fill: #174EA6;\n",
              "    }\n",
              "\n",
              "    .colab-df-buttons div {\n",
              "      margin-bottom: 4px;\n",
              "    }\n",
              "\n",
              "    [theme=dark] .colab-df-convert {\n",
              "      background-color: #3B4455;\n",
              "      fill: #D2E3FC;\n",
              "    }\n",
              "\n",
              "    [theme=dark] .colab-df-convert:hover {\n",
              "      background-color: #434B5C;\n",
              "      box-shadow: 0px 1px 3px 1px rgba(0, 0, 0, 0.15);\n",
              "      filter: drop-shadow(0px 1px 2px rgba(0, 0, 0, 0.3));\n",
              "      fill: #FFFFFF;\n",
              "    }\n",
              "  </style>\n",
              "\n",
              "    <script>\n",
              "      const buttonEl =\n",
              "        document.querySelector('#df-ad64fd7b-c427-4ee5-8eb7-0c9375a582f5 button.colab-df-convert');\n",
              "      buttonEl.style.display =\n",
              "        google.colab.kernel.accessAllowed ? 'block' : 'none';\n",
              "\n",
              "      async function convertToInteractive(key) {\n",
              "        const element = document.querySelector('#df-ad64fd7b-c427-4ee5-8eb7-0c9375a582f5');\n",
              "        const dataTable =\n",
              "          await google.colab.kernel.invokeFunction('convertToInteractive',\n",
              "                                                    [key], {});\n",
              "        if (!dataTable) return;\n",
              "\n",
              "        const docLinkHtml = 'Like what you see? Visit the ' +\n",
              "          '<a target=\"_blank\" href=https://colab.research.google.com/notebooks/data_table.ipynb>data table notebook</a>'\n",
              "          + ' to learn more about interactive tables.';\n",
              "        element.innerHTML = '';\n",
              "        dataTable['output_type'] = 'display_data';\n",
              "        await google.colab.output.renderOutput(dataTable, element);\n",
              "        const docLink = document.createElement('div');\n",
              "        docLink.innerHTML = docLinkHtml;\n",
              "        element.appendChild(docLink);\n",
              "      }\n",
              "    </script>\n",
              "  </div>\n",
              "\n",
              "\n",
              "    </div>\n",
              "  </div>\n"
            ],
            "application/vnd.google.colaboratory.intrinsic+json": {
              "type": "dataframe",
              "summary": "{\n  \"name\": \"df_content[df_content['name']==\\\"Naruto\\\"]\",\n  \"rows\": 1,\n  \"fields\": [\n    {\n      \"column\": \"anime_id\",\n      \"properties\": {\n        \"dtype\": \"number\",\n        \"std\": null,\n        \"min\": 20,\n        \"max\": 20,\n        \"num_unique_values\": 1,\n        \"samples\": [\n          20\n        ],\n        \"semantic_type\": \"\",\n        \"description\": \"\"\n      }\n    },\n    {\n      \"column\": \"name\",\n      \"properties\": {\n        \"dtype\": \"string\",\n        \"num_unique_values\": 1,\n        \"samples\": [\n          \"Naruto\"\n        ],\n        \"semantic_type\": \"\",\n        \"description\": \"\"\n      }\n    },\n    {\n      \"column\": \"genre\",\n      \"properties\": {\n        \"dtype\": \"string\",\n        \"num_unique_values\": 1,\n        \"samples\": [\n          \"Action Comedy Martial_Arts Shounen Super_Power\"\n        ],\n        \"semantic_type\": \"\",\n        \"description\": \"\"\n      }\n    },\n    {\n      \"column\": \"type\",\n      \"properties\": {\n        \"dtype\": \"string\",\n        \"num_unique_values\": 1,\n        \"samples\": [\n          \"TV\"\n        ],\n        \"semantic_type\": \"\",\n        \"description\": \"\"\n      }\n    },\n    {\n      \"column\": \"episodes\",\n      \"properties\": {\n        \"dtype\": \"string\",\n        \"num_unique_values\": 1,\n        \"samples\": [\n          \"220\"\n        ],\n        \"semantic_type\": \"\",\n        \"description\": \"\"\n      }\n    },\n    {\n      \"column\": \"rating\",\n      \"properties\": {\n        \"dtype\": \"number\",\n        \"std\": null,\n        \"min\": 7.81,\n        \"max\": 7.81,\n        \"num_unique_values\": 1,\n        \"samples\": [\n          7.81\n        ],\n        \"semantic_type\": \"\",\n        \"description\": \"\"\n      }\n    },\n    {\n      \"column\": \"members\",\n      \"properties\": {\n        \"dtype\": \"number\",\n        \"std\": null,\n        \"min\": 683297,\n        \"max\": 683297,\n        \"num_unique_values\": 1,\n        \"samples\": [\n          683297\n        ],\n        \"semantic_type\": \"\",\n        \"description\": \"\"\n      }\n    }\n  ]\n}"
            }
          },
          "metadata": {},
          "execution_count": 139
        }
      ]
    },
    {
      "cell_type": "code",
      "source": [
        "recommendations_content('Naruto')"
      ],
      "metadata": {
        "colab": {
          "base_uri": "https://localhost:8080/",
          "height": 363
        },
        "id": "vnl4hu32K3s-",
        "outputId": "abc09323-b156-441c-beca-3b9d9db61b41"
      },
      "execution_count": 144,
      "outputs": [
        {
          "output_type": "execute_result",
          "data": {
            "text/plain": [
              "                                                name  \\\n",
              "0                                        Naruto x UT   \n",
              "1                                 Naruto: Shippuuden   \n",
              "2  Naruto: Shippuuden Movie 3 - Hi no Ishi wo Tsu...   \n",
              "3                           Boruto: Naruto the Movie   \n",
              "4               Naruto Shippuuden: Sunny Side Battle   \n",
              "5        Naruto: Shippuuden Movie 4 - The Lost Tower   \n",
              "6  Naruto Soyokazeden Movie: Naruto to Mashin to ...   \n",
              "7  Boruto: Naruto the Movie - Naruto ga Hokage ni...   \n",
              "8                                     Rekka no Honoo   \n",
              "9                            Kyutai Panic Adventure!   \n",
              "\n",
              "                                               genre  rating  \n",
              "0     Action Comedy Martial_Arts Shounen Super_Power    7.58  \n",
              "1     Action Comedy Martial_Arts Shounen Super_Power    7.94  \n",
              "2     Action Comedy Martial_Arts Shounen Super_Power    7.50  \n",
              "3     Action Comedy Martial_Arts Shounen Super_Power    8.03  \n",
              "4     Action Comedy Martial_Arts Shounen Super_Power    7.26  \n",
              "5     Action Comedy Martial_Arts Shounen Super_Power    7.53  \n",
              "6     Action Comedy Martial_Arts Shounen Super_Power    7.11  \n",
              "7     Action Comedy Martial_Arts Shounen Super_Power    7.68  \n",
              "8  Action Adventure Martial_Arts Shounen Super_Power    7.44  \n",
              "9            Action Martial_Arts Shounen Super_Power    5.21  "
            ],
            "text/html": [
              "\n",
              "  <div id=\"df-a51eca49-1634-40ed-96b3-d143bf9f7b6c\" class=\"colab-df-container\">\n",
              "    <div>\n",
              "<style scoped>\n",
              "    .dataframe tbody tr th:only-of-type {\n",
              "        vertical-align: middle;\n",
              "    }\n",
              "\n",
              "    .dataframe tbody tr th {\n",
              "        vertical-align: top;\n",
              "    }\n",
              "\n",
              "    .dataframe thead th {\n",
              "        text-align: right;\n",
              "    }\n",
              "</style>\n",
              "<table border=\"1\" class=\"dataframe\">\n",
              "  <thead>\n",
              "    <tr style=\"text-align: right;\">\n",
              "      <th></th>\n",
              "      <th>name</th>\n",
              "      <th>genre</th>\n",
              "      <th>rating</th>\n",
              "    </tr>\n",
              "  </thead>\n",
              "  <tbody>\n",
              "    <tr>\n",
              "      <th>0</th>\n",
              "      <td>Naruto x UT</td>\n",
              "      <td>Action Comedy Martial_Arts Shounen Super_Power</td>\n",
              "      <td>7.58</td>\n",
              "    </tr>\n",
              "    <tr>\n",
              "      <th>1</th>\n",
              "      <td>Naruto: Shippuuden</td>\n",
              "      <td>Action Comedy Martial_Arts Shounen Super_Power</td>\n",
              "      <td>7.94</td>\n",
              "    </tr>\n",
              "    <tr>\n",
              "      <th>2</th>\n",
              "      <td>Naruto: Shippuuden Movie 3 - Hi no Ishi wo Tsu...</td>\n",
              "      <td>Action Comedy Martial_Arts Shounen Super_Power</td>\n",
              "      <td>7.50</td>\n",
              "    </tr>\n",
              "    <tr>\n",
              "      <th>3</th>\n",
              "      <td>Boruto: Naruto the Movie</td>\n",
              "      <td>Action Comedy Martial_Arts Shounen Super_Power</td>\n",
              "      <td>8.03</td>\n",
              "    </tr>\n",
              "    <tr>\n",
              "      <th>4</th>\n",
              "      <td>Naruto Shippuuden: Sunny Side Battle</td>\n",
              "      <td>Action Comedy Martial_Arts Shounen Super_Power</td>\n",
              "      <td>7.26</td>\n",
              "    </tr>\n",
              "    <tr>\n",
              "      <th>5</th>\n",
              "      <td>Naruto: Shippuuden Movie 4 - The Lost Tower</td>\n",
              "      <td>Action Comedy Martial_Arts Shounen Super_Power</td>\n",
              "      <td>7.53</td>\n",
              "    </tr>\n",
              "    <tr>\n",
              "      <th>6</th>\n",
              "      <td>Naruto Soyokazeden Movie: Naruto to Mashin to ...</td>\n",
              "      <td>Action Comedy Martial_Arts Shounen Super_Power</td>\n",
              "      <td>7.11</td>\n",
              "    </tr>\n",
              "    <tr>\n",
              "      <th>7</th>\n",
              "      <td>Boruto: Naruto the Movie - Naruto ga Hokage ni...</td>\n",
              "      <td>Action Comedy Martial_Arts Shounen Super_Power</td>\n",
              "      <td>7.68</td>\n",
              "    </tr>\n",
              "    <tr>\n",
              "      <th>8</th>\n",
              "      <td>Rekka no Honoo</td>\n",
              "      <td>Action Adventure Martial_Arts Shounen Super_Power</td>\n",
              "      <td>7.44</td>\n",
              "    </tr>\n",
              "    <tr>\n",
              "      <th>9</th>\n",
              "      <td>Kyutai Panic Adventure!</td>\n",
              "      <td>Action Martial_Arts Shounen Super_Power</td>\n",
              "      <td>5.21</td>\n",
              "    </tr>\n",
              "  </tbody>\n",
              "</table>\n",
              "</div>\n",
              "    <div class=\"colab-df-buttons\">\n",
              "\n",
              "  <div class=\"colab-df-container\">\n",
              "    <button class=\"colab-df-convert\" onclick=\"convertToInteractive('df-a51eca49-1634-40ed-96b3-d143bf9f7b6c')\"\n",
              "            title=\"Convert this dataframe to an interactive table.\"\n",
              "            style=\"display:none;\">\n",
              "\n",
              "  <svg xmlns=\"http://www.w3.org/2000/svg\" height=\"24px\" viewBox=\"0 -960 960 960\">\n",
              "    <path d=\"M120-120v-720h720v720H120Zm60-500h600v-160H180v160Zm220 220h160v-160H400v160Zm0 220h160v-160H400v160ZM180-400h160v-160H180v160Zm440 0h160v-160H620v160ZM180-180h160v-160H180v160Zm440 0h160v-160H620v160Z\"/>\n",
              "  </svg>\n",
              "    </button>\n",
              "\n",
              "  <style>\n",
              "    .colab-df-container {\n",
              "      display:flex;\n",
              "      gap: 12px;\n",
              "    }\n",
              "\n",
              "    .colab-df-convert {\n",
              "      background-color: #E8F0FE;\n",
              "      border: none;\n",
              "      border-radius: 50%;\n",
              "      cursor: pointer;\n",
              "      display: none;\n",
              "      fill: #1967D2;\n",
              "      height: 32px;\n",
              "      padding: 0 0 0 0;\n",
              "      width: 32px;\n",
              "    }\n",
              "\n",
              "    .colab-df-convert:hover {\n",
              "      background-color: #E2EBFA;\n",
              "      box-shadow: 0px 1px 2px rgba(60, 64, 67, 0.3), 0px 1px 3px 1px rgba(60, 64, 67, 0.15);\n",
              "      fill: #174EA6;\n",
              "    }\n",
              "\n",
              "    .colab-df-buttons div {\n",
              "      margin-bottom: 4px;\n",
              "    }\n",
              "\n",
              "    [theme=dark] .colab-df-convert {\n",
              "      background-color: #3B4455;\n",
              "      fill: #D2E3FC;\n",
              "    }\n",
              "\n",
              "    [theme=dark] .colab-df-convert:hover {\n",
              "      background-color: #434B5C;\n",
              "      box-shadow: 0px 1px 3px 1px rgba(0, 0, 0, 0.15);\n",
              "      filter: drop-shadow(0px 1px 2px rgba(0, 0, 0, 0.3));\n",
              "      fill: #FFFFFF;\n",
              "    }\n",
              "  </style>\n",
              "\n",
              "    <script>\n",
              "      const buttonEl =\n",
              "        document.querySelector('#df-a51eca49-1634-40ed-96b3-d143bf9f7b6c button.colab-df-convert');\n",
              "      buttonEl.style.display =\n",
              "        google.colab.kernel.accessAllowed ? 'block' : 'none';\n",
              "\n",
              "      async function convertToInteractive(key) {\n",
              "        const element = document.querySelector('#df-a51eca49-1634-40ed-96b3-d143bf9f7b6c');\n",
              "        const dataTable =\n",
              "          await google.colab.kernel.invokeFunction('convertToInteractive',\n",
              "                                                    [key], {});\n",
              "        if (!dataTable) return;\n",
              "\n",
              "        const docLinkHtml = 'Like what you see? Visit the ' +\n",
              "          '<a target=\"_blank\" href=https://colab.research.google.com/notebooks/data_table.ipynb>data table notebook</a>'\n",
              "          + ' to learn more about interactive tables.';\n",
              "        element.innerHTML = '';\n",
              "        dataTable['output_type'] = 'display_data';\n",
              "        await google.colab.output.renderOutput(dataTable, element);\n",
              "        const docLink = document.createElement('div');\n",
              "        docLink.innerHTML = docLinkHtml;\n",
              "        element.appendChild(docLink);\n",
              "      }\n",
              "    </script>\n",
              "  </div>\n",
              "\n",
              "\n",
              "    <div id=\"df-36e89680-2d72-4112-96c0-46cc152216a5\">\n",
              "      <button class=\"colab-df-quickchart\" onclick=\"quickchart('df-36e89680-2d72-4112-96c0-46cc152216a5')\"\n",
              "                title=\"Suggest charts\"\n",
              "                style=\"display:none;\">\n",
              "\n",
              "<svg xmlns=\"http://www.w3.org/2000/svg\" height=\"24px\"viewBox=\"0 0 24 24\"\n",
              "     width=\"24px\">\n",
              "    <g>\n",
              "        <path d=\"M19 3H5c-1.1 0-2 .9-2 2v14c0 1.1.9 2 2 2h14c1.1 0 2-.9 2-2V5c0-1.1-.9-2-2-2zM9 17H7v-7h2v7zm4 0h-2V7h2v10zm4 0h-2v-4h2v4z\"/>\n",
              "    </g>\n",
              "</svg>\n",
              "      </button>\n",
              "\n",
              "<style>\n",
              "  .colab-df-quickchart {\n",
              "      --bg-color: #E8F0FE;\n",
              "      --fill-color: #1967D2;\n",
              "      --hover-bg-color: #E2EBFA;\n",
              "      --hover-fill-color: #174EA6;\n",
              "      --disabled-fill-color: #AAA;\n",
              "      --disabled-bg-color: #DDD;\n",
              "  }\n",
              "\n",
              "  [theme=dark] .colab-df-quickchart {\n",
              "      --bg-color: #3B4455;\n",
              "      --fill-color: #D2E3FC;\n",
              "      --hover-bg-color: #434B5C;\n",
              "      --hover-fill-color: #FFFFFF;\n",
              "      --disabled-bg-color: #3B4455;\n",
              "      --disabled-fill-color: #666;\n",
              "  }\n",
              "\n",
              "  .colab-df-quickchart {\n",
              "    background-color: var(--bg-color);\n",
              "    border: none;\n",
              "    border-radius: 50%;\n",
              "    cursor: pointer;\n",
              "    display: none;\n",
              "    fill: var(--fill-color);\n",
              "    height: 32px;\n",
              "    padding: 0;\n",
              "    width: 32px;\n",
              "  }\n",
              "\n",
              "  .colab-df-quickchart:hover {\n",
              "    background-color: var(--hover-bg-color);\n",
              "    box-shadow: 0 1px 2px rgba(60, 64, 67, 0.3), 0 1px 3px 1px rgba(60, 64, 67, 0.15);\n",
              "    fill: var(--button-hover-fill-color);\n",
              "  }\n",
              "\n",
              "  .colab-df-quickchart-complete:disabled,\n",
              "  .colab-df-quickchart-complete:disabled:hover {\n",
              "    background-color: var(--disabled-bg-color);\n",
              "    fill: var(--disabled-fill-color);\n",
              "    box-shadow: none;\n",
              "  }\n",
              "\n",
              "  .colab-df-spinner {\n",
              "    border: 2px solid var(--fill-color);\n",
              "    border-color: transparent;\n",
              "    border-bottom-color: var(--fill-color);\n",
              "    animation:\n",
              "      spin 1s steps(1) infinite;\n",
              "  }\n",
              "\n",
              "  @keyframes spin {\n",
              "    0% {\n",
              "      border-color: transparent;\n",
              "      border-bottom-color: var(--fill-color);\n",
              "      border-left-color: var(--fill-color);\n",
              "    }\n",
              "    20% {\n",
              "      border-color: transparent;\n",
              "      border-left-color: var(--fill-color);\n",
              "      border-top-color: var(--fill-color);\n",
              "    }\n",
              "    30% {\n",
              "      border-color: transparent;\n",
              "      border-left-color: var(--fill-color);\n",
              "      border-top-color: var(--fill-color);\n",
              "      border-right-color: var(--fill-color);\n",
              "    }\n",
              "    40% {\n",
              "      border-color: transparent;\n",
              "      border-right-color: var(--fill-color);\n",
              "      border-top-color: var(--fill-color);\n",
              "    }\n",
              "    60% {\n",
              "      border-color: transparent;\n",
              "      border-right-color: var(--fill-color);\n",
              "    }\n",
              "    80% {\n",
              "      border-color: transparent;\n",
              "      border-right-color: var(--fill-color);\n",
              "      border-bottom-color: var(--fill-color);\n",
              "    }\n",
              "    90% {\n",
              "      border-color: transparent;\n",
              "      border-bottom-color: var(--fill-color);\n",
              "    }\n",
              "  }\n",
              "</style>\n",
              "\n",
              "      <script>\n",
              "        async function quickchart(key) {\n",
              "          const quickchartButtonEl =\n",
              "            document.querySelector('#' + key + ' button');\n",
              "          quickchartButtonEl.disabled = true;  // To prevent multiple clicks.\n",
              "          quickchartButtonEl.classList.add('colab-df-spinner');\n",
              "          try {\n",
              "            const charts = await google.colab.kernel.invokeFunction(\n",
              "                'suggestCharts', [key], {});\n",
              "          } catch (error) {\n",
              "            console.error('Error during call to suggestCharts:', error);\n",
              "          }\n",
              "          quickchartButtonEl.classList.remove('colab-df-spinner');\n",
              "          quickchartButtonEl.classList.add('colab-df-quickchart-complete');\n",
              "        }\n",
              "        (() => {\n",
              "          let quickchartButtonEl =\n",
              "            document.querySelector('#df-36e89680-2d72-4112-96c0-46cc152216a5 button');\n",
              "          quickchartButtonEl.style.display =\n",
              "            google.colab.kernel.accessAllowed ? 'block' : 'none';\n",
              "        })();\n",
              "      </script>\n",
              "    </div>\n",
              "\n",
              "    </div>\n",
              "  </div>\n"
            ],
            "application/vnd.google.colaboratory.intrinsic+json": {
              "type": "dataframe",
              "summary": "{\n  \"name\": \"recommendations_content('Naruto')\",\n  \"rows\": 10,\n  \"fields\": [\n    {\n      \"column\": \"name\",\n      \"properties\": {\n        \"dtype\": \"string\",\n        \"num_unique_values\": 10,\n        \"samples\": [\n          \"Rekka no Honoo\",\n          \"Naruto: Shippuuden\",\n          \"Naruto: Shippuuden Movie 4 - The Lost Tower\"\n        ],\n        \"semantic_type\": \"\",\n        \"description\": \"\"\n      }\n    },\n    {\n      \"column\": \"genre\",\n      \"properties\": {\n        \"dtype\": \"category\",\n        \"num_unique_values\": 3,\n        \"samples\": [\n          \"Action Comedy Martial_Arts Shounen Super_Power\",\n          \"Action Adventure Martial_Arts Shounen Super_Power\",\n          \"Action Martial_Arts Shounen Super_Power\"\n        ],\n        \"semantic_type\": \"\",\n        \"description\": \"\"\n      }\n    },\n    {\n      \"column\": \"rating\",\n      \"properties\": {\n        \"dtype\": \"number\",\n        \"std\": 0.7941284530855194,\n        \"min\": 5.21,\n        \"max\": 8.03,\n        \"num_unique_values\": 10,\n        \"samples\": [\n          7.44,\n          7.94,\n          7.53\n        ],\n        \"semantic_type\": \"\",\n        \"description\": \"\"\n      }\n    }\n  ]\n}"
            }
          },
          "metadata": {},
          "execution_count": 144
        }
      ]
    },
    {
      "cell_type": "code",
      "source": [
        "df_content[df_content['name']==\"Doraemon\"]"
      ],
      "metadata": {
        "colab": {
          "base_uri": "https://localhost:8080/",
          "height": 81
        },
        "id": "5YkTWGA1LKkj",
        "outputId": "1c3239ef-d0d4-472b-b079-a5b9ea8a9cb6"
      },
      "execution_count": 141,
      "outputs": [
        {
          "output_type": "execute_result",
          "data": {
            "text/plain": [
              "      anime_id      name                                  genre type episodes  \\\n",
              "1587       501  Doraemon  Adventure Comedy Fantasy Kids Shounen   TV       26   \n",
              "\n",
              "      rating  members  \n",
              "1587    7.49     9366  "
            ],
            "text/html": [
              "\n",
              "  <div id=\"df-124eac29-b6f1-4425-88a1-794ad00ea0c6\" class=\"colab-df-container\">\n",
              "    <div>\n",
              "<style scoped>\n",
              "    .dataframe tbody tr th:only-of-type {\n",
              "        vertical-align: middle;\n",
              "    }\n",
              "\n",
              "    .dataframe tbody tr th {\n",
              "        vertical-align: top;\n",
              "    }\n",
              "\n",
              "    .dataframe thead th {\n",
              "        text-align: right;\n",
              "    }\n",
              "</style>\n",
              "<table border=\"1\" class=\"dataframe\">\n",
              "  <thead>\n",
              "    <tr style=\"text-align: right;\">\n",
              "      <th></th>\n",
              "      <th>anime_id</th>\n",
              "      <th>name</th>\n",
              "      <th>genre</th>\n",
              "      <th>type</th>\n",
              "      <th>episodes</th>\n",
              "      <th>rating</th>\n",
              "      <th>members</th>\n",
              "    </tr>\n",
              "  </thead>\n",
              "  <tbody>\n",
              "    <tr>\n",
              "      <th>1587</th>\n",
              "      <td>501</td>\n",
              "      <td>Doraemon</td>\n",
              "      <td>Adventure Comedy Fantasy Kids Shounen</td>\n",
              "      <td>TV</td>\n",
              "      <td>26</td>\n",
              "      <td>7.49</td>\n",
              "      <td>9366</td>\n",
              "    </tr>\n",
              "  </tbody>\n",
              "</table>\n",
              "</div>\n",
              "    <div class=\"colab-df-buttons\">\n",
              "\n",
              "  <div class=\"colab-df-container\">\n",
              "    <button class=\"colab-df-convert\" onclick=\"convertToInteractive('df-124eac29-b6f1-4425-88a1-794ad00ea0c6')\"\n",
              "            title=\"Convert this dataframe to an interactive table.\"\n",
              "            style=\"display:none;\">\n",
              "\n",
              "  <svg xmlns=\"http://www.w3.org/2000/svg\" height=\"24px\" viewBox=\"0 -960 960 960\">\n",
              "    <path d=\"M120-120v-720h720v720H120Zm60-500h600v-160H180v160Zm220 220h160v-160H400v160Zm0 220h160v-160H400v160ZM180-400h160v-160H180v160Zm440 0h160v-160H620v160ZM180-180h160v-160H180v160Zm440 0h160v-160H620v160Z\"/>\n",
              "  </svg>\n",
              "    </button>\n",
              "\n",
              "  <style>\n",
              "    .colab-df-container {\n",
              "      display:flex;\n",
              "      gap: 12px;\n",
              "    }\n",
              "\n",
              "    .colab-df-convert {\n",
              "      background-color: #E8F0FE;\n",
              "      border: none;\n",
              "      border-radius: 50%;\n",
              "      cursor: pointer;\n",
              "      display: none;\n",
              "      fill: #1967D2;\n",
              "      height: 32px;\n",
              "      padding: 0 0 0 0;\n",
              "      width: 32px;\n",
              "    }\n",
              "\n",
              "    .colab-df-convert:hover {\n",
              "      background-color: #E2EBFA;\n",
              "      box-shadow: 0px 1px 2px rgba(60, 64, 67, 0.3), 0px 1px 3px 1px rgba(60, 64, 67, 0.15);\n",
              "      fill: #174EA6;\n",
              "    }\n",
              "\n",
              "    .colab-df-buttons div {\n",
              "      margin-bottom: 4px;\n",
              "    }\n",
              "\n",
              "    [theme=dark] .colab-df-convert {\n",
              "      background-color: #3B4455;\n",
              "      fill: #D2E3FC;\n",
              "    }\n",
              "\n",
              "    [theme=dark] .colab-df-convert:hover {\n",
              "      background-color: #434B5C;\n",
              "      box-shadow: 0px 1px 3px 1px rgba(0, 0, 0, 0.15);\n",
              "      filter: drop-shadow(0px 1px 2px rgba(0, 0, 0, 0.3));\n",
              "      fill: #FFFFFF;\n",
              "    }\n",
              "  </style>\n",
              "\n",
              "    <script>\n",
              "      const buttonEl =\n",
              "        document.querySelector('#df-124eac29-b6f1-4425-88a1-794ad00ea0c6 button.colab-df-convert');\n",
              "      buttonEl.style.display =\n",
              "        google.colab.kernel.accessAllowed ? 'block' : 'none';\n",
              "\n",
              "      async function convertToInteractive(key) {\n",
              "        const element = document.querySelector('#df-124eac29-b6f1-4425-88a1-794ad00ea0c6');\n",
              "        const dataTable =\n",
              "          await google.colab.kernel.invokeFunction('convertToInteractive',\n",
              "                                                    [key], {});\n",
              "        if (!dataTable) return;\n",
              "\n",
              "        const docLinkHtml = 'Like what you see? Visit the ' +\n",
              "          '<a target=\"_blank\" href=https://colab.research.google.com/notebooks/data_table.ipynb>data table notebook</a>'\n",
              "          + ' to learn more about interactive tables.';\n",
              "        element.innerHTML = '';\n",
              "        dataTable['output_type'] = 'display_data';\n",
              "        await google.colab.output.renderOutput(dataTable, element);\n",
              "        const docLink = document.createElement('div');\n",
              "        docLink.innerHTML = docLinkHtml;\n",
              "        element.appendChild(docLink);\n",
              "      }\n",
              "    </script>\n",
              "  </div>\n",
              "\n",
              "\n",
              "    </div>\n",
              "  </div>\n"
            ],
            "application/vnd.google.colaboratory.intrinsic+json": {
              "type": "dataframe",
              "summary": "{\n  \"name\": \"df_content[df_content['name']==\\\"Doraemon\\\"]\",\n  \"rows\": 1,\n  \"fields\": [\n    {\n      \"column\": \"anime_id\",\n      \"properties\": {\n        \"dtype\": \"number\",\n        \"std\": null,\n        \"min\": 501,\n        \"max\": 501,\n        \"num_unique_values\": 1,\n        \"samples\": [\n          501\n        ],\n        \"semantic_type\": \"\",\n        \"description\": \"\"\n      }\n    },\n    {\n      \"column\": \"name\",\n      \"properties\": {\n        \"dtype\": \"string\",\n        \"num_unique_values\": 1,\n        \"samples\": [\n          \"Doraemon\"\n        ],\n        \"semantic_type\": \"\",\n        \"description\": \"\"\n      }\n    },\n    {\n      \"column\": \"genre\",\n      \"properties\": {\n        \"dtype\": \"string\",\n        \"num_unique_values\": 1,\n        \"samples\": [\n          \"Adventure Comedy Fantasy Kids Shounen\"\n        ],\n        \"semantic_type\": \"\",\n        \"description\": \"\"\n      }\n    },\n    {\n      \"column\": \"type\",\n      \"properties\": {\n        \"dtype\": \"string\",\n        \"num_unique_values\": 1,\n        \"samples\": [\n          \"TV\"\n        ],\n        \"semantic_type\": \"\",\n        \"description\": \"\"\n      }\n    },\n    {\n      \"column\": \"episodes\",\n      \"properties\": {\n        \"dtype\": \"string\",\n        \"num_unique_values\": 1,\n        \"samples\": [\n          \"26\"\n        ],\n        \"semantic_type\": \"\",\n        \"description\": \"\"\n      }\n    },\n    {\n      \"column\": \"rating\",\n      \"properties\": {\n        \"dtype\": \"number\",\n        \"std\": null,\n        \"min\": 7.49,\n        \"max\": 7.49,\n        \"num_unique_values\": 1,\n        \"samples\": [\n          7.49\n        ],\n        \"semantic_type\": \"\",\n        \"description\": \"\"\n      }\n    },\n    {\n      \"column\": \"members\",\n      \"properties\": {\n        \"dtype\": \"number\",\n        \"std\": null,\n        \"min\": 9366,\n        \"max\": 9366,\n        \"num_unique_values\": 1,\n        \"samples\": [\n          9366\n        ],\n        \"semantic_type\": \"\",\n        \"description\": \"\"\n      }\n    }\n  ]\n}"
            }
          },
          "metadata": {},
          "execution_count": 141
        }
      ]
    },
    {
      "cell_type": "code",
      "source": [
        "recommendations_content('Doraemon')"
      ],
      "metadata": {
        "colab": {
          "base_uri": "https://localhost:8080/",
          "height": 363
        },
        "id": "MkChsm16LNNh",
        "outputId": "aa8e9a6f-1e76-4ef9-b582-ec25df08714f"
      },
      "execution_count": 145,
      "outputs": [
        {
          "output_type": "execute_result",
          "data": {
            "text/plain": [
              "                                                name  \\\n",
              "0         Doraemon Movie 10: Nobita no Nippon Tanjou   \n",
              "1                              Doraemon: Its Summer!   \n",
              "2       Doraemon Movie 12: Nobita no Dorabian Nights   \n",
              "3                          Doraemon: Ganbare! Gian!!   \n",
              "4         Doraemon Movie 08: Nobita to Ryuu no Kishi   \n",
              "5  Doraemon Movie 33: Nobita no Himitsu Dougu Museum   \n",
              "6       Doraemon Movie 07: Nobita to Tetsujin Heidan   \n",
              "7                              Doraemon: Its Spring!   \n",
              "8         Doraemon Movie 23: Nobita to Robot Kingdom   \n",
              "9       Doraemon: Treasure of the Shinugumi Mountain   \n",
              "\n",
              "                                   genre  rating  \n",
              "0  Adventure Comedy Fantasy Kids Shounen    7.33  \n",
              "1  Adventure Comedy Fantasy Kids Shounen    6.63  \n",
              "2  Adventure Comedy Fantasy Kids Shounen    7.37  \n",
              "3  Adventure Comedy Fantasy Kids Shounen    6.80  \n",
              "4  Adventure Comedy Fantasy Kids Shounen    7.27  \n",
              "5  Adventure Comedy Fantasy Kids Shounen    7.47  \n",
              "6  Adventure Comedy Fantasy Kids Shounen    7.46  \n",
              "7  Adventure Comedy Fantasy Kids Shounen    6.67  \n",
              "8  Adventure Comedy Fantasy Kids Shounen    7.33  \n",
              "9  Adventure Comedy Fantasy Kids Shounen    6.74  "
            ],
            "text/html": [
              "\n",
              "  <div id=\"df-83985b93-6166-4c63-bea4-0e03e28a1dce\" class=\"colab-df-container\">\n",
              "    <div>\n",
              "<style scoped>\n",
              "    .dataframe tbody tr th:only-of-type {\n",
              "        vertical-align: middle;\n",
              "    }\n",
              "\n",
              "    .dataframe tbody tr th {\n",
              "        vertical-align: top;\n",
              "    }\n",
              "\n",
              "    .dataframe thead th {\n",
              "        text-align: right;\n",
              "    }\n",
              "</style>\n",
              "<table border=\"1\" class=\"dataframe\">\n",
              "  <thead>\n",
              "    <tr style=\"text-align: right;\">\n",
              "      <th></th>\n",
              "      <th>name</th>\n",
              "      <th>genre</th>\n",
              "      <th>rating</th>\n",
              "    </tr>\n",
              "  </thead>\n",
              "  <tbody>\n",
              "    <tr>\n",
              "      <th>0</th>\n",
              "      <td>Doraemon Movie 10: Nobita no Nippon Tanjou</td>\n",
              "      <td>Adventure Comedy Fantasy Kids Shounen</td>\n",
              "      <td>7.33</td>\n",
              "    </tr>\n",
              "    <tr>\n",
              "      <th>1</th>\n",
              "      <td>Doraemon: Its Summer!</td>\n",
              "      <td>Adventure Comedy Fantasy Kids Shounen</td>\n",
              "      <td>6.63</td>\n",
              "    </tr>\n",
              "    <tr>\n",
              "      <th>2</th>\n",
              "      <td>Doraemon Movie 12: Nobita no Dorabian Nights</td>\n",
              "      <td>Adventure Comedy Fantasy Kids Shounen</td>\n",
              "      <td>7.37</td>\n",
              "    </tr>\n",
              "    <tr>\n",
              "      <th>3</th>\n",
              "      <td>Doraemon: Ganbare! Gian!!</td>\n",
              "      <td>Adventure Comedy Fantasy Kids Shounen</td>\n",
              "      <td>6.80</td>\n",
              "    </tr>\n",
              "    <tr>\n",
              "      <th>4</th>\n",
              "      <td>Doraemon Movie 08: Nobita to Ryuu no Kishi</td>\n",
              "      <td>Adventure Comedy Fantasy Kids Shounen</td>\n",
              "      <td>7.27</td>\n",
              "    </tr>\n",
              "    <tr>\n",
              "      <th>5</th>\n",
              "      <td>Doraemon Movie 33: Nobita no Himitsu Dougu Museum</td>\n",
              "      <td>Adventure Comedy Fantasy Kids Shounen</td>\n",
              "      <td>7.47</td>\n",
              "    </tr>\n",
              "    <tr>\n",
              "      <th>6</th>\n",
              "      <td>Doraemon Movie 07: Nobita to Tetsujin Heidan</td>\n",
              "      <td>Adventure Comedy Fantasy Kids Shounen</td>\n",
              "      <td>7.46</td>\n",
              "    </tr>\n",
              "    <tr>\n",
              "      <th>7</th>\n",
              "      <td>Doraemon: Its Spring!</td>\n",
              "      <td>Adventure Comedy Fantasy Kids Shounen</td>\n",
              "      <td>6.67</td>\n",
              "    </tr>\n",
              "    <tr>\n",
              "      <th>8</th>\n",
              "      <td>Doraemon Movie 23: Nobita to Robot Kingdom</td>\n",
              "      <td>Adventure Comedy Fantasy Kids Shounen</td>\n",
              "      <td>7.33</td>\n",
              "    </tr>\n",
              "    <tr>\n",
              "      <th>9</th>\n",
              "      <td>Doraemon: Treasure of the Shinugumi Mountain</td>\n",
              "      <td>Adventure Comedy Fantasy Kids Shounen</td>\n",
              "      <td>6.74</td>\n",
              "    </tr>\n",
              "  </tbody>\n",
              "</table>\n",
              "</div>\n",
              "    <div class=\"colab-df-buttons\">\n",
              "\n",
              "  <div class=\"colab-df-container\">\n",
              "    <button class=\"colab-df-convert\" onclick=\"convertToInteractive('df-83985b93-6166-4c63-bea4-0e03e28a1dce')\"\n",
              "            title=\"Convert this dataframe to an interactive table.\"\n",
              "            style=\"display:none;\">\n",
              "\n",
              "  <svg xmlns=\"http://www.w3.org/2000/svg\" height=\"24px\" viewBox=\"0 -960 960 960\">\n",
              "    <path d=\"M120-120v-720h720v720H120Zm60-500h600v-160H180v160Zm220 220h160v-160H400v160Zm0 220h160v-160H400v160ZM180-400h160v-160H180v160Zm440 0h160v-160H620v160ZM180-180h160v-160H180v160Zm440 0h160v-160H620v160Z\"/>\n",
              "  </svg>\n",
              "    </button>\n",
              "\n",
              "  <style>\n",
              "    .colab-df-container {\n",
              "      display:flex;\n",
              "      gap: 12px;\n",
              "    }\n",
              "\n",
              "    .colab-df-convert {\n",
              "      background-color: #E8F0FE;\n",
              "      border: none;\n",
              "      border-radius: 50%;\n",
              "      cursor: pointer;\n",
              "      display: none;\n",
              "      fill: #1967D2;\n",
              "      height: 32px;\n",
              "      padding: 0 0 0 0;\n",
              "      width: 32px;\n",
              "    }\n",
              "\n",
              "    .colab-df-convert:hover {\n",
              "      background-color: #E2EBFA;\n",
              "      box-shadow: 0px 1px 2px rgba(60, 64, 67, 0.3), 0px 1px 3px 1px rgba(60, 64, 67, 0.15);\n",
              "      fill: #174EA6;\n",
              "    }\n",
              "\n",
              "    .colab-df-buttons div {\n",
              "      margin-bottom: 4px;\n",
              "    }\n",
              "\n",
              "    [theme=dark] .colab-df-convert {\n",
              "      background-color: #3B4455;\n",
              "      fill: #D2E3FC;\n",
              "    }\n",
              "\n",
              "    [theme=dark] .colab-df-convert:hover {\n",
              "      background-color: #434B5C;\n",
              "      box-shadow: 0px 1px 3px 1px rgba(0, 0, 0, 0.15);\n",
              "      filter: drop-shadow(0px 1px 2px rgba(0, 0, 0, 0.3));\n",
              "      fill: #FFFFFF;\n",
              "    }\n",
              "  </style>\n",
              "\n",
              "    <script>\n",
              "      const buttonEl =\n",
              "        document.querySelector('#df-83985b93-6166-4c63-bea4-0e03e28a1dce button.colab-df-convert');\n",
              "      buttonEl.style.display =\n",
              "        google.colab.kernel.accessAllowed ? 'block' : 'none';\n",
              "\n",
              "      async function convertToInteractive(key) {\n",
              "        const element = document.querySelector('#df-83985b93-6166-4c63-bea4-0e03e28a1dce');\n",
              "        const dataTable =\n",
              "          await google.colab.kernel.invokeFunction('convertToInteractive',\n",
              "                                                    [key], {});\n",
              "        if (!dataTable) return;\n",
              "\n",
              "        const docLinkHtml = 'Like what you see? Visit the ' +\n",
              "          '<a target=\"_blank\" href=https://colab.research.google.com/notebooks/data_table.ipynb>data table notebook</a>'\n",
              "          + ' to learn more about interactive tables.';\n",
              "        element.innerHTML = '';\n",
              "        dataTable['output_type'] = 'display_data';\n",
              "        await google.colab.output.renderOutput(dataTable, element);\n",
              "        const docLink = document.createElement('div');\n",
              "        docLink.innerHTML = docLinkHtml;\n",
              "        element.appendChild(docLink);\n",
              "      }\n",
              "    </script>\n",
              "  </div>\n",
              "\n",
              "\n",
              "    <div id=\"df-a9dde803-cd3a-4c79-af24-d556884cc936\">\n",
              "      <button class=\"colab-df-quickchart\" onclick=\"quickchart('df-a9dde803-cd3a-4c79-af24-d556884cc936')\"\n",
              "                title=\"Suggest charts\"\n",
              "                style=\"display:none;\">\n",
              "\n",
              "<svg xmlns=\"http://www.w3.org/2000/svg\" height=\"24px\"viewBox=\"0 0 24 24\"\n",
              "     width=\"24px\">\n",
              "    <g>\n",
              "        <path d=\"M19 3H5c-1.1 0-2 .9-2 2v14c0 1.1.9 2 2 2h14c1.1 0 2-.9 2-2V5c0-1.1-.9-2-2-2zM9 17H7v-7h2v7zm4 0h-2V7h2v10zm4 0h-2v-4h2v4z\"/>\n",
              "    </g>\n",
              "</svg>\n",
              "      </button>\n",
              "\n",
              "<style>\n",
              "  .colab-df-quickchart {\n",
              "      --bg-color: #E8F0FE;\n",
              "      --fill-color: #1967D2;\n",
              "      --hover-bg-color: #E2EBFA;\n",
              "      --hover-fill-color: #174EA6;\n",
              "      --disabled-fill-color: #AAA;\n",
              "      --disabled-bg-color: #DDD;\n",
              "  }\n",
              "\n",
              "  [theme=dark] .colab-df-quickchart {\n",
              "      --bg-color: #3B4455;\n",
              "      --fill-color: #D2E3FC;\n",
              "      --hover-bg-color: #434B5C;\n",
              "      --hover-fill-color: #FFFFFF;\n",
              "      --disabled-bg-color: #3B4455;\n",
              "      --disabled-fill-color: #666;\n",
              "  }\n",
              "\n",
              "  .colab-df-quickchart {\n",
              "    background-color: var(--bg-color);\n",
              "    border: none;\n",
              "    border-radius: 50%;\n",
              "    cursor: pointer;\n",
              "    display: none;\n",
              "    fill: var(--fill-color);\n",
              "    height: 32px;\n",
              "    padding: 0;\n",
              "    width: 32px;\n",
              "  }\n",
              "\n",
              "  .colab-df-quickchart:hover {\n",
              "    background-color: var(--hover-bg-color);\n",
              "    box-shadow: 0 1px 2px rgba(60, 64, 67, 0.3), 0 1px 3px 1px rgba(60, 64, 67, 0.15);\n",
              "    fill: var(--button-hover-fill-color);\n",
              "  }\n",
              "\n",
              "  .colab-df-quickchart-complete:disabled,\n",
              "  .colab-df-quickchart-complete:disabled:hover {\n",
              "    background-color: var(--disabled-bg-color);\n",
              "    fill: var(--disabled-fill-color);\n",
              "    box-shadow: none;\n",
              "  }\n",
              "\n",
              "  .colab-df-spinner {\n",
              "    border: 2px solid var(--fill-color);\n",
              "    border-color: transparent;\n",
              "    border-bottom-color: var(--fill-color);\n",
              "    animation:\n",
              "      spin 1s steps(1) infinite;\n",
              "  }\n",
              "\n",
              "  @keyframes spin {\n",
              "    0% {\n",
              "      border-color: transparent;\n",
              "      border-bottom-color: var(--fill-color);\n",
              "      border-left-color: var(--fill-color);\n",
              "    }\n",
              "    20% {\n",
              "      border-color: transparent;\n",
              "      border-left-color: var(--fill-color);\n",
              "      border-top-color: var(--fill-color);\n",
              "    }\n",
              "    30% {\n",
              "      border-color: transparent;\n",
              "      border-left-color: var(--fill-color);\n",
              "      border-top-color: var(--fill-color);\n",
              "      border-right-color: var(--fill-color);\n",
              "    }\n",
              "    40% {\n",
              "      border-color: transparent;\n",
              "      border-right-color: var(--fill-color);\n",
              "      border-top-color: var(--fill-color);\n",
              "    }\n",
              "    60% {\n",
              "      border-color: transparent;\n",
              "      border-right-color: var(--fill-color);\n",
              "    }\n",
              "    80% {\n",
              "      border-color: transparent;\n",
              "      border-right-color: var(--fill-color);\n",
              "      border-bottom-color: var(--fill-color);\n",
              "    }\n",
              "    90% {\n",
              "      border-color: transparent;\n",
              "      border-bottom-color: var(--fill-color);\n",
              "    }\n",
              "  }\n",
              "</style>\n",
              "\n",
              "      <script>\n",
              "        async function quickchart(key) {\n",
              "          const quickchartButtonEl =\n",
              "            document.querySelector('#' + key + ' button');\n",
              "          quickchartButtonEl.disabled = true;  // To prevent multiple clicks.\n",
              "          quickchartButtonEl.classList.add('colab-df-spinner');\n",
              "          try {\n",
              "            const charts = await google.colab.kernel.invokeFunction(\n",
              "                'suggestCharts', [key], {});\n",
              "          } catch (error) {\n",
              "            console.error('Error during call to suggestCharts:', error);\n",
              "          }\n",
              "          quickchartButtonEl.classList.remove('colab-df-spinner');\n",
              "          quickchartButtonEl.classList.add('colab-df-quickchart-complete');\n",
              "        }\n",
              "        (() => {\n",
              "          let quickchartButtonEl =\n",
              "            document.querySelector('#df-a9dde803-cd3a-4c79-af24-d556884cc936 button');\n",
              "          quickchartButtonEl.style.display =\n",
              "            google.colab.kernel.accessAllowed ? 'block' : 'none';\n",
              "        })();\n",
              "      </script>\n",
              "    </div>\n",
              "\n",
              "    </div>\n",
              "  </div>\n"
            ],
            "application/vnd.google.colaboratory.intrinsic+json": {
              "type": "dataframe",
              "summary": "{\n  \"name\": \"recommendations_content('Doraemon')\",\n  \"rows\": 10,\n  \"fields\": [\n    {\n      \"column\": \"name\",\n      \"properties\": {\n        \"dtype\": \"string\",\n        \"num_unique_values\": 10,\n        \"samples\": [\n          \"Doraemon Movie 23: Nobita to Robot Kingdom\",\n          \"Doraemon: Its Summer!\",\n          \"Doraemon Movie 33: Nobita no Himitsu Dougu Museum\"\n        ],\n        \"semantic_type\": \"\",\n        \"description\": \"\"\n      }\n    },\n    {\n      \"column\": \"genre\",\n      \"properties\": {\n        \"dtype\": \"category\",\n        \"num_unique_values\": 1,\n        \"samples\": [\n          \"Adventure Comedy Fantasy Kids Shounen\"\n        ],\n        \"semantic_type\": \"\",\n        \"description\": \"\"\n      }\n    },\n    {\n      \"column\": \"rating\",\n      \"properties\": {\n        \"dtype\": \"number\",\n        \"std\": 0.34944559264958863,\n        \"min\": 6.63,\n        \"max\": 7.47,\n        \"num_unique_values\": 9,\n        \"samples\": [\n          6.67\n        ],\n        \"semantic_type\": \"\",\n        \"description\": \"\"\n      }\n    }\n  ]\n}"
            }
          },
          "metadata": {},
          "execution_count": 145
        }
      ]
    },
    {
      "cell_type": "markdown",
      "source": [
        "Dari hasil rekomendasi berdasarkan genre berhasil memberikan rekomendasi sebanyak 5 rekomendasi"
      ],
      "metadata": {
        "id": "BFmMAv67M6oC"
      }
    },
    {
      "cell_type": "markdown",
      "source": [
        "## Collaborative Filtering"
      ],
      "metadata": {
        "id": "VEWZMRIeNXP4"
      }
    },
    {
      "cell_type": "markdown",
      "source": [
        "### Data preparation"
      ],
      "metadata": {
        "id": "KQzgF8n8QGhp"
      }
    },
    {
      "cell_type": "markdown",
      "source": [
        "Dikarenakan data yang sangat besar kita akan mengambil 500 user unik saja"
      ],
      "metadata": {
        "id": "wLCxK92BXiUp"
      }
    },
    {
      "cell_type": "code",
      "source": [
        "sampled_users = rating['user_id'].drop_duplicates().sample(n=500, random_state=42)\n",
        "df_collab = rating[rating['user_id'].isin(sampled_users)]"
      ],
      "metadata": {
        "id": "sItS2CUJNcqW"
      },
      "execution_count": 151,
      "outputs": []
    },
    {
      "cell_type": "code",
      "source": [
        "df_collab.shape"
      ],
      "metadata": {
        "colab": {
          "base_uri": "https://localhost:8080/"
        },
        "id": "EurxDB4sXy00",
        "outputId": "a548234f-a54d-4e49-8b2a-e5a975e19292"
      },
      "execution_count": 60,
      "outputs": [
        {
          "output_type": "execute_result",
          "data": {
            "text/plain": [
              "(44111, 3)"
            ]
          },
          "metadata": {},
          "execution_count": 60
        }
      ]
    },
    {
      "cell_type": "code",
      "source": [
        "# Mengubah userID menjadi list tanpa nilai yang sama\n",
        "user_ids = df_collab['user_id'].unique().tolist()\n",
        "print('list user_id: ', user_ids)\n",
        "\n",
        "# Melakukan encoding userID\n",
        "user_to_user_encoded = {x: i for i, x in enumerate(user_ids)}\n",
        "print('encoded userID : ', user_to_user_encoded)\n",
        "\n",
        "# Melakukan proses encoding angka ke ke userID\n",
        "user_encoded_to_user = {i: x for i, x in enumerate(user_ids)}\n",
        "print('encoded angka ke userID: ', user_encoded_to_user)"
      ],
      "metadata": {
        "colab": {
          "base_uri": "https://localhost:8080/"
        },
        "id": "SMgfOYHzRWSI",
        "outputId": "fb3ba288-9fb6-4e11-fd1f-24e6351b4206"
      },
      "execution_count": 61,
      "outputs": [
        {
          "output_type": "stream",
          "name": "stdout",
          "text": [
            "list user_id:  [459, 470, 486, 665, 741, 883, 888, 948, 1239, 1295, 1537, 1589, 1617, 1805, 2192, 2495, 3086, 3179, 3237, 3397, 3506, 3560, 3655, 3734, 3946, 3951, 4049, 4320, 4614, 4671, 4904, 4954, 5166, 5395, 5446, 5848, 5873, 5937, 6083, 6403, 6420, 6430, 6698, 6734, 6850, 6947, 7042, 7190, 7671, 7864, 7877, 7885, 7953, 8008, 8030, 8164, 8288, 8416, 8474, 8640, 8643, 8825, 8870, 9001, 9239, 9571, 9575, 9576, 9644, 9936, 10056, 10261, 10442, 10569, 10730, 10808, 11149, 11158, 11188, 11228, 11265, 11314, 11698, 12293, 12513, 12607, 12638, 12707, 12709, 12821, 13385, 13524, 13736, 13767, 13839, 13859, 13873, 13949, 13961, 14077, 14456, 14654, 14771, 14776, 15189, 15190, 15365, 15446, 15561, 15655, 15818, 15856, 16050, 16056, 16091, 16124, 16701, 16743, 16993, 17007, 17017, 17380, 17512, 17864, 18094, 18178, 18192, 18372, 18816, 19302, 19335, 19345, 19379, 19386, 19696, 19782, 19884, 19922, 20081, 20113, 20277, 20435, 20496, 20630, 20815, 20837, 20903, 21260, 21367, 21415, 21446, 21538, 21677, 21773, 21872, 21970, 22213, 22248, 23010, 23079, 23135, 23148, 23152, 23224, 23242, 23294, 23328, 23487, 23508, 23549, 23567, 23700, 23975, 24241, 24592, 24754, 25086, 25170, 25615, 25890, 25928, 26019, 26383, 26599, 26904, 27069, 27318, 27324, 27391, 27529, 27804, 27887, 28135, 28208, 28274, 28372, 28399, 28581, 28692, 28786, 29103, 29505, 29609, 30027, 30316, 30488, 30509, 30731, 30755, 30928, 31013, 31045, 31336, 31518, 31638, 31995, 32378, 32426, 32481, 32516, 32664, 32887, 32943, 32975, 32986, 33020, 33055, 33184, 33324, 33725, 33904, 34024, 34174, 34175, 34195, 34273, 34301, 34442, 34538, 34563, 34637, 34840, 34904, 35039, 35140, 35234, 35272, 35316, 35390, 35547, 35694, 35776, 36042, 36158, 36302, 36492, 36697, 37342, 37409, 37434, 37714, 38087, 38195, 38632, 38687, 38847, 39204, 39330, 39412, 39581, 40029, 40063, 40316, 40459, 40474, 40786, 40860, 40903, 41034, 41138, 41280, 41353, 41581, 41858, 41914, 41949, 42112, 42366, 42442, 42449, 42553, 42593, 42623, 42744, 42847, 43422, 43617, 44600, 44720, 44756, 44790, 44792, 44996, 45304, 45503, 45522, 45716, 45949, 46080, 46113, 46534, 46541, 46733, 46894, 46901, 47005, 47117, 47135, 47230, 47236, 47505, 47509, 47694, 47923, 48155, 48475, 48574, 48859, 49135, 49281, 49565, 49624, 49763, 49802, 49905, 50025, 50292, 50344, 50425, 50455, 50552, 50877, 50897, 51127, 51484, 51587, 51862, 51957, 52144, 52159, 52288, 52339, 52459, 52648, 52724, 52799, 52874, 53056, 53712, 53880, 54071, 54116, 54154, 54275, 54308, 54322, 54460, 55049, 55283, 55394, 55584, 55654, 55717, 55781, 55914, 56185, 56456, 56492, 57015, 57424, 57751, 57901, 57981, 58098, 58184, 58415, 58519, 58666, 58688, 58900, 58951, 59139, 59535, 59566, 59668, 59832, 59870, 60112, 60132, 60192, 61003, 61024, 61078, 61383, 61395, 61424, 61510, 61727, 61839, 61953, 62051, 62132, 62352, 62703, 62717, 62723, 62773, 63050, 63082, 63313, 63362, 63517, 63595, 64009, 64118, 64152, 64369, 64430, 64469, 64978, 65214, 65500, 65639, 65700, 66234, 66330, 66579, 66756, 66776, 66915, 67004, 67046, 67125, 67355, 67429, 67533, 67926, 67960, 67964, 68015, 68110, 68525, 68623, 68747, 68757, 68819, 68828, 68928, 68966, 69035, 69160, 69283, 69338, 69636, 69675, 69676, 69697, 69729, 69919, 69925, 69947, 70366, 70405, 70606, 70776, 70845, 70914, 71035, 71054, 71231, 71281, 71296, 71373, 71609, 71728, 71822, 72008, 72245, 72270, 72336, 72359, 72472, 72517, 72601, 72636, 72887, 73112, 73271, 73344, 73437]\n",
            "encoded userID :  {459: 0, 470: 1, 486: 2, 665: 3, 741: 4, 883: 5, 888: 6, 948: 7, 1239: 8, 1295: 9, 1537: 10, 1589: 11, 1617: 12, 1805: 13, 2192: 14, 2495: 15, 3086: 16, 3179: 17, 3237: 18, 3397: 19, 3506: 20, 3560: 21, 3655: 22, 3734: 23, 3946: 24, 3951: 25, 4049: 26, 4320: 27, 4614: 28, 4671: 29, 4904: 30, 4954: 31, 5166: 32, 5395: 33, 5446: 34, 5848: 35, 5873: 36, 5937: 37, 6083: 38, 6403: 39, 6420: 40, 6430: 41, 6698: 42, 6734: 43, 6850: 44, 6947: 45, 7042: 46, 7190: 47, 7671: 48, 7864: 49, 7877: 50, 7885: 51, 7953: 52, 8008: 53, 8030: 54, 8164: 55, 8288: 56, 8416: 57, 8474: 58, 8640: 59, 8643: 60, 8825: 61, 8870: 62, 9001: 63, 9239: 64, 9571: 65, 9575: 66, 9576: 67, 9644: 68, 9936: 69, 10056: 70, 10261: 71, 10442: 72, 10569: 73, 10730: 74, 10808: 75, 11149: 76, 11158: 77, 11188: 78, 11228: 79, 11265: 80, 11314: 81, 11698: 82, 12293: 83, 12513: 84, 12607: 85, 12638: 86, 12707: 87, 12709: 88, 12821: 89, 13385: 90, 13524: 91, 13736: 92, 13767: 93, 13839: 94, 13859: 95, 13873: 96, 13949: 97, 13961: 98, 14077: 99, 14456: 100, 14654: 101, 14771: 102, 14776: 103, 15189: 104, 15190: 105, 15365: 106, 15446: 107, 15561: 108, 15655: 109, 15818: 110, 15856: 111, 16050: 112, 16056: 113, 16091: 114, 16124: 115, 16701: 116, 16743: 117, 16993: 118, 17007: 119, 17017: 120, 17380: 121, 17512: 122, 17864: 123, 18094: 124, 18178: 125, 18192: 126, 18372: 127, 18816: 128, 19302: 129, 19335: 130, 19345: 131, 19379: 132, 19386: 133, 19696: 134, 19782: 135, 19884: 136, 19922: 137, 20081: 138, 20113: 139, 20277: 140, 20435: 141, 20496: 142, 20630: 143, 20815: 144, 20837: 145, 20903: 146, 21260: 147, 21367: 148, 21415: 149, 21446: 150, 21538: 151, 21677: 152, 21773: 153, 21872: 154, 21970: 155, 22213: 156, 22248: 157, 23010: 158, 23079: 159, 23135: 160, 23148: 161, 23152: 162, 23224: 163, 23242: 164, 23294: 165, 23328: 166, 23487: 167, 23508: 168, 23549: 169, 23567: 170, 23700: 171, 23975: 172, 24241: 173, 24592: 174, 24754: 175, 25086: 176, 25170: 177, 25615: 178, 25890: 179, 25928: 180, 26019: 181, 26383: 182, 26599: 183, 26904: 184, 27069: 185, 27318: 186, 27324: 187, 27391: 188, 27529: 189, 27804: 190, 27887: 191, 28135: 192, 28208: 193, 28274: 194, 28372: 195, 28399: 196, 28581: 197, 28692: 198, 28786: 199, 29103: 200, 29505: 201, 29609: 202, 30027: 203, 30316: 204, 30488: 205, 30509: 206, 30731: 207, 30755: 208, 30928: 209, 31013: 210, 31045: 211, 31336: 212, 31518: 213, 31638: 214, 31995: 215, 32378: 216, 32426: 217, 32481: 218, 32516: 219, 32664: 220, 32887: 221, 32943: 222, 32975: 223, 32986: 224, 33020: 225, 33055: 226, 33184: 227, 33324: 228, 33725: 229, 33904: 230, 34024: 231, 34174: 232, 34175: 233, 34195: 234, 34273: 235, 34301: 236, 34442: 237, 34538: 238, 34563: 239, 34637: 240, 34840: 241, 34904: 242, 35039: 243, 35140: 244, 35234: 245, 35272: 246, 35316: 247, 35390: 248, 35547: 249, 35694: 250, 35776: 251, 36042: 252, 36158: 253, 36302: 254, 36492: 255, 36697: 256, 37342: 257, 37409: 258, 37434: 259, 37714: 260, 38087: 261, 38195: 262, 38632: 263, 38687: 264, 38847: 265, 39204: 266, 39330: 267, 39412: 268, 39581: 269, 40029: 270, 40063: 271, 40316: 272, 40459: 273, 40474: 274, 40786: 275, 40860: 276, 40903: 277, 41034: 278, 41138: 279, 41280: 280, 41353: 281, 41581: 282, 41858: 283, 41914: 284, 41949: 285, 42112: 286, 42366: 287, 42442: 288, 42449: 289, 42553: 290, 42593: 291, 42623: 292, 42744: 293, 42847: 294, 43422: 295, 43617: 296, 44600: 297, 44720: 298, 44756: 299, 44790: 300, 44792: 301, 44996: 302, 45304: 303, 45503: 304, 45522: 305, 45716: 306, 45949: 307, 46080: 308, 46113: 309, 46534: 310, 46541: 311, 46733: 312, 46894: 313, 46901: 314, 47005: 315, 47117: 316, 47135: 317, 47230: 318, 47236: 319, 47505: 320, 47509: 321, 47694: 322, 47923: 323, 48155: 324, 48475: 325, 48574: 326, 48859: 327, 49135: 328, 49281: 329, 49565: 330, 49624: 331, 49763: 332, 49802: 333, 49905: 334, 50025: 335, 50292: 336, 50344: 337, 50425: 338, 50455: 339, 50552: 340, 50877: 341, 50897: 342, 51127: 343, 51484: 344, 51587: 345, 51862: 346, 51957: 347, 52144: 348, 52159: 349, 52288: 350, 52339: 351, 52459: 352, 52648: 353, 52724: 354, 52799: 355, 52874: 356, 53056: 357, 53712: 358, 53880: 359, 54071: 360, 54116: 361, 54154: 362, 54275: 363, 54308: 364, 54322: 365, 54460: 366, 55049: 367, 55283: 368, 55394: 369, 55584: 370, 55654: 371, 55717: 372, 55781: 373, 55914: 374, 56185: 375, 56456: 376, 56492: 377, 57015: 378, 57424: 379, 57751: 380, 57901: 381, 57981: 382, 58098: 383, 58184: 384, 58415: 385, 58519: 386, 58666: 387, 58688: 388, 58900: 389, 58951: 390, 59139: 391, 59535: 392, 59566: 393, 59668: 394, 59832: 395, 59870: 396, 60112: 397, 60132: 398, 60192: 399, 61003: 400, 61024: 401, 61078: 402, 61383: 403, 61395: 404, 61424: 405, 61510: 406, 61727: 407, 61839: 408, 61953: 409, 62051: 410, 62132: 411, 62352: 412, 62703: 413, 62717: 414, 62723: 415, 62773: 416, 63050: 417, 63082: 418, 63313: 419, 63362: 420, 63517: 421, 63595: 422, 64009: 423, 64118: 424, 64152: 425, 64369: 426, 64430: 427, 64469: 428, 64978: 429, 65214: 430, 65500: 431, 65639: 432, 65700: 433, 66234: 434, 66330: 435, 66579: 436, 66756: 437, 66776: 438, 66915: 439, 67004: 440, 67046: 441, 67125: 442, 67355: 443, 67429: 444, 67533: 445, 67926: 446, 67960: 447, 67964: 448, 68015: 449, 68110: 450, 68525: 451, 68623: 452, 68747: 453, 68757: 454, 68819: 455, 68828: 456, 68928: 457, 68966: 458, 69035: 459, 69160: 460, 69283: 461, 69338: 462, 69636: 463, 69675: 464, 69676: 465, 69697: 466, 69729: 467, 69919: 468, 69925: 469, 69947: 470, 70366: 471, 70405: 472, 70606: 473, 70776: 474, 70845: 475, 70914: 476, 71035: 477, 71054: 478, 71231: 479, 71281: 480, 71296: 481, 71373: 482, 71609: 483, 71728: 484, 71822: 485, 72008: 486, 72245: 487, 72270: 488, 72336: 489, 72359: 490, 72472: 491, 72517: 492, 72601: 493, 72636: 494, 72887: 495, 73112: 496, 73271: 497, 73344: 498, 73437: 499}\n",
            "encoded angka ke userID:  {0: 459, 1: 470, 2: 486, 3: 665, 4: 741, 5: 883, 6: 888, 7: 948, 8: 1239, 9: 1295, 10: 1537, 11: 1589, 12: 1617, 13: 1805, 14: 2192, 15: 2495, 16: 3086, 17: 3179, 18: 3237, 19: 3397, 20: 3506, 21: 3560, 22: 3655, 23: 3734, 24: 3946, 25: 3951, 26: 4049, 27: 4320, 28: 4614, 29: 4671, 30: 4904, 31: 4954, 32: 5166, 33: 5395, 34: 5446, 35: 5848, 36: 5873, 37: 5937, 38: 6083, 39: 6403, 40: 6420, 41: 6430, 42: 6698, 43: 6734, 44: 6850, 45: 6947, 46: 7042, 47: 7190, 48: 7671, 49: 7864, 50: 7877, 51: 7885, 52: 7953, 53: 8008, 54: 8030, 55: 8164, 56: 8288, 57: 8416, 58: 8474, 59: 8640, 60: 8643, 61: 8825, 62: 8870, 63: 9001, 64: 9239, 65: 9571, 66: 9575, 67: 9576, 68: 9644, 69: 9936, 70: 10056, 71: 10261, 72: 10442, 73: 10569, 74: 10730, 75: 10808, 76: 11149, 77: 11158, 78: 11188, 79: 11228, 80: 11265, 81: 11314, 82: 11698, 83: 12293, 84: 12513, 85: 12607, 86: 12638, 87: 12707, 88: 12709, 89: 12821, 90: 13385, 91: 13524, 92: 13736, 93: 13767, 94: 13839, 95: 13859, 96: 13873, 97: 13949, 98: 13961, 99: 14077, 100: 14456, 101: 14654, 102: 14771, 103: 14776, 104: 15189, 105: 15190, 106: 15365, 107: 15446, 108: 15561, 109: 15655, 110: 15818, 111: 15856, 112: 16050, 113: 16056, 114: 16091, 115: 16124, 116: 16701, 117: 16743, 118: 16993, 119: 17007, 120: 17017, 121: 17380, 122: 17512, 123: 17864, 124: 18094, 125: 18178, 126: 18192, 127: 18372, 128: 18816, 129: 19302, 130: 19335, 131: 19345, 132: 19379, 133: 19386, 134: 19696, 135: 19782, 136: 19884, 137: 19922, 138: 20081, 139: 20113, 140: 20277, 141: 20435, 142: 20496, 143: 20630, 144: 20815, 145: 20837, 146: 20903, 147: 21260, 148: 21367, 149: 21415, 150: 21446, 151: 21538, 152: 21677, 153: 21773, 154: 21872, 155: 21970, 156: 22213, 157: 22248, 158: 23010, 159: 23079, 160: 23135, 161: 23148, 162: 23152, 163: 23224, 164: 23242, 165: 23294, 166: 23328, 167: 23487, 168: 23508, 169: 23549, 170: 23567, 171: 23700, 172: 23975, 173: 24241, 174: 24592, 175: 24754, 176: 25086, 177: 25170, 178: 25615, 179: 25890, 180: 25928, 181: 26019, 182: 26383, 183: 26599, 184: 26904, 185: 27069, 186: 27318, 187: 27324, 188: 27391, 189: 27529, 190: 27804, 191: 27887, 192: 28135, 193: 28208, 194: 28274, 195: 28372, 196: 28399, 197: 28581, 198: 28692, 199: 28786, 200: 29103, 201: 29505, 202: 29609, 203: 30027, 204: 30316, 205: 30488, 206: 30509, 207: 30731, 208: 30755, 209: 30928, 210: 31013, 211: 31045, 212: 31336, 213: 31518, 214: 31638, 215: 31995, 216: 32378, 217: 32426, 218: 32481, 219: 32516, 220: 32664, 221: 32887, 222: 32943, 223: 32975, 224: 32986, 225: 33020, 226: 33055, 227: 33184, 228: 33324, 229: 33725, 230: 33904, 231: 34024, 232: 34174, 233: 34175, 234: 34195, 235: 34273, 236: 34301, 237: 34442, 238: 34538, 239: 34563, 240: 34637, 241: 34840, 242: 34904, 243: 35039, 244: 35140, 245: 35234, 246: 35272, 247: 35316, 248: 35390, 249: 35547, 250: 35694, 251: 35776, 252: 36042, 253: 36158, 254: 36302, 255: 36492, 256: 36697, 257: 37342, 258: 37409, 259: 37434, 260: 37714, 261: 38087, 262: 38195, 263: 38632, 264: 38687, 265: 38847, 266: 39204, 267: 39330, 268: 39412, 269: 39581, 270: 40029, 271: 40063, 272: 40316, 273: 40459, 274: 40474, 275: 40786, 276: 40860, 277: 40903, 278: 41034, 279: 41138, 280: 41280, 281: 41353, 282: 41581, 283: 41858, 284: 41914, 285: 41949, 286: 42112, 287: 42366, 288: 42442, 289: 42449, 290: 42553, 291: 42593, 292: 42623, 293: 42744, 294: 42847, 295: 43422, 296: 43617, 297: 44600, 298: 44720, 299: 44756, 300: 44790, 301: 44792, 302: 44996, 303: 45304, 304: 45503, 305: 45522, 306: 45716, 307: 45949, 308: 46080, 309: 46113, 310: 46534, 311: 46541, 312: 46733, 313: 46894, 314: 46901, 315: 47005, 316: 47117, 317: 47135, 318: 47230, 319: 47236, 320: 47505, 321: 47509, 322: 47694, 323: 47923, 324: 48155, 325: 48475, 326: 48574, 327: 48859, 328: 49135, 329: 49281, 330: 49565, 331: 49624, 332: 49763, 333: 49802, 334: 49905, 335: 50025, 336: 50292, 337: 50344, 338: 50425, 339: 50455, 340: 50552, 341: 50877, 342: 50897, 343: 51127, 344: 51484, 345: 51587, 346: 51862, 347: 51957, 348: 52144, 349: 52159, 350: 52288, 351: 52339, 352: 52459, 353: 52648, 354: 52724, 355: 52799, 356: 52874, 357: 53056, 358: 53712, 359: 53880, 360: 54071, 361: 54116, 362: 54154, 363: 54275, 364: 54308, 365: 54322, 366: 54460, 367: 55049, 368: 55283, 369: 55394, 370: 55584, 371: 55654, 372: 55717, 373: 55781, 374: 55914, 375: 56185, 376: 56456, 377: 56492, 378: 57015, 379: 57424, 380: 57751, 381: 57901, 382: 57981, 383: 58098, 384: 58184, 385: 58415, 386: 58519, 387: 58666, 388: 58688, 389: 58900, 390: 58951, 391: 59139, 392: 59535, 393: 59566, 394: 59668, 395: 59832, 396: 59870, 397: 60112, 398: 60132, 399: 60192, 400: 61003, 401: 61024, 402: 61078, 403: 61383, 404: 61395, 405: 61424, 406: 61510, 407: 61727, 408: 61839, 409: 61953, 410: 62051, 411: 62132, 412: 62352, 413: 62703, 414: 62717, 415: 62723, 416: 62773, 417: 63050, 418: 63082, 419: 63313, 420: 63362, 421: 63517, 422: 63595, 423: 64009, 424: 64118, 425: 64152, 426: 64369, 427: 64430, 428: 64469, 429: 64978, 430: 65214, 431: 65500, 432: 65639, 433: 65700, 434: 66234, 435: 66330, 436: 66579, 437: 66756, 438: 66776, 439: 66915, 440: 67004, 441: 67046, 442: 67125, 443: 67355, 444: 67429, 445: 67533, 446: 67926, 447: 67960, 448: 67964, 449: 68015, 450: 68110, 451: 68525, 452: 68623, 453: 68747, 454: 68757, 455: 68819, 456: 68828, 457: 68928, 458: 68966, 459: 69035, 460: 69160, 461: 69283, 462: 69338, 463: 69636, 464: 69675, 465: 69676, 466: 69697, 467: 69729, 468: 69919, 469: 69925, 470: 69947, 471: 70366, 472: 70405, 473: 70606, 474: 70776, 475: 70845, 476: 70914, 477: 71035, 478: 71054, 479: 71231, 480: 71281, 481: 71296, 482: 71373, 483: 71609, 484: 71728, 485: 71822, 486: 72008, 487: 72245, 488: 72270, 489: 72336, 490: 72359, 491: 72472, 492: 72517, 493: 72601, 494: 72636, 495: 72887, 496: 73112, 497: 73271, 498: 73344, 499: 73437}\n"
          ]
        }
      ]
    },
    {
      "cell_type": "code",
      "source": [
        "# Mengubah anime_id menjadi list tanpa nilai yang sama\n",
        "anime_ids = df_collab['anime_id'].unique().tolist()\n",
        "\n",
        "# Melakukan proses encoding anime_id\n",
        "anime_to_anime_encoded = {x: i for i, x in enumerate(anime_ids)}\n",
        "\n",
        "# Melakukan proses encoding angka ke anime_id\n",
        "anime_encoded_to_anime = {i: x for i, x in enumerate(anime_ids)}"
      ],
      "metadata": {
        "id": "wBbtALEUSKHE"
      },
      "execution_count": 152,
      "outputs": []
    },
    {
      "cell_type": "code",
      "source": [
        "# Mapping userID ke dataframe user\n",
        "df_collab['user'] = df_collab['user_id'].map(user_to_user_encoded)\n",
        "\n",
        "# Mapping placeID ke dataframe anime\n",
        "df_collab['anime'] = df_collab['anime_id'].map(anime_to_anime_encoded)"
      ],
      "metadata": {
        "colab": {
          "base_uri": "https://localhost:8080/"
        },
        "id": "gqVvnIUuSTLK",
        "outputId": "43bb98ab-fce2-4339-f469-eb7ad0e69ec5"
      },
      "execution_count": 153,
      "outputs": [
        {
          "output_type": "stream",
          "name": "stderr",
          "text": [
            "<ipython-input-153-406e2a3e01cf>:2: SettingWithCopyWarning: \n",
            "A value is trying to be set on a copy of a slice from a DataFrame.\n",
            "Try using .loc[row_indexer,col_indexer] = value instead\n",
            "\n",
            "See the caveats in the documentation: https://pandas.pydata.org/pandas-docs/stable/user_guide/indexing.html#returning-a-view-versus-a-copy\n",
            "  df_collab['user'] = df_collab['user_id'].map(user_to_user_encoded)\n",
            "<ipython-input-153-406e2a3e01cf>:5: SettingWithCopyWarning: \n",
            "A value is trying to be set on a copy of a slice from a DataFrame.\n",
            "Try using .loc[row_indexer,col_indexer] = value instead\n",
            "\n",
            "See the caveats in the documentation: https://pandas.pydata.org/pandas-docs/stable/user_guide/indexing.html#returning-a-view-versus-a-copy\n",
            "  df_collab['anime'] = df_collab['anime_id'].map(anime_to_anime_encoded)\n"
          ]
        }
      ]
    },
    {
      "cell_type": "code",
      "source": [
        "# Mendapatkan jumlah user\n",
        "num_users = len(user_to_user_encoded)\n",
        "print(num_users)\n",
        "\n",
        "# Mendapatkan jumlah resto\n",
        "num_anime = len(anime_encoded_to_anime)\n",
        "print(num_anime)\n",
        "\n",
        "# Mengubah rating menjadi nilai float\n",
        "df_collab['rating'] = df_collab['rating'].values.astype(np.float32)\n",
        "\n",
        "# Nilai minimum rating\n",
        "min_rating = df_collab['rating'].min()\n",
        "\n",
        "# Nilai maksimal rating\n",
        "max_rating = df_collab['rating'].max()\n",
        "\n",
        "print('Number of User: {}, Number of anime: {}, Min Rating: {}, Max Rating: {}'.format(\n",
        "    num_users, num_anime, min_rating, max_rating\n",
        "))"
      ],
      "metadata": {
        "colab": {
          "base_uri": "https://localhost:8080/"
        },
        "id": "yHEyfsh0SouS",
        "outputId": "dd32b86b-1061-45a0-f0b9-217b9d9e0a4b"
      },
      "execution_count": 64,
      "outputs": [
        {
          "output_type": "stream",
          "name": "stdout",
          "text": [
            "500\n",
            "4312\n",
            "Number of User: 500, Number of anime: 4312, Min Rating: 1.0, Max Rating: 10.0\n"
          ]
        },
        {
          "output_type": "stream",
          "name": "stderr",
          "text": [
            "<ipython-input-64-01d4c417b815>:10: SettingWithCopyWarning: \n",
            "A value is trying to be set on a copy of a slice from a DataFrame.\n",
            "Try using .loc[row_indexer,col_indexer] = value instead\n",
            "\n",
            "See the caveats in the documentation: https://pandas.pydata.org/pandas-docs/stable/user_guide/indexing.html#returning-a-view-versus-a-copy\n",
            "  df_collab['rating'] = df_collab['rating'].values.astype(np.float32)\n"
          ]
        }
      ]
    },
    {
      "cell_type": "markdown",
      "source": [
        "### Split dataset"
      ],
      "metadata": {
        "id": "bg3WlJi8THPK"
      }
    },
    {
      "cell_type": "code",
      "source": [
        "# Mengacak dataset\n",
        "df_collab = df_collab.sample(frac=1, random_state=42)\n",
        "df_collab"
      ],
      "metadata": {
        "colab": {
          "base_uri": "https://localhost:8080/",
          "height": 424
        },
        "id": "lpWQuAweTGy3",
        "outputId": "618d814d-d54c-48e3-f981-09f5e332f869"
      },
      "execution_count": 66,
      "outputs": [
        {
          "output_type": "execute_result",
          "data": {
            "text/plain": [
              "         user_id  anime_id  rating  user  anime\n",
              "2157716    20903     23283    8.00   146    107\n",
              "1531247    14776     30503    8.00   103   1182\n",
              "3578635    33184     10087    9.00   227     37\n",
              "5614824    52724       853    9.00   354    196\n",
              "6669352    61510      3228    8.00   406    276\n",
              "...          ...       ...     ...   ...    ...\n",
              "1014039     9575       903    9.00    66    207\n",
              "7689329    72245        20    8.00   487    122\n",
              "2526007    23975     30901    5.00   172   3334\n",
              "7384332    68828     27899    9.00   456    783\n",
              "3194639    29505     12531   10.00   201   1337\n",
              "\n",
              "[44111 rows x 5 columns]"
            ],
            "text/html": [
              "\n",
              "  <div id=\"df-4fbff8c6-8f3a-46eb-b409-e6a6ce6e436d\" class=\"colab-df-container\">\n",
              "    <div>\n",
              "<style scoped>\n",
              "    .dataframe tbody tr th:only-of-type {\n",
              "        vertical-align: middle;\n",
              "    }\n",
              "\n",
              "    .dataframe tbody tr th {\n",
              "        vertical-align: top;\n",
              "    }\n",
              "\n",
              "    .dataframe thead th {\n",
              "        text-align: right;\n",
              "    }\n",
              "</style>\n",
              "<table border=\"1\" class=\"dataframe\">\n",
              "  <thead>\n",
              "    <tr style=\"text-align: right;\">\n",
              "      <th></th>\n",
              "      <th>user_id</th>\n",
              "      <th>anime_id</th>\n",
              "      <th>rating</th>\n",
              "      <th>user</th>\n",
              "      <th>anime</th>\n",
              "    </tr>\n",
              "  </thead>\n",
              "  <tbody>\n",
              "    <tr>\n",
              "      <th>2157716</th>\n",
              "      <td>20903</td>\n",
              "      <td>23283</td>\n",
              "      <td>8.00</td>\n",
              "      <td>146</td>\n",
              "      <td>107</td>\n",
              "    </tr>\n",
              "    <tr>\n",
              "      <th>1531247</th>\n",
              "      <td>14776</td>\n",
              "      <td>30503</td>\n",
              "      <td>8.00</td>\n",
              "      <td>103</td>\n",
              "      <td>1182</td>\n",
              "    </tr>\n",
              "    <tr>\n",
              "      <th>3578635</th>\n",
              "      <td>33184</td>\n",
              "      <td>10087</td>\n",
              "      <td>9.00</td>\n",
              "      <td>227</td>\n",
              "      <td>37</td>\n",
              "    </tr>\n",
              "    <tr>\n",
              "      <th>5614824</th>\n",
              "      <td>52724</td>\n",
              "      <td>853</td>\n",
              "      <td>9.00</td>\n",
              "      <td>354</td>\n",
              "      <td>196</td>\n",
              "    </tr>\n",
              "    <tr>\n",
              "      <th>6669352</th>\n",
              "      <td>61510</td>\n",
              "      <td>3228</td>\n",
              "      <td>8.00</td>\n",
              "      <td>406</td>\n",
              "      <td>276</td>\n",
              "    </tr>\n",
              "    <tr>\n",
              "      <th>...</th>\n",
              "      <td>...</td>\n",
              "      <td>...</td>\n",
              "      <td>...</td>\n",
              "      <td>...</td>\n",
              "      <td>...</td>\n",
              "    </tr>\n",
              "    <tr>\n",
              "      <th>1014039</th>\n",
              "      <td>9575</td>\n",
              "      <td>903</td>\n",
              "      <td>9.00</td>\n",
              "      <td>66</td>\n",
              "      <td>207</td>\n",
              "    </tr>\n",
              "    <tr>\n",
              "      <th>7689329</th>\n",
              "      <td>72245</td>\n",
              "      <td>20</td>\n",
              "      <td>8.00</td>\n",
              "      <td>487</td>\n",
              "      <td>122</td>\n",
              "    </tr>\n",
              "    <tr>\n",
              "      <th>2526007</th>\n",
              "      <td>23975</td>\n",
              "      <td>30901</td>\n",
              "      <td>5.00</td>\n",
              "      <td>172</td>\n",
              "      <td>3334</td>\n",
              "    </tr>\n",
              "    <tr>\n",
              "      <th>7384332</th>\n",
              "      <td>68828</td>\n",
              "      <td>27899</td>\n",
              "      <td>9.00</td>\n",
              "      <td>456</td>\n",
              "      <td>783</td>\n",
              "    </tr>\n",
              "    <tr>\n",
              "      <th>3194639</th>\n",
              "      <td>29505</td>\n",
              "      <td>12531</td>\n",
              "      <td>10.00</td>\n",
              "      <td>201</td>\n",
              "      <td>1337</td>\n",
              "    </tr>\n",
              "  </tbody>\n",
              "</table>\n",
              "<p>44111 rows × 5 columns</p>\n",
              "</div>\n",
              "    <div class=\"colab-df-buttons\">\n",
              "\n",
              "  <div class=\"colab-df-container\">\n",
              "    <button class=\"colab-df-convert\" onclick=\"convertToInteractive('df-4fbff8c6-8f3a-46eb-b409-e6a6ce6e436d')\"\n",
              "            title=\"Convert this dataframe to an interactive table.\"\n",
              "            style=\"display:none;\">\n",
              "\n",
              "  <svg xmlns=\"http://www.w3.org/2000/svg\" height=\"24px\" viewBox=\"0 -960 960 960\">\n",
              "    <path d=\"M120-120v-720h720v720H120Zm60-500h600v-160H180v160Zm220 220h160v-160H400v160Zm0 220h160v-160H400v160ZM180-400h160v-160H180v160Zm440 0h160v-160H620v160ZM180-180h160v-160H180v160Zm440 0h160v-160H620v160Z\"/>\n",
              "  </svg>\n",
              "    </button>\n",
              "\n",
              "  <style>\n",
              "    .colab-df-container {\n",
              "      display:flex;\n",
              "      gap: 12px;\n",
              "    }\n",
              "\n",
              "    .colab-df-convert {\n",
              "      background-color: #E8F0FE;\n",
              "      border: none;\n",
              "      border-radius: 50%;\n",
              "      cursor: pointer;\n",
              "      display: none;\n",
              "      fill: #1967D2;\n",
              "      height: 32px;\n",
              "      padding: 0 0 0 0;\n",
              "      width: 32px;\n",
              "    }\n",
              "\n",
              "    .colab-df-convert:hover {\n",
              "      background-color: #E2EBFA;\n",
              "      box-shadow: 0px 1px 2px rgba(60, 64, 67, 0.3), 0px 1px 3px 1px rgba(60, 64, 67, 0.15);\n",
              "      fill: #174EA6;\n",
              "    }\n",
              "\n",
              "    .colab-df-buttons div {\n",
              "      margin-bottom: 4px;\n",
              "    }\n",
              "\n",
              "    [theme=dark] .colab-df-convert {\n",
              "      background-color: #3B4455;\n",
              "      fill: #D2E3FC;\n",
              "    }\n",
              "\n",
              "    [theme=dark] .colab-df-convert:hover {\n",
              "      background-color: #434B5C;\n",
              "      box-shadow: 0px 1px 3px 1px rgba(0, 0, 0, 0.15);\n",
              "      filter: drop-shadow(0px 1px 2px rgba(0, 0, 0, 0.3));\n",
              "      fill: #FFFFFF;\n",
              "    }\n",
              "  </style>\n",
              "\n",
              "    <script>\n",
              "      const buttonEl =\n",
              "        document.querySelector('#df-4fbff8c6-8f3a-46eb-b409-e6a6ce6e436d button.colab-df-convert');\n",
              "      buttonEl.style.display =\n",
              "        google.colab.kernel.accessAllowed ? 'block' : 'none';\n",
              "\n",
              "      async function convertToInteractive(key) {\n",
              "        const element = document.querySelector('#df-4fbff8c6-8f3a-46eb-b409-e6a6ce6e436d');\n",
              "        const dataTable =\n",
              "          await google.colab.kernel.invokeFunction('convertToInteractive',\n",
              "                                                    [key], {});\n",
              "        if (!dataTable) return;\n",
              "\n",
              "        const docLinkHtml = 'Like what you see? Visit the ' +\n",
              "          '<a target=\"_blank\" href=https://colab.research.google.com/notebooks/data_table.ipynb>data table notebook</a>'\n",
              "          + ' to learn more about interactive tables.';\n",
              "        element.innerHTML = '';\n",
              "        dataTable['output_type'] = 'display_data';\n",
              "        await google.colab.output.renderOutput(dataTable, element);\n",
              "        const docLink = document.createElement('div');\n",
              "        docLink.innerHTML = docLinkHtml;\n",
              "        element.appendChild(docLink);\n",
              "      }\n",
              "    </script>\n",
              "  </div>\n",
              "\n",
              "\n",
              "    <div id=\"df-86fc99f8-cb65-40f6-a1e4-6c1ff9399958\">\n",
              "      <button class=\"colab-df-quickchart\" onclick=\"quickchart('df-86fc99f8-cb65-40f6-a1e4-6c1ff9399958')\"\n",
              "                title=\"Suggest charts\"\n",
              "                style=\"display:none;\">\n",
              "\n",
              "<svg xmlns=\"http://www.w3.org/2000/svg\" height=\"24px\"viewBox=\"0 0 24 24\"\n",
              "     width=\"24px\">\n",
              "    <g>\n",
              "        <path d=\"M19 3H5c-1.1 0-2 .9-2 2v14c0 1.1.9 2 2 2h14c1.1 0 2-.9 2-2V5c0-1.1-.9-2-2-2zM9 17H7v-7h2v7zm4 0h-2V7h2v10zm4 0h-2v-4h2v4z\"/>\n",
              "    </g>\n",
              "</svg>\n",
              "      </button>\n",
              "\n",
              "<style>\n",
              "  .colab-df-quickchart {\n",
              "      --bg-color: #E8F0FE;\n",
              "      --fill-color: #1967D2;\n",
              "      --hover-bg-color: #E2EBFA;\n",
              "      --hover-fill-color: #174EA6;\n",
              "      --disabled-fill-color: #AAA;\n",
              "      --disabled-bg-color: #DDD;\n",
              "  }\n",
              "\n",
              "  [theme=dark] .colab-df-quickchart {\n",
              "      --bg-color: #3B4455;\n",
              "      --fill-color: #D2E3FC;\n",
              "      --hover-bg-color: #434B5C;\n",
              "      --hover-fill-color: #FFFFFF;\n",
              "      --disabled-bg-color: #3B4455;\n",
              "      --disabled-fill-color: #666;\n",
              "  }\n",
              "\n",
              "  .colab-df-quickchart {\n",
              "    background-color: var(--bg-color);\n",
              "    border: none;\n",
              "    border-radius: 50%;\n",
              "    cursor: pointer;\n",
              "    display: none;\n",
              "    fill: var(--fill-color);\n",
              "    height: 32px;\n",
              "    padding: 0;\n",
              "    width: 32px;\n",
              "  }\n",
              "\n",
              "  .colab-df-quickchart:hover {\n",
              "    background-color: var(--hover-bg-color);\n",
              "    box-shadow: 0 1px 2px rgba(60, 64, 67, 0.3), 0 1px 3px 1px rgba(60, 64, 67, 0.15);\n",
              "    fill: var(--button-hover-fill-color);\n",
              "  }\n",
              "\n",
              "  .colab-df-quickchart-complete:disabled,\n",
              "  .colab-df-quickchart-complete:disabled:hover {\n",
              "    background-color: var(--disabled-bg-color);\n",
              "    fill: var(--disabled-fill-color);\n",
              "    box-shadow: none;\n",
              "  }\n",
              "\n",
              "  .colab-df-spinner {\n",
              "    border: 2px solid var(--fill-color);\n",
              "    border-color: transparent;\n",
              "    border-bottom-color: var(--fill-color);\n",
              "    animation:\n",
              "      spin 1s steps(1) infinite;\n",
              "  }\n",
              "\n",
              "  @keyframes spin {\n",
              "    0% {\n",
              "      border-color: transparent;\n",
              "      border-bottom-color: var(--fill-color);\n",
              "      border-left-color: var(--fill-color);\n",
              "    }\n",
              "    20% {\n",
              "      border-color: transparent;\n",
              "      border-left-color: var(--fill-color);\n",
              "      border-top-color: var(--fill-color);\n",
              "    }\n",
              "    30% {\n",
              "      border-color: transparent;\n",
              "      border-left-color: var(--fill-color);\n",
              "      border-top-color: var(--fill-color);\n",
              "      border-right-color: var(--fill-color);\n",
              "    }\n",
              "    40% {\n",
              "      border-color: transparent;\n",
              "      border-right-color: var(--fill-color);\n",
              "      border-top-color: var(--fill-color);\n",
              "    }\n",
              "    60% {\n",
              "      border-color: transparent;\n",
              "      border-right-color: var(--fill-color);\n",
              "    }\n",
              "    80% {\n",
              "      border-color: transparent;\n",
              "      border-right-color: var(--fill-color);\n",
              "      border-bottom-color: var(--fill-color);\n",
              "    }\n",
              "    90% {\n",
              "      border-color: transparent;\n",
              "      border-bottom-color: var(--fill-color);\n",
              "    }\n",
              "  }\n",
              "</style>\n",
              "\n",
              "      <script>\n",
              "        async function quickchart(key) {\n",
              "          const quickchartButtonEl =\n",
              "            document.querySelector('#' + key + ' button');\n",
              "          quickchartButtonEl.disabled = true;  // To prevent multiple clicks.\n",
              "          quickchartButtonEl.classList.add('colab-df-spinner');\n",
              "          try {\n",
              "            const charts = await google.colab.kernel.invokeFunction(\n",
              "                'suggestCharts', [key], {});\n",
              "          } catch (error) {\n",
              "            console.error('Error during call to suggestCharts:', error);\n",
              "          }\n",
              "          quickchartButtonEl.classList.remove('colab-df-spinner');\n",
              "          quickchartButtonEl.classList.add('colab-df-quickchart-complete');\n",
              "        }\n",
              "        (() => {\n",
              "          let quickchartButtonEl =\n",
              "            document.querySelector('#df-86fc99f8-cb65-40f6-a1e4-6c1ff9399958 button');\n",
              "          quickchartButtonEl.style.display =\n",
              "            google.colab.kernel.accessAllowed ? 'block' : 'none';\n",
              "        })();\n",
              "      </script>\n",
              "    </div>\n",
              "\n",
              "  <div id=\"id_2ee3177e-ba4e-4416-8f48-93aa0ec10ed9\">\n",
              "    <style>\n",
              "      .colab-df-generate {\n",
              "        background-color: #E8F0FE;\n",
              "        border: none;\n",
              "        border-radius: 50%;\n",
              "        cursor: pointer;\n",
              "        display: none;\n",
              "        fill: #1967D2;\n",
              "        height: 32px;\n",
              "        padding: 0 0 0 0;\n",
              "        width: 32px;\n",
              "      }\n",
              "\n",
              "      .colab-df-generate:hover {\n",
              "        background-color: #E2EBFA;\n",
              "        box-shadow: 0px 1px 2px rgba(60, 64, 67, 0.3), 0px 1px 3px 1px rgba(60, 64, 67, 0.15);\n",
              "        fill: #174EA6;\n",
              "      }\n",
              "\n",
              "      [theme=dark] .colab-df-generate {\n",
              "        background-color: #3B4455;\n",
              "        fill: #D2E3FC;\n",
              "      }\n",
              "\n",
              "      [theme=dark] .colab-df-generate:hover {\n",
              "        background-color: #434B5C;\n",
              "        box-shadow: 0px 1px 3px 1px rgba(0, 0, 0, 0.15);\n",
              "        filter: drop-shadow(0px 1px 2px rgba(0, 0, 0, 0.3));\n",
              "        fill: #FFFFFF;\n",
              "      }\n",
              "    </style>\n",
              "    <button class=\"colab-df-generate\" onclick=\"generateWithVariable('df_collab')\"\n",
              "            title=\"Generate code using this dataframe.\"\n",
              "            style=\"display:none;\">\n",
              "\n",
              "  <svg xmlns=\"http://www.w3.org/2000/svg\" height=\"24px\"viewBox=\"0 0 24 24\"\n",
              "       width=\"24px\">\n",
              "    <path d=\"M7,19H8.4L18.45,9,17,7.55,7,17.6ZM5,21V16.75L18.45,3.32a2,2,0,0,1,2.83,0l1.4,1.43a1.91,1.91,0,0,1,.58,1.4,1.91,1.91,0,0,1-.58,1.4L9.25,21ZM18.45,9,17,7.55Zm-12,3A5.31,5.31,0,0,0,4.9,8.1,5.31,5.31,0,0,0,1,6.5,5.31,5.31,0,0,0,4.9,4.9,5.31,5.31,0,0,0,6.5,1,5.31,5.31,0,0,0,8.1,4.9,5.31,5.31,0,0,0,12,6.5,5.46,5.46,0,0,0,6.5,12Z\"/>\n",
              "  </svg>\n",
              "    </button>\n",
              "    <script>\n",
              "      (() => {\n",
              "      const buttonEl =\n",
              "        document.querySelector('#id_2ee3177e-ba4e-4416-8f48-93aa0ec10ed9 button.colab-df-generate');\n",
              "      buttonEl.style.display =\n",
              "        google.colab.kernel.accessAllowed ? 'block' : 'none';\n",
              "\n",
              "      buttonEl.onclick = () => {\n",
              "        google.colab.notebook.generateWithVariable('df_collab');\n",
              "      }\n",
              "      })();\n",
              "    </script>\n",
              "  </div>\n",
              "\n",
              "    </div>\n",
              "  </div>\n"
            ],
            "application/vnd.google.colaboratory.intrinsic+json": {
              "type": "dataframe",
              "variable_name": "df_collab",
              "summary": "{\n  \"name\": \"df_collab\",\n  \"rows\": 44111,\n  \"fields\": [\n    {\n      \"column\": \"user_id\",\n      \"properties\": {\n        \"dtype\": \"number\",\n        \"std\": 20590,\n        \"min\": 459,\n        \"max\": 73437,\n        \"num_unique_values\": 500,\n        \"samples\": [\n          53056,\n          28786,\n          73271\n        ],\n        \"semantic_type\": \"\",\n        \"description\": \"\"\n      }\n    },\n    {\n      \"column\": \"anime_id\",\n      \"properties\": {\n        \"dtype\": \"number\",\n        \"std\": 8680,\n        \"min\": 1,\n        \"max\": 34324,\n        \"num_unique_values\": 4312,\n        \"samples\": [\n          10301,\n          6709,\n          22777\n        ],\n        \"semantic_type\": \"\",\n        \"description\": \"\"\n      }\n    },\n    {\n      \"column\": \"rating\",\n      \"properties\": {\n        \"dtype\": \"float32\",\n        \"num_unique_values\": 10,\n        \"samples\": [\n          4.0,\n          9.0,\n          6.0\n        ],\n        \"semantic_type\": \"\",\n        \"description\": \"\"\n      }\n    },\n    {\n      \"column\": \"user\",\n      \"properties\": {\n        \"dtype\": \"number\",\n        \"std\": 135,\n        \"min\": 0,\n        \"max\": 499,\n        \"num_unique_values\": 500,\n        \"samples\": [\n          357,\n          199,\n          497\n        ],\n        \"semantic_type\": \"\",\n        \"description\": \"\"\n      }\n    },\n    {\n      \"column\": \"anime\",\n      \"properties\": {\n        \"dtype\": \"number\",\n        \"std\": 956,\n        \"min\": 0,\n        \"max\": 4311,\n        \"num_unique_values\": 4312,\n        \"samples\": [\n          3152,\n          4120,\n          1886\n        ],\n        \"semantic_type\": \"\",\n        \"description\": \"\"\n      }\n    }\n  ]\n}"
            }
          },
          "metadata": {},
          "execution_count": 66
        }
      ]
    },
    {
      "cell_type": "code",
      "source": [
        "# Membuat variabel x untuk mencocokkan data user dan resto menjadi satu value\n",
        "x = df_collab[['user', 'anime']].values\n",
        "\n",
        "# Membuat variabel y untuk membuat rating dari hasil\n",
        "y = df_collab['rating'].apply(lambda x: (x - min_rating) / (max_rating - min_rating)).values\n",
        "\n",
        "# Membagi menjadi 80% data train dan 20% data validasi\n",
        "train_indices = int(0.8 * df_collab.shape[0])\n",
        "x_train, x_val, y_train, y_val = (\n",
        "    x[:train_indices],\n",
        "    x[train_indices:],\n",
        "    y[:train_indices],\n",
        "    y[train_indices:]\n",
        ")\n",
        "\n",
        "print(x, y)"
      ],
      "metadata": {
        "colab": {
          "base_uri": "https://localhost:8080/"
        },
        "id": "WhEenOf0TdA-",
        "outputId": "37508e10-a3e9-4906-b8f1-ed2eb490272b"
      },
      "execution_count": 67,
      "outputs": [
        {
          "output_type": "stream",
          "name": "stdout",
          "text": [
            "[[ 146  107]\n",
            " [ 103 1182]\n",
            " [ 227   37]\n",
            " ...\n",
            " [ 172 3334]\n",
            " [ 456  783]\n",
            " [ 201 1337]] [0.7777778  0.7777778  0.8888889  ... 0.44444445 0.8888889  1.        ]\n"
          ]
        }
      ]
    },
    {
      "cell_type": "markdown",
      "source": [
        "### Training"
      ],
      "metadata": {
        "id": "FuguMEIxTjEh"
      }
    },
    {
      "cell_type": "code",
      "source": [
        "class RecommenderNet(tf.keras.Model):\n",
        "\n",
        "  # Insialisasi fungsi\n",
        "  def __init__(self, num_users, num_anime, embedding_size, **kwargs):\n",
        "    super(RecommenderNet, self).__init__(**kwargs)\n",
        "    self.num_users = num_users\n",
        "    self.num_anime = num_anime\n",
        "    self.embedding_size = embedding_size\n",
        "    self.user_embedding = layers.Embedding( # layer embedding user\n",
        "        num_users,\n",
        "        embedding_size,\n",
        "        embeddings_initializer = 'he_normal',\n",
        "        embeddings_regularizer = keras.regularizers.l2(1e-6)\n",
        "    )\n",
        "    self.user_bias = layers.Embedding(num_users, 1) # layer embedding user bias\n",
        "    self.anime_embedding = layers.Embedding( # layer embeddings anime\n",
        "        num_anime,\n",
        "        embedding_size,\n",
        "        embeddings_initializer = 'he_normal',\n",
        "        embeddings_regularizer = keras.regularizers.l2(1e-6)\n",
        "    )\n",
        "    self.anime_bias = layers.Embedding(num_anime, 1) # layer embedding anime bias\n",
        "\n",
        "  def call(self, inputs):\n",
        "    user_vector = self.user_embedding(inputs[:,0]) # memanggil layer embedding 1\n",
        "    user_bias = self.user_bias(inputs[:, 0]) # memanggil layer embedding 2\n",
        "    anime_vector = self.anime_embedding(inputs[:, 1]) # memanggil layer embedding 3\n",
        "    anime_bias = self.anime_bias(inputs[:, 1]) # memanggil layer embedding 4\n",
        "\n",
        "    dot_user_anime = tf.tensordot(user_vector, anime_vector, 2)\n",
        "\n",
        "    x = dot_user_anime + user_bias + anime_bias\n",
        "\n",
        "    return tf.nn.sigmoid(x) # activation sigmoid"
      ],
      "metadata": {
        "id": "ZJPDp9y0ThLx"
      },
      "execution_count": 70,
      "outputs": []
    },
    {
      "cell_type": "code",
      "source": [
        "model = RecommenderNet(num_users, num_anime, 50) # inisialisasi model\n",
        "\n",
        "# model compile\n",
        "model.compile(\n",
        "    loss = tf.keras.losses.BinaryCrossentropy(),\n",
        "    optimizer = keras.optimizers.Adam(learning_rate=0.001),\n",
        "    metrics=[tf.keras.metrics.RootMeanSquaredError()]\n",
        ")"
      ],
      "metadata": {
        "id": "LX5o5-B1Tuej"
      },
      "execution_count": 71,
      "outputs": []
    },
    {
      "cell_type": "code",
      "source": [
        "# Memulai training\n",
        "\n",
        "history = model.fit(\n",
        "    x = x_train,\n",
        "    y = y_train,\n",
        "    batch_size = 8,\n",
        "    epochs = 10,\n",
        "    validation_data = (x_val, y_val)\n",
        ")"
      ],
      "metadata": {
        "colab": {
          "base_uri": "https://localhost:8080/"
        },
        "id": "GPAPjPMlTx9A",
        "outputId": "b4afd353-3ad6-43f8-faf1-ccd9d8c77e5c"
      },
      "execution_count": 72,
      "outputs": [
        {
          "output_type": "stream",
          "name": "stdout",
          "text": [
            "Epoch 1/10\n",
            "\u001b[1m4411/4411\u001b[0m \u001b[32m━━━━━━━━━━━━━━━━━━━━\u001b[0m\u001b[37m\u001b[0m \u001b[1m14s\u001b[0m 3ms/step - loss: 0.6259 - root_mean_squared_error: 0.2445 - val_loss: 0.5449 - val_root_mean_squared_error: 0.1552\n",
            "Epoch 2/10\n",
            "\u001b[1m4411/4411\u001b[0m \u001b[32m━━━━━━━━━━━━━━━━━━━━\u001b[0m\u001b[37m\u001b[0m \u001b[1m13s\u001b[0m 3ms/step - loss: 0.5383 - root_mean_squared_error: 0.1475 - val_loss: 0.5384 - val_root_mean_squared_error: 0.1477\n",
            "Epoch 3/10\n",
            "\u001b[1m4411/4411\u001b[0m \u001b[32m━━━━━━━━━━━━━━━━━━━━\u001b[0m\u001b[37m\u001b[0m \u001b[1m13s\u001b[0m 3ms/step - loss: 0.5316 - root_mean_squared_error: 0.1393 - val_loss: 0.5355 - val_root_mean_squared_error: 0.1443\n",
            "Epoch 4/10\n",
            "\u001b[1m4411/4411\u001b[0m \u001b[32m━━━━━━━━━━━━━━━━━━━━\u001b[0m\u001b[37m\u001b[0m \u001b[1m13s\u001b[0m 3ms/step - loss: 0.5282 - root_mean_squared_error: 0.1360 - val_loss: 0.5335 - val_root_mean_squared_error: 0.1421\n",
            "Epoch 5/10\n",
            "\u001b[1m4411/4411\u001b[0m \u001b[32m━━━━━━━━━━━━━━━━━━━━\u001b[0m\u001b[37m\u001b[0m \u001b[1m13s\u001b[0m 3ms/step - loss: 0.5241 - root_mean_squared_error: 0.1318 - val_loss: 0.5332 - val_root_mean_squared_error: 0.1421\n",
            "Epoch 6/10\n",
            "\u001b[1m4411/4411\u001b[0m \u001b[32m━━━━━━━━━━━━━━━━━━━━\u001b[0m\u001b[37m\u001b[0m \u001b[1m13s\u001b[0m 3ms/step - loss: 0.5262 - root_mean_squared_error: 0.1310 - val_loss: 0.5325 - val_root_mean_squared_error: 0.1411\n",
            "Epoch 7/10\n",
            "\u001b[1m4411/4411\u001b[0m \u001b[32m━━━━━━━━━━━━━━━━━━━━\u001b[0m\u001b[37m\u001b[0m \u001b[1m13s\u001b[0m 3ms/step - loss: 0.5243 - root_mean_squared_error: 0.1285 - val_loss: 0.5321 - val_root_mean_squared_error: 0.1407\n",
            "Epoch 8/10\n",
            "\u001b[1m4411/4411\u001b[0m \u001b[32m━━━━━━━━━━━━━━━━━━━━\u001b[0m\u001b[37m\u001b[0m \u001b[1m13s\u001b[0m 3ms/step - loss: 0.5230 - root_mean_squared_error: 0.1270 - val_loss: 0.5321 - val_root_mean_squared_error: 0.1408\n",
            "Epoch 9/10\n",
            "\u001b[1m4411/4411\u001b[0m \u001b[32m━━━━━━━━━━━━━━━━━━━━\u001b[0m\u001b[37m\u001b[0m \u001b[1m13s\u001b[0m 3ms/step - loss: 0.5227 - root_mean_squared_error: 0.1268 - val_loss: 0.5323 - val_root_mean_squared_error: 0.1412\n",
            "Epoch 10/10\n",
            "\u001b[1m4411/4411\u001b[0m \u001b[32m━━━━━━━━━━━━━━━━━━━━\u001b[0m\u001b[37m\u001b[0m \u001b[1m13s\u001b[0m 3ms/step - loss: 0.5234 - root_mean_squared_error: 0.1254 - val_loss: 0.5313 - val_root_mean_squared_error: 0.1398\n"
          ]
        }
      ]
    },
    {
      "cell_type": "markdown",
      "source": [
        "### Visualisasi Metrik"
      ],
      "metadata": {
        "id": "8qLbgD1eYgU1"
      }
    },
    {
      "cell_type": "code",
      "source": [
        "plt.plot(history.history['root_mean_squared_error'])\n",
        "plt.plot(history.history['val_root_mean_squared_error'])\n",
        "plt.title('model_metrics')\n",
        "plt.ylabel('root_mean_squared_error')\n",
        "plt.xlabel('epoch')\n",
        "plt.legend(['train', 'test'], loc='upper left')\n",
        "plt.show()"
      ],
      "metadata": {
        "colab": {
          "base_uri": "https://localhost:8080/",
          "height": 472
        },
        "id": "ibJ3qtAVYeEo",
        "outputId": "e9b09b3e-c3d3-47ef-9c0b-8784a0cf6e54"
      },
      "execution_count": 73,
      "outputs": [
        {
          "output_type": "display_data",
          "data": {
            "text/plain": [
              "<Figure size 640x480 with 1 Axes>"
            ],
            "image/png": "[encoded data removed]"
          },
          "metadata": {}
        }
      ]
    },
    {
      "cell_type": "markdown",
      "source": [
        "### Rekomendasi Anime"
      ],
      "metadata": {
        "id": "v6igg7MGYjaV"
      }
    },
    {
      "cell_type": "code",
      "source": [
        "anime_df = anime.copy()\n",
        "df = rating\n",
        "# Mengambil sample user and validate\n",
        "user_id = df_collab['user_id'].sample(1).iloc[0]\n",
        "if user_id not in user_to_user_encoded:\n",
        "    raise ValueError(f\"User ID {user_id} not found in user_to_user_encoded mapping. Please check your data.\")\n",
        "\n",
        "# Get anime watched by the user\n",
        "anime_watched_by_user = df_collab[df_collab['user_id'] == user_id]\n",
        "\n",
        "# Get anime not watched by the user\n",
        "anime_not_watched = anime_df[~anime_df['anime_id'].isin(anime_watched_by_user['anime_id'].values)]['anime_id']\n",
        "anime_not_watched = list(set(anime_not_watched).intersection(set(anime_to_anime_encoded.keys())))\n",
        "\n",
        "# Convert anime_not_watched to encoded values\n",
        "anime_not_watched_encoded = [anime_to_anime_encoded[x] for x in anime_not_watched]\n",
        "\n",
        "# Get encoded user ID\n",
        "user_encoder = user_to_user_encoded[user_id]  #agar tidak none\n",
        "\n",
        "# Create user_anime_array with proper shape and dtype\n",
        "user_anime_array = np.array(\n",
        "    [[user_encoder, anime_id] for anime_id in anime_not_watched_encoded],\n",
        "    dtype=np.int32  # Ensure integer dtype\n",
        ")\n",
        "\n",
        "# Verify no None values\n",
        "if np.any(user_anime_array == None):\n",
        "    raise ValueError(\"user_anime_array contains None values. Check user_to_user_encoded and anime_to_anime_encoded.\")\n",
        "print(user_anime_array)"
      ],
      "metadata": {
        "colab": {
          "base_uri": "https://localhost:8080/"
        },
        "id": "D3cNq0MkYh5w",
        "outputId": "1f8005d7-9627-49b6-b364-47cea1676d75"
      },
      "execution_count": 74,
      "outputs": [
        {
          "output_type": "stream",
          "name": "stdout",
          "text": [
            "[[ 274 2515]\n",
            " [ 274 1722]\n",
            " [ 274  738]\n",
            " ...\n",
            " [ 274 3499]\n",
            " [ 274 3096]\n",
            " [ 274 3357]]\n"
          ]
        }
      ]
    },
    {
      "cell_type": "code",
      "source": [
        "# Predict ratings\n",
        "ratings = model.predict(user_anime_array).flatten()\n",
        "\n",
        "# Get top 10 recommendations\n",
        "top_ratings_indices = ratings.argsort()[-10:][::-1]\n",
        "recommended_anime_ids = [\n",
        "    anime_encoded_to_anime[anime_not_watched_encoded[x]] for x in top_ratings_indices\n",
        "]\n",
        "\n",
        "# Print recommendations\n",
        "print(f'Showing recommendations for user: {user_id}')\n",
        "print('===' * 9)\n",
        "print('Anime with high ratings from user')\n",
        "print('----' * 8)\n",
        "\n",
        "top_anime_user = (\n",
        "    anime_watched_by_user.sort_values(by='rating', ascending=False)\n",
        "    .head(5)\n",
        "    .anime_id.values\n",
        ")\n",
        "\n",
        "anime_df_rows = anime_df[anime_df['anime_id'].isin(top_anime_user)]\n",
        "for row in anime_df_rows.itertuples():\n",
        "    print(f'{row.name}: {row.genre}')\n",
        "\n",
        "print('----' * 8)\n",
        "print('Top 10 anime recommendations')\n",
        "print('----' * 8)\n",
        "\n",
        "recommended_anime = anime_df[anime_df['anime_id'].isin(recommended_anime_ids)]\n",
        "for row in recommended_anime.itertuples():\n",
        "    print(f'{row.name}: {row.genre}')"
      ],
      "metadata": {
        "colab": {
          "base_uri": "https://localhost:8080/"
        },
        "id": "aShZt53gZ-r1",
        "outputId": "722be7c0-9c56-4622-89c5-8fbc1ac64afb"
      },
      "execution_count": 75,
      "outputs": [
        {
          "output_type": "stream",
          "name": "stdout",
          "text": [
            "\u001b[1m99/99\u001b[0m \u001b[32m━━━━━━━━━━━━━━━━━━━━\u001b[0m\u001b[37m\u001b[0m \u001b[1m0s\u001b[0m 2ms/step\n",
            "Showing recommendations for user: 40474\n",
            "===========================\n",
            "Anime with high ratings from user\n",
            "--------------------------------\n",
            "Shokugeki no Souma: Ecchi, School, Shounen\n",
            "Bakemonogatari: Mystery, Romance, Supernatural, Vampire\n",
            "Kaichou wa Maid-sama!: Comedy, Romance, School, Shoujo\n",
            "Nisemonogatari: Comedy, Mystery, Supernatural\n",
            "Sword Art Online: Action, Adventure, Fantasy, Game, Romance\n",
            "--------------------------------\n",
            "Top 10 anime recommendations\n",
            "--------------------------------\n",
            "Hunter x Hunter (2011): Action, Adventure, Shounen, Super Power\n",
            "Gintama: Action, Comedy, Historical, Parody, Samurai, Sci-Fi, Shounen\n",
            "Code Geass: Hangyaku no Lelouch R2: Action, Drama, Mecha, Military, Sci-Fi, Super Power\n",
            "Code Geass: Hangyaku no Lelouch: Action, Mecha, Military, School, Sci-Fi, Super Power\n",
            "Hajime no Ippo: New Challenger: Comedy, Drama, Shounen, Sports\n",
            "Monster: Drama, Horror, Mystery, Police, Psychological, Seinen, Thriller\n",
            "Kara no Kyoukai 5: Mujun Rasen: Action, Drama, Mystery, Romance, Supernatural, Thriller\n",
            "Aria The Origination: Fantasy, Sci-Fi, Shounen, Slice of Life\n",
            "Kara no Kyoukai 7: Satsujin Kousatsu (Kou): Action, Mystery, Romance, Supernatural, Thriller\n",
            "Planetes: Drama, Romance, Sci-Fi, Seinen, Space\n"
          ]
        }
      ]
    },
    {
      "cell_type": "markdown",
      "source": [
        "# Referensi\n",
        "\n",
        "[1] Gufy. How Netflix’s Recommendation Engine Drives Success. Diakses pada 1 Juni 2025 dari https://www.gufy.com.au/post/netflixs-recommendation-engine#:~:text=In%20the%20world%20of%20streaming,also%20significantly%20improved%20user%20retention.\n",
        "\n",
        "[2] MyAnimeList Stats. (2024). Diakses pada 1 Juni 2025 dari https://myanimelist.net/topanime.php?limit=20000\n",
        "\n",
        "[3] Ricci, F., Rokach, L., & Shapira, B. (2011). Recommender Systems Handbook. Springer.\n",
        "\n",
        "[4] Dicoding. Diakses pada 1 Juni 2025 dari https://www.dicoding.com/academies/319/corridor"
      ],
      "metadata": {
        "id": "Xl5Zub1pnzec"
      }
    }
  ],
  "metadata": {
    "language_info": {
      "name": "python"
    },
    "colab": {
      "provenance": [],
      "machine_shape": "hm",
      "gpuType": "V28"
    },
    "kernelspec": {
      "name": "python3",
      "display_name": "Python 3"
    },
    "accelerator": "TPU"
  },
  "nbformat": 4,
  "nbformat_minor": 0
}